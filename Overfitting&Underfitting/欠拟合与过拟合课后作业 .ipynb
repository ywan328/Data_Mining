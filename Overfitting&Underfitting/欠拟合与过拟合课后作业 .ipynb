{
 "cells": [
  {
   "cell_type": "code",
   "execution_count": 1,
   "metadata": {},
   "outputs": [],
   "source": [
    "import numpy as np\n",
    "from sklearn.datasets import load_boston\n",
    "from sklearn.model_selection import train_test_split\n",
    "from sklearn.linear_model import LinearRegression\n",
    "from sklearn.metrics import mean_squared_error, mean_absolute_error, r2_score\n",
    "import warnings\n",
    "warnings.filterwarnings('ignore')"
   ]
  },
  {
   "cell_type": "markdown",
   "metadata": {},
   "source": [
    "# 加在波士顿房价数据, 并使用线性回归进行预测"
   ]
  },
  {
   "cell_type": "code",
   "execution_count": 2,
   "metadata": {},
   "outputs": [
    {
     "name": "stdout",
     "output_type": "stream",
     "text": [
      "训练集R^2： 0.7697699488741149\n",
      "测试集R^2： 0.6354638433202114\n"
     ]
    }
   ],
   "source": [
    "boston = load_boston()\n",
    "X, y = boston.data, boston.target\n",
    "X_train, X_test, y_train, y_test = train_test_split(X, y, test_size=0.25, random_state=0)\n",
    "lr = LinearRegression()\n",
    "lr.fit(X_train, y_train)\n",
    "y_hat = lr.predict(X_test)\n",
    "\n",
    "print(\"训练集R^2：\", r2_score(y_train, lr.predict(X_train)))\n",
    "print(\"测试集R^2：\", r2_score(y_test, y_hat))"
   ]
  },
  {
   "cell_type": "markdown",
   "metadata": {},
   "source": [
    "# 进行多项式扩展"
   ]
  },
  {
   "cell_type": "code",
   "execution_count": 3,
   "metadata": {},
   "outputs": [
    {
     "name": "stdout",
     "output_type": "stream",
     "text": [
      "扩展后的形状: (506, 13)\n",
      "1 阶训练集R^2： 0.7697699488741149 , \t测试集R^2： 0.6354638433202114\n",
      "扩展后的形状: (506, 104)\n",
      "2 阶训练集R^2： 0.9520519609032728 , \t测试集R^2： 0.6074721959577549\n",
      "扩展后的形状: (506, 559)\n",
      "3 阶训练集R^2： 0.9999999999999999 , \t测试集R^2： -9443.834114629808\n",
      "扩展后的形状: (506, 2379)\n",
      "4 阶训练集R^2： 1.0 , \t测试集R^2： -1144.2632682199612\n",
      "扩展后的形状: (506, 8567)\n",
      "5 阶训练集R^2： 1.0 , \t测试集R^2： -135.30506303428788\n",
      "扩展后的形状: (506, 27131)\n",
      "6 阶训练集R^2： 1.0 , \t测试集R^2： -479.7808884607034\n"
     ]
    }
   ],
   "source": [
    "from sklearn.preprocessing import PolynomialFeatures\n",
    "\n",
    "for n in range(1, 7):\n",
    "    poly = PolynomialFeatures(degree=n, include_bias=False)\n",
    "    Xpoly = poly.fit_transform(X)\n",
    "    print(\"扩展后的形状:\", Xpoly.shape)\n",
    "    X_train, X_test, y_train, y_test = train_test_split(Xpoly, y, test_size=0.25, random_state=0)\n",
    "    lr = LinearRegression()\n",
    "    lr.fit(X_train, y_train)\n",
    "    print(n, \"阶训练集R^2：\", r2_score(y_train, lr.predict(X_train)), \", \\t测试集R^2：\", r2_score(y_test, lr.predict(X_test)))"
   ]
  },
  {
   "cell_type": "markdown",
   "metadata": {},
   "source": [
    "# 多项式扩展后使用添加正则化项的线性回归"
   ]
  },
  {
   "cell_type": "code",
   "execution_count": 4,
   "metadata": {},
   "outputs": [
    {
     "name": "stdout",
     "output_type": "stream",
     "text": [
      "1 阶扩展后的形状: (506, 13)\n",
      "线性回归训练集R^2： 0.7697699488741149 , \t测试集R^2： 0.6354638433202114\n",
      "lasso训练集R^2： 0.7150499874336981 , \t测试集R^2： 0.5516247059049908\n",
      "ridge训练集R^2： 0.7678858330771392 , \t测试集R^2： 0.6266182204613853\n",
      "elasticnet训练集R^2： 0.7208704087353837 , \t测试集R^2： 0.5603163143661134\n",
      "\n",
      "2 阶扩展后的形状: (506, 104)\n",
      "线性回归训练集R^2： 0.9520519609032728 , \t测试集R^2： 0.6074721959577549\n",
      "lasso训练集R^2： 0.9068684337013593 , \t测试集R^2： 0.7280316827205042\n",
      "ridge训练集R^2： 0.9479909766810315 , \t测试集R^2： 0.6072823587681102\n",
      "elasticnet训练集R^2： 0.9129777927874689 , \t测试集R^2： 0.7432662615022664\n",
      "\n",
      "3 阶扩展后的形状: (506, 559)\n",
      "线性回归训练集R^2： 0.9999999999999999 , \t测试集R^2： -9443.834114629808\n",
      "lasso训练集R^2： 0.9670436511978687 , \t测试集R^2： 0.7305132035316728\n",
      "ridge训练集R^2： 0.8668315772001219 , \t测试集R^2： -4.509124625879192\n",
      "elasticnet训练集R^2： 0.9684644152497706 , \t测试集R^2： 0.6960420651896808\n",
      "\n",
      "4 阶扩展后的形状: (506, 2379)\n",
      "线性回归训练集R^2： 1.0 , \t测试集R^2： -1144.2632682199612\n",
      "lasso训练集R^2： 0.983433025482403 , \t测试集R^2： 0.5628285895751588\n",
      "ridge训练集R^2： 0.9525560719630122 , \t测试集R^2： -75.6256978980339\n",
      "elasticnet训练集R^2： 0.9838757600686122 , \t测试集R^2： 0.593815934990771\n",
      "\n",
      "5 阶扩展后的形状: (506, 8567)\n",
      "线性回归训练集R^2： 1.0 , \t测试集R^2： -135.30506303428788\n",
      "lasso训练集R^2： 0.9904984793927046 , \t测试集R^2： -1.3107769240378904\n",
      "ridge训练集R^2： 0.9946154862679916 , \t测试集R^2： -35.95414510114594\n",
      "elasticnet训练集R^2： 0.9906769130603126 , \t测试集R^2： -1.0688084769778858\n",
      "\n",
      "6 阶扩展后的形状: (506, 27131)\n",
      "线性回归训练集R^2： 1.0 , \t测试集R^2： -479.7808884607034\n",
      "lasso训练集R^2： 0.9940855547396978 , \t测试集R^2： -1.773094635354873\n",
      "ridge训练集R^2： 0.9955808965866995 , \t测试集R^2： -44.34087303576448\n",
      "elasticnet训练集R^2： 0.9941866272260572 , \t测试集R^2： -1.6646822065701903\n",
      "\n"
     ]
    }
   ],
   "source": [
    "from sklearn.linear_model  import Lasso, Ridge, ElasticNet\n",
    "\n",
    "for n in range(1, 7):\n",
    "    poly = PolynomialFeatures(degree=n, include_bias=False)\n",
    "    Xpoly = poly.fit_transform(X)\n",
    "    print(n, \"阶扩展后的形状:\", Xpoly.shape)\n",
    "    X_train, X_test, y_train, y_test = train_test_split(Xpoly, y, test_size=0.25, random_state=0)\n",
    "    \n",
    "    lr = LinearRegression()\n",
    "    lr.fit(X_train, y_train)\n",
    "    print(\"线性回归训练集R^2：\", r2_score(y_train, lr.predict(X_train)), \", \\t测试集R^2：\", r2_score(y_test, lr.predict(X_test)))\n",
    "    lass = Lasso()\n",
    "    lass.fit(X_train, y_train)\n",
    "    print(\"lasso训练集R^2：\", r2_score(y_train, lass.predict(X_train)), \", \\t测试集R^2：\", r2_score(y_test, lass.predict(X_test)))\n",
    "    ridge = Ridge()\n",
    "    ridge.fit(X_train, y_train)\n",
    "    print(\"ridge训练集R^2：\", r2_score(y_train, ridge.predict(X_train)), \", \\t测试集R^2：\", r2_score(y_test, ridge.predict(X_test)))\n",
    "    elastic = ElasticNet()\n",
    "    elastic.fit(X_train, y_train)\n",
    "    print(\"elasticnet训练集R^2：\", r2_score(y_train, elastic.predict(X_train)), \", \\t测试集R^2：\", r2_score(y_test, elastic.predict(X_test)))\n",
    "    print()"
   ]
  },
  {
   "cell_type": "raw",
   "metadata": {},
   "source": [
    "可以看到过拟合时, 正则项可以抑制过拟合, 但是如果特征太多的时候, 还是会过拟合, 这时需要适当增大正则项的系数"
   ]
  },
  {
   "cell_type": "code",
   "execution_count": null,
   "metadata": {},
   "outputs": [],
   "source": []
  }
 ],
 "metadata": {
  "kernelspec": {
   "display_name": "Python 3",
   "language": "python",
   "name": "python3"
  },
  "language_info": {
   "codemirror_mode": {
    "name": "ipython",
    "version": 3
   },
   "file_extension": ".py",
   "mimetype": "text/x-python",
   "name": "python",
   "nbconvert_exporter": "python",
   "pygments_lexer": "ipython3",
   "version": "3.7.6"
  },
  "toc": {
   "base_numbering": 1,
   "nav_menu": {},
   "number_sections": true,
   "sideBar": true,
   "skip_h1_title": false,
   "title_cell": "Table of Contents",
   "title_sidebar": "Contents",
   "toc_cell": false,
   "toc_position": {},
   "toc_section_display": true,
   "toc_window_display": false
  }
 },
 "nbformat": 4,
 "nbformat_minor": 2
}
