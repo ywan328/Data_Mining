{
 "cells": [
  {
   "cell_type": "code",
   "execution_count": 1,
   "metadata": {},
   "outputs": [],
   "source": [
    "import numpy as np\n",
    "import pandas as pd\n",
    "from sklearn.preprocessing import OrdinalEncoder, LabelEncoder\n",
    "import sklearn"
   ]
  },
  {
   "cell_type": "code",
   "execution_count": 2,
   "metadata": {},
   "outputs": [
    {
     "data": {
      "text/html": [
       "<div>\n",
       "<style scoped>\n",
       "    .dataframe tbody tr th:only-of-type {\n",
       "        vertical-align: middle;\n",
       "    }\n",
       "\n",
       "    .dataframe tbody tr th {\n",
       "        vertical-align: top;\n",
       "    }\n",
       "\n",
       "    .dataframe thead th {\n",
       "        text-align: right;\n",
       "    }\n",
       "</style>\n",
       "<table border=\"1\" class=\"dataframe\">\n",
       "  <thead>\n",
       "    <tr style=\"text-align: right;\">\n",
       "      <th></th>\n",
       "      <th>天气</th>\n",
       "      <th>上课距离</th>\n",
       "      <th>学生成绩</th>\n",
       "      <th>课程类别</th>\n",
       "      <th>上课情况</th>\n",
       "    </tr>\n",
       "  </thead>\n",
       "  <tbody>\n",
       "    <tr>\n",
       "      <th>0</th>\n",
       "      <td>晴</td>\n",
       "      <td>远</td>\n",
       "      <td>差</td>\n",
       "      <td>选修</td>\n",
       "      <td>逃课</td>\n",
       "    </tr>\n",
       "    <tr>\n",
       "      <th>1</th>\n",
       "      <td>晴</td>\n",
       "      <td>近</td>\n",
       "      <td>差</td>\n",
       "      <td>必修</td>\n",
       "      <td>上课</td>\n",
       "    </tr>\n",
       "    <tr>\n",
       "      <th>2</th>\n",
       "      <td>晴</td>\n",
       "      <td>近</td>\n",
       "      <td>好</td>\n",
       "      <td>必修</td>\n",
       "      <td>上课</td>\n",
       "    </tr>\n",
       "    <tr>\n",
       "      <th>3</th>\n",
       "      <td>阴</td>\n",
       "      <td>远</td>\n",
       "      <td>差</td>\n",
       "      <td>选修</td>\n",
       "      <td>逃课</td>\n",
       "    </tr>\n",
       "    <tr>\n",
       "      <th>4</th>\n",
       "      <td>阴</td>\n",
       "      <td>近</td>\n",
       "      <td>好</td>\n",
       "      <td>选修</td>\n",
       "      <td>上课</td>\n",
       "    </tr>\n",
       "    <tr>\n",
       "      <th>5</th>\n",
       "      <td>阴</td>\n",
       "      <td>近</td>\n",
       "      <td>好</td>\n",
       "      <td>必修</td>\n",
       "      <td>上课</td>\n",
       "    </tr>\n",
       "    <tr>\n",
       "      <th>6</th>\n",
       "      <td>雨</td>\n",
       "      <td>远</td>\n",
       "      <td>差</td>\n",
       "      <td>选修</td>\n",
       "      <td>逃课</td>\n",
       "    </tr>\n",
       "    <tr>\n",
       "      <th>7</th>\n",
       "      <td>雨</td>\n",
       "      <td>近</td>\n",
       "      <td>好</td>\n",
       "      <td>必修</td>\n",
       "      <td>上课</td>\n",
       "    </tr>\n",
       "    <tr>\n",
       "      <th>8</th>\n",
       "      <td>雨</td>\n",
       "      <td>近</td>\n",
       "      <td>差</td>\n",
       "      <td>必修</td>\n",
       "      <td>逃课</td>\n",
       "    </tr>\n",
       "    <tr>\n",
       "      <th>9</th>\n",
       "      <td>雨</td>\n",
       "      <td>远</td>\n",
       "      <td>好</td>\n",
       "      <td>选修</td>\n",
       "      <td>逃课</td>\n",
       "    </tr>\n",
       "    <tr>\n",
       "      <th>10</th>\n",
       "      <td>阴</td>\n",
       "      <td>近</td>\n",
       "      <td>差</td>\n",
       "      <td>选修</td>\n",
       "      <td>?</td>\n",
       "    </tr>\n",
       "    <tr>\n",
       "      <th>11</th>\n",
       "      <td>晴</td>\n",
       "      <td>远</td>\n",
       "      <td>好</td>\n",
       "      <td>选修</td>\n",
       "      <td>?</td>\n",
       "    </tr>\n",
       "  </tbody>\n",
       "</table>\n",
       "</div>"
      ],
      "text/plain": [
       "   天气 上课距离 学生成绩 课程类别 上课情况\n",
       "0   晴    远    差   选修   逃课\n",
       "1   晴    近    差   必修   上课\n",
       "2   晴    近    好   必修   上课\n",
       "3   阴    远    差   选修   逃课\n",
       "4   阴    近    好   选修   上课\n",
       "5   阴    近    好   必修   上课\n",
       "6   雨    远    差   选修   逃课\n",
       "7   雨    近    好   必修   上课\n",
       "8   雨    近    差   必修   逃课\n",
       "9   雨    远    好   选修   逃课\n",
       "10  阴    近    差   选修    ?\n",
       "11  晴    远    好   选修    ?"
      ]
     },
     "metadata": {},
     "output_type": "display_data"
    }
   ],
   "source": [
    "data = pd.read_csv(\"data.csv\")\n",
    "display(data)"
   ]
  },
  {
   "cell_type": "code",
   "execution_count": 3,
   "metadata": {},
   "outputs": [
    {
     "name": "stdout",
     "output_type": "stream",
     "text": [
      "[[0. 1. 1. 1.]\n",
      " [0. 0. 1. 0.]\n",
      " [0. 0. 0. 0.]\n",
      " [1. 1. 1. 1.]\n",
      " [1. 0. 0. 1.]\n",
      " [1. 0. 0. 0.]\n",
      " [2. 1. 1. 1.]\n",
      " [2. 0. 0. 0.]\n",
      " [2. 0. 1. 0.]\n",
      " [2. 1. 0. 1.]]\n",
      "[array(['晴', '阴', '雨'], dtype=object), array(['近', '远'], dtype=object), array(['好', '差'], dtype=object), array(['必修', '选修'], dtype=object)]\n"
     ]
    }
   ],
   "source": [
    "X, y = data.iloc[:10, :-1], data.iloc[:10, -1]\n",
    "oe = OrdinalEncoder()\n",
    "X = oe.fit_transform(X)\n",
    "print(X)\n",
    "# 输出每个特征的类别信息。\n",
    "print(oe.categories_)"
   ]
  },
  {
   "cell_type": "code",
   "execution_count": 4,
   "metadata": {},
   "outputs": [
    {
     "name": "stdout",
     "output_type": "stream",
     "text": [
      "[1 0 0 1 0 0 1 0 1 1]\n",
      "['上课' '逃课']\n"
     ]
    }
   ],
   "source": [
    "le = LabelEncoder()\n",
    "y = le.fit_transform(y)\n",
    "print(y)\n",
    "# 输出标签的类别信息。\n",
    "print(le.classes_)"
   ]
  },
  {
   "cell_type": "code",
   "execution_count": 5,
   "metadata": {},
   "outputs": [
    {
     "name": "stdout",
     "output_type": "stream",
     "text": [
      "[array([[2., 2., 1.],\n",
      "       [1., 1., 3.]]), array([[5., 0.],\n",
      "       [1., 4.]]), array([[4., 1.],\n",
      "       [1., 4.]]), array([[4., 1.],\n",
      "       [1., 4.]])]\n",
      "[5. 5.]\n",
      "[0.5 0.5]\n",
      "[0 1]\n",
      "[array([[0.375, 0.375, 0.25 ],\n",
      "       [0.25 , 0.25 , 0.5  ]]), array([[0.85714286, 0.14285714],\n",
      "       [0.28571429, 0.71428571]]), array([[0.71428571, 0.28571429],\n",
      "       [0.28571429, 0.71428571]]), array([[0.71428571, 0.28571429],\n",
      "       [0.28571429, 0.71428571]])]\n",
      "4\n"
     ]
    }
   ],
   "source": [
    "from sklearn.naive_bayes import CategoricalNB\n",
    "cnb = CategoricalNB()\n",
    "cnb.fit(X, y)\n",
    "# 每个类别中，每个特征各个取值出现的次数。\n",
    "# 该值为列表类型，列表中元素形状依次为(类别数量, 对应特征的类别取值数量）。\n",
    "print(cnb.category_count_)\n",
    "# 每个类别的样本数量。\n",
    "print(cnb.class_count_)\n",
    "# 每个类别的对数概率，如果想查看原始概率，需要使用指数还原。\n",
    "print(np.exp(cnb.class_log_prior_))\n",
    "# 类别的标签值。\n",
    "print(cnb.classes_)\n",
    "# 计算P(x_i|y)的概率。\n",
    "print([np.exp(item) for item in cnb.feature_log_prob_])\n",
    "# 特征的数量。\n",
    "print(cnb.n_features_)"
   ]
  },
  {
   "cell_type": "code",
   "execution_count": 6,
   "metadata": {},
   "outputs": [
    {
     "name": "stdout",
     "output_type": "stream",
     "text": [
      "[1 1]\n",
      "[[0.41860465 0.58139535]\n",
      " [0.23076923 0.76923077]]\n"
     ]
    }
   ],
   "source": [
    "# 对最后两条记录进行预测。注意，测试集的数据需要与训练集\n",
    "# 执行相同的转换。\n",
    "test = data.iloc[10:, :-1]\n",
    "test = oe.transform(test)\n",
    "y_hat = cnb.predict(test)\n",
    "print(y_hat)\n",
    "pro = cnb.predict_proba(test)\n",
    "print(pro)"
   ]
  },
  {
   "cell_type": "code",
   "execution_count": 7,
   "metadata": {},
   "outputs": [
    {
     "name": "stdout",
     "output_type": "stream",
     "text": [
      "0.38461538461538464 0.6153846153846154\n"
     ]
    }
   ],
   "source": [
    "a = 0.008\n",
    "b = 0.0128\n",
    "c = a + b\n",
    "print(a / c, b / c)"
   ]
  },
  {
   "cell_type": "code",
   "execution_count": 8,
   "metadata": {},
   "outputs": [
    {
     "name": "stdout",
     "output_type": "stream",
     "text": [
      "[[3.84615385e-01 6.15384615e-01]\n",
      " [5.00000000e-11 1.00000000e+00]]\n"
     ]
    },
    {
     "name": "stderr",
     "output_type": "stream",
     "text": [
      "D:\\software\\Anaconda3\\lib\\site-packages\\sklearn\\naive_bayes.py:507: UserWarning: alpha too small will result in numeric errors, setting alpha = 1.0e-10\n",
      "  'setting alpha = %.1e' % _ALPHA_MIN)\n"
     ]
    }
   ],
   "source": [
    "# alpha：指定平滑系数，默认为1（拉普拉斯平滑）。\n",
    "cnb = CategoricalNB(alpha=0)\n",
    "cnb.fit(X, y)\n",
    "pro = cnb.predict_proba(test)\n",
    "print(pro)"
   ]
  },
  {
   "cell_type": "code",
   "execution_count": 9,
   "metadata": {},
   "outputs": [
    {
     "data": {
      "text/html": [
       "<div>\n",
       "<style scoped>\n",
       "    .dataframe tbody tr th:only-of-type {\n",
       "        vertical-align: middle;\n",
       "    }\n",
       "\n",
       "    .dataframe tbody tr th {\n",
       "        vertical-align: top;\n",
       "    }\n",
       "\n",
       "    .dataframe thead th {\n",
       "        text-align: right;\n",
       "    }\n",
       "</style>\n",
       "<table border=\"1\" class=\"dataframe\">\n",
       "  <thead>\n",
       "    <tr style=\"text-align: right;\">\n",
       "      <th></th>\n",
       "      <th>x1</th>\n",
       "      <th>x2</th>\n",
       "      <th>y</th>\n",
       "    </tr>\n",
       "  </thead>\n",
       "  <tbody>\n",
       "    <tr>\n",
       "      <th>0</th>\n",
       "      <td>5</td>\n",
       "      <td>0</td>\n",
       "      <td>0</td>\n",
       "    </tr>\n",
       "    <tr>\n",
       "      <th>1</th>\n",
       "      <td>3</td>\n",
       "      <td>3</td>\n",
       "      <td>0</td>\n",
       "    </tr>\n",
       "    <tr>\n",
       "      <th>2</th>\n",
       "      <td>7</td>\n",
       "      <td>9</td>\n",
       "      <td>0</td>\n",
       "    </tr>\n",
       "    <tr>\n",
       "      <th>3</th>\n",
       "      <td>3</td>\n",
       "      <td>5</td>\n",
       "      <td>1</td>\n",
       "    </tr>\n",
       "    <tr>\n",
       "      <th>4</th>\n",
       "      <td>2</td>\n",
       "      <td>4</td>\n",
       "      <td>1</td>\n",
       "    </tr>\n",
       "    <tr>\n",
       "      <th>5</th>\n",
       "      <td>7</td>\n",
       "      <td>6</td>\n",
       "      <td>1</td>\n",
       "    </tr>\n",
       "  </tbody>\n",
       "</table>\n",
       "</div>"
      ],
      "text/plain": [
       "   x1  x2  y\n",
       "0   5   0  0\n",
       "1   3   3  0\n",
       "2   7   9  0\n",
       "3   3   5  1\n",
       "4   2   4  1\n",
       "5   7   6  1"
      ]
     },
     "metadata": {},
     "output_type": "display_data"
    },
    {
     "name": "stdout",
     "output_type": "stream",
     "text": [
      "概率： [0.5 0.5]\n",
      "样本数量： [3. 3.]\n",
      "标签 [0 1]\n",
      "均值： [[5. 4.]\n",
      " [4. 5.]]\n",
      "方差： [[ 2.66666667 14.00000001]\n",
      " [ 4.66666667  0.66666667]]\n",
      "预测结果： [0]\n",
      "预测结果概率： [[0.87684687 0.12315313]]\n"
     ]
    }
   ],
   "source": [
    "from sklearn.naive_bayes import GaussianNB\n",
    "np.random.seed(0)\n",
    "X = np.random.randint(0, 10, size=(6, 2))\n",
    "y = np.array([0, 0, 0, 1, 1, 1])\n",
    "data = pd.DataFrame(np.concatenate([X, y.reshape(-1, 1)], axis=1), columns=[\"x1\", \"x2\", \"y\"])\n",
    "display(data)\n",
    "gnb = GaussianNB()\n",
    "gnb.fit(X, y)\n",
    "# 每个类别的先验概率。P(y)\n",
    "print(\"概率：\", gnb.class_prior_)\n",
    "# 每个类别样本的数量。\n",
    "print(\"样本数量：\", gnb.class_count_)\n",
    "# 每个类别的标签。\n",
    "print(\"标签\", gnb.classes_)\n",
    "# 每个特征在每个类别下的均值。\n",
    "print(\"均值：\", gnb.theta_)\n",
    "# 每个特征在每个类别下的方差。\n",
    "print(\"方差：\", gnb.sigma_)\n",
    "# 测试集\n",
    "X_test = np.array([[6, 3]])\n",
    "print(\"预测结果：\", gnb.predict(X_test))\n",
    "print(\"预测结果概率：\", gnb.predict_proba(X_test))"
   ]
  },
  {
   "cell_type": "code",
   "execution_count": 10,
   "metadata": {},
   "outputs": [
    {
     "data": {
      "text/html": [
       "<div>\n",
       "<style scoped>\n",
       "    .dataframe tbody tr th:only-of-type {\n",
       "        vertical-align: middle;\n",
       "    }\n",
       "\n",
       "    .dataframe tbody tr th {\n",
       "        vertical-align: top;\n",
       "    }\n",
       "\n",
       "    .dataframe thead th {\n",
       "        text-align: right;\n",
       "    }\n",
       "</style>\n",
       "<table border=\"1\" class=\"dataframe\">\n",
       "  <thead>\n",
       "    <tr style=\"text-align: right;\">\n",
       "      <th></th>\n",
       "      <th>x1</th>\n",
       "      <th>x2</th>\n",
       "      <th>y</th>\n",
       "    </tr>\n",
       "  </thead>\n",
       "  <tbody>\n",
       "    <tr>\n",
       "      <th>0</th>\n",
       "      <td>0</td>\n",
       "      <td>-5</td>\n",
       "      <td>0</td>\n",
       "    </tr>\n",
       "    <tr>\n",
       "      <th>1</th>\n",
       "      <td>-2</td>\n",
       "      <td>-2</td>\n",
       "      <td>0</td>\n",
       "    </tr>\n",
       "    <tr>\n",
       "      <th>2</th>\n",
       "      <td>2</td>\n",
       "      <td>4</td>\n",
       "      <td>0</td>\n",
       "    </tr>\n",
       "    <tr>\n",
       "      <th>3</th>\n",
       "      <td>-2</td>\n",
       "      <td>0</td>\n",
       "      <td>1</td>\n",
       "    </tr>\n",
       "    <tr>\n",
       "      <th>4</th>\n",
       "      <td>-3</td>\n",
       "      <td>-1</td>\n",
       "      <td>1</td>\n",
       "    </tr>\n",
       "    <tr>\n",
       "      <th>5</th>\n",
       "      <td>2</td>\n",
       "      <td>1</td>\n",
       "      <td>1</td>\n",
       "    </tr>\n",
       "  </tbody>\n",
       "</table>\n",
       "</div>"
      ],
      "text/plain": [
       "   x1  x2  y\n",
       "0   0  -5  0\n",
       "1  -2  -2  0\n",
       "2   2   4  0\n",
       "3  -2   0  1\n",
       "4  -3  -1  1\n",
       "5   2   1  1"
      ]
     },
     "metadata": {},
     "output_type": "display_data"
    },
    {
     "name": "stdout",
     "output_type": "stream",
     "text": [
      "数值1出现次数： [[1. 1.]\n",
      " [1. 1.]]\n",
      "类别占比p(y)： [0.5 0.5]\n",
      "特征概率： [[0.4 0.4]\n",
      " [0.4 0.4]]\n"
     ]
    }
   ],
   "source": [
    "from sklearn.naive_bayes import BernoulliNB\n",
    "np.random.seed(0)\n",
    "X = np.random.randint(-5, 5, size=(6, 2))\n",
    "y = np.array([0, 0, 0, 1, 1, 1])\n",
    "data = pd.DataFrame(np.concatenate([X, y.reshape(-1, 1)], axis=1), columns=[\"x1\", \"x2\", \"y\"])\n",
    "display(data)\n",
    "bnb = BernoulliNB()\n",
    "bnb.fit(X, y)\n",
    "# 每个特征在每个类别下发生（出现）的次数。因为伯努利分布只有两个值，\n",
    "# 我们只需要计算出现的概率P(x=1|y)，不出现的概率P(x=0|y)使用1减去P(x=1|y)即可。\n",
    "print(\"数值1出现次数：\", bnb.feature_count_)\n",
    "# 每个类别样本所占的比重，即P(y)。注意，该值为概率取对数之后的结果，如果需要查看\n",
    "# 原有的概率，需要使用指数还原。\n",
    "print(\"类别占比p(y)：\", np.exp(bnb.class_log_prior_))\n",
    "# 每个类别下，每个特征（值为1）所占的比例（概率），即P(x|y)。注意，该值为概率\n",
    "# 取对数之后的结果，如果需要查看原有的概率，需要使用指数还原。\n",
    "print(\"特征概率：\", np.exp(bnb.feature_log_prob_))"
   ]
  },
  {
   "cell_type": "code",
   "execution_count": 11,
   "metadata": {},
   "outputs": [
    {
     "data": {
      "text/html": [
       "<div>\n",
       "<style scoped>\n",
       "    .dataframe tbody tr th:only-of-type {\n",
       "        vertical-align: middle;\n",
       "    }\n",
       "\n",
       "    .dataframe tbody tr th {\n",
       "        vertical-align: top;\n",
       "    }\n",
       "\n",
       "    .dataframe thead th {\n",
       "        text-align: right;\n",
       "    }\n",
       "</style>\n",
       "<table border=\"1\" class=\"dataframe\">\n",
       "  <thead>\n",
       "    <tr style=\"text-align: right;\">\n",
       "      <th></th>\n",
       "      <th>x1</th>\n",
       "      <th>x2</th>\n",
       "      <th>y</th>\n",
       "    </tr>\n",
       "  </thead>\n",
       "  <tbody>\n",
       "    <tr>\n",
       "      <th>0</th>\n",
       "      <td>0</td>\n",
       "      <td>3</td>\n",
       "      <td>0</td>\n",
       "    </tr>\n",
       "    <tr>\n",
       "      <th>1</th>\n",
       "      <td>1</td>\n",
       "      <td>0</td>\n",
       "      <td>0</td>\n",
       "    </tr>\n",
       "    <tr>\n",
       "      <th>2</th>\n",
       "      <td>3</td>\n",
       "      <td>3</td>\n",
       "      <td>0</td>\n",
       "    </tr>\n",
       "    <tr>\n",
       "      <th>3</th>\n",
       "      <td>3</td>\n",
       "      <td>3</td>\n",
       "      <td>1</td>\n",
       "    </tr>\n",
       "    <tr>\n",
       "      <th>4</th>\n",
       "      <td>1</td>\n",
       "      <td>3</td>\n",
       "      <td>1</td>\n",
       "    </tr>\n",
       "    <tr>\n",
       "      <th>5</th>\n",
       "      <td>1</td>\n",
       "      <td>2</td>\n",
       "      <td>1</td>\n",
       "    </tr>\n",
       "  </tbody>\n",
       "</table>\n",
       "</div>"
      ],
      "text/plain": [
       "   x1  x2  y\n",
       "0   0   3  0\n",
       "1   1   0  0\n",
       "2   3   3  0\n",
       "3   3   3  1\n",
       "4   1   3  1\n",
       "5   1   2  1"
      ]
     },
     "metadata": {},
     "output_type": "display_data"
    },
    {
     "name": "stdout",
     "output_type": "stream",
     "text": [
      "[3. 3.]\n",
      "[[4. 6.]\n",
      " [5. 8.]]\n",
      "[[0.41666667 0.58333333]\n",
      " [0.4        0.6       ]]\n"
     ]
    }
   ],
   "source": [
    "from sklearn.naive_bayes import MultinomialNB\n",
    "np.random.seed(0)\n",
    "X = np.random.randint(0, 4, size=(6, 2))\n",
    "y = np.array([0, 0, 0, 1, 1, 1])\n",
    "data = pd.DataFrame(np.concatenate([X, y.reshape(-1, 1)], axis=1), columns=[\"x1\",\n",
    "\"x2\", \"y\"])\n",
    "display(data)\n",
    "mnb = MultinomialNB()\n",
    "mnb.fit(X, y)\n",
    "# 每个类别的样本数量。\n",
    "print(mnb.class_count_)\n",
    "# 每个特征在每个类别下发生（出现）的次数。\n",
    "print(mnb.feature_count_)\n",
    "# 每个类别下，每个特征所占的比例（概率），即P(x|y)。注意，该值为概率\n",
    "# 取对数之后的结果，如果需要查看原有的概率，需要使用指数还原。\n",
    "print(np.exp(mnb.feature_log_prob_))"
   ]
  },
  {
   "cell_type": "code",
   "execution_count": 12,
   "metadata": {},
   "outputs": [
    {
     "data": {
      "text/html": [
       "<div>\n",
       "<style scoped>\n",
       "    .dataframe tbody tr th:only-of-type {\n",
       "        vertical-align: middle;\n",
       "    }\n",
       "\n",
       "    .dataframe tbody tr th {\n",
       "        vertical-align: top;\n",
       "    }\n",
       "\n",
       "    .dataframe thead th {\n",
       "        text-align: right;\n",
       "    }\n",
       "</style>\n",
       "<table border=\"1\" class=\"dataframe\">\n",
       "  <thead>\n",
       "    <tr style=\"text-align: right;\">\n",
       "      <th></th>\n",
       "      <th>x1</th>\n",
       "      <th>x2</th>\n",
       "      <th>y</th>\n",
       "    </tr>\n",
       "  </thead>\n",
       "  <tbody>\n",
       "    <tr>\n",
       "      <th>0</th>\n",
       "      <td>0</td>\n",
       "      <td>3</td>\n",
       "      <td>0</td>\n",
       "    </tr>\n",
       "    <tr>\n",
       "      <th>1</th>\n",
       "      <td>1</td>\n",
       "      <td>0</td>\n",
       "      <td>0</td>\n",
       "    </tr>\n",
       "    <tr>\n",
       "      <th>2</th>\n",
       "      <td>3</td>\n",
       "      <td>3</td>\n",
       "      <td>0</td>\n",
       "    </tr>\n",
       "    <tr>\n",
       "      <th>3</th>\n",
       "      <td>3</td>\n",
       "      <td>3</td>\n",
       "      <td>1</td>\n",
       "    </tr>\n",
       "    <tr>\n",
       "      <th>4</th>\n",
       "      <td>1</td>\n",
       "      <td>3</td>\n",
       "      <td>1</td>\n",
       "    </tr>\n",
       "    <tr>\n",
       "      <th>5</th>\n",
       "      <td>1</td>\n",
       "      <td>2</td>\n",
       "      <td>1</td>\n",
       "    </tr>\n",
       "  </tbody>\n",
       "</table>\n",
       "</div>"
      ],
      "text/plain": [
       "   x1  x2  y\n",
       "0   0   3  0\n",
       "1   1   0  0\n",
       "2   3   3  0\n",
       "3   3   3  1\n",
       "4   1   3  1\n",
       "5   1   2  1"
      ]
     },
     "metadata": {},
     "output_type": "display_data"
    },
    {
     "name": "stdout",
     "output_type": "stream",
     "text": [
      "[3. 3.]\n",
      "[[4. 6.]\n",
      " [5. 8.]]\n",
      "[[0.91629073 0.51082562]\n",
      " [0.87546874 0.5389965 ]]\n"
     ]
    }
   ],
   "source": [
    "from sklearn.naive_bayes import ComplementNB\n",
    "np.random.seed(0)\n",
    "X = np.random.randint(0, 4, size=(6, 2))\n",
    "y = np.array([0, 0, 0, 1, 1, 1])\n",
    "data = pd.DataFrame(np.concatenate([X, y.reshape(-1, 1)], axis=1), columns=[\"x1\",\n",
    "\"x2\", \"y\"])\n",
    "display(data)\n",
    "cnb = ComplementNB()\n",
    "cnb.fit(X, y)\n",
    "# 每个类别的样本数量。\n",
    "print(cnb.class_count_)\n",
    "# 每个特征在每个类别下发生（出现）的次数。\n",
    "print(cnb.feature_count_)\n",
    "# 特征i不在指定类别中发生的概率（对数概率的相反数）。\n",
    "print(cnb.feature_log_prob_)"
   ]
  },
  {
   "cell_type": "code",
   "execution_count": 13,
   "metadata": {},
   "outputs": [
    {
     "name": "stdout",
     "output_type": "stream",
     "text": [
      "分类朴素贝叶斯 0.8947368421052632\n",
      "高斯朴素贝叶斯： 1.0\n",
      "伯努利朴素贝叶斯： 0.23684210526315788\n",
      "多项式朴素贝叶斯： 0.5789473684210527\n",
      "互补朴素贝叶斯： 0.5789473684210527\n"
     ]
    }
   ],
   "source": [
    "from sklearn.datasets import load_iris\n",
    "from sklearn.model_selection import train_test_split\n",
    "X, y = load_iris(return_X_y=True)\n",
    "X_train, X_test, y_train, y_test = train_test_split(X, y, test_size=0.25,\n",
    "random_state=0)\n",
    "models = [(\"分类朴素贝叶斯\", CategoricalNB()),\n",
    "(\"高斯朴素贝叶斯：\", GaussianNB()),\n",
    "(\"伯努利朴素贝叶斯：\", BernoulliNB()),\n",
    "(\"多项式朴素贝叶斯：\", MultinomialNB()),\n",
    "(\"互补朴素贝叶斯：\", ComplementNB())\n",
    "]\n",
    "for name, m in models:\n",
    "    m.fit(X_train, y_train)\n",
    "    print(name, m.score(X_test, y_test))"
   ]
  },
  {
   "cell_type": "code",
   "execution_count": null,
   "metadata": {},
   "outputs": [],
   "source": []
  },
  {
   "cell_type": "code",
   "execution_count": null,
   "metadata": {},
   "outputs": [],
   "source": []
  }
 ],
 "metadata": {
  "kernelspec": {
   "display_name": "Python 3",
   "language": "python",
   "name": "python3"
  },
  "language_info": {
   "codemirror_mode": {
    "name": "ipython",
    "version": 3
   },
   "file_extension": ".py",
   "mimetype": "text/x-python",
   "name": "python",
   "nbconvert_exporter": "python",
   "pygments_lexer": "ipython3",
   "version": "3.7.6"
  },
  "toc": {
   "base_numbering": 1,
   "nav_menu": {},
   "number_sections": true,
   "sideBar": true,
   "skip_h1_title": false,
   "title_cell": "Table of Contents",
   "title_sidebar": "Contents",
   "toc_cell": false,
   "toc_position": {},
   "toc_section_display": true,
   "toc_window_display": false
  }
 },
 "nbformat": 4,
 "nbformat_minor": 4
}
