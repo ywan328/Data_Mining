{
 "cells": [
  {
   "cell_type": "code",
   "execution_count": 1,
   "metadata": {},
   "outputs": [],
   "source": [
    "class MyLinearRegression:\n",
    "    \"\"\"\n",
    "    自己写的比较简单的线性回归模型\n",
    "    \"\"\"\n",
    "    def __init__(self):\n",
    "        self.coef_ = None\n",
    "        self.intercept_ = None\n",
    "\n",
    "    def fit(self, X, y):\n",
    "        rows = X.shape[0]\n",
    "        X = np.concatenate((np.ones((rows, 1)), X), axis=1)\n",
    "        y = y.reshape(-1, 1)\n",
    "        \n",
    "        w = np.dot(np.linalg.inv(np.dot(X.T, X)),X.T).dot(y).flatten()\n",
    "        self.coef_ = w[1:]\n",
    "        self.intercept_ = w[0]\n",
    "            \n",
    "    def predict(self, X):\n",
    "        if self.coef_ is None:\n",
    "            print(\"请先训练后预测\")\n",
    "            return\n",
    "        y_hat = np.dot(X, self.coef_) + self.intercept_\n",
    "        return np.array(y_hat).ravel()"
   ]
  },
  {
   "cell_type": "code",
   "execution_count": 2,
   "metadata": {},
   "outputs": [],
   "source": [
    "import numpy as np\n",
    "import pandas as pd\n",
    "from sklearn.model_selection import train_test_split\n",
    "from sklearn.metrics import mean_squared_error, mean_absolute_error, r2_score"
   ]
  },
  {
   "cell_type": "code",
   "execution_count": 3,
   "metadata": {},
   "outputs": [
    {
     "name": "stdout",
     "output_type": "stream",
     "text": [
      "<class 'pandas.core.frame.DataFrame'>\n",
      "Int64Index: 200 entries, 1 to 200\n",
      "Data columns (total 4 columns):\n",
      " #   Column     Non-Null Count  Dtype  \n",
      "---  ------     --------------  -----  \n",
      " 0   TV         200 non-null    float64\n",
      " 1   Radio      200 non-null    float64\n",
      " 2   Newspaper  200 non-null    float64\n",
      " 3   Sales      200 non-null    float64\n",
      "dtypes: float64(4)\n",
      "memory usage: 7.8 KB\n"
     ]
    }
   ],
   "source": [
    "data = pd.read_csv('./Advertising.csv',encoding='utf-8', index_col=0)\n",
    "# 查看是不是有空值\n",
    "data.info()"
   ]
  },
  {
   "cell_type": "code",
   "execution_count": 4,
   "metadata": {},
   "outputs": [],
   "source": [
    "X = data[['TV', 'Radio', 'Newspaper']].values\n",
    "y = data['Sales'].values\n",
    "X_train, X_test, y_train, y_test = train_test_split(X, y, test_size=0.3, random_state=0)"
   ]
  },
  {
   "cell_type": "code",
   "execution_count": 5,
   "metadata": {},
   "outputs": [
    {
     "name": "stdout",
     "output_type": "stream",
     "text": [
      "偏置： [0.04391531 0.20027962 0.00184368]\n",
      "截距： 2.8802552863313267\n"
     ]
    }
   ],
   "source": [
    "# 使用自己的模型\n",
    "mlr = MyLinearRegression()\n",
    "mlr.fit(X_train, y_train)\n",
    "print(\"偏置：\",mlr.coef_)\n",
    "print(\"截距：\",mlr.intercept_)"
   ]
  },
  {
   "cell_type": "code",
   "execution_count": 6,
   "metadata": {},
   "outputs": [
    {
     "name": "stdout",
     "output_type": "stream",
     "text": [
      "偏置： [0.04391531 0.20027962 0.00184368]\n",
      "截距： 2.880255286331325\n"
     ]
    }
   ],
   "source": [
    "# 与sklearn对比\n",
    "from sklearn.linear_model import LinearRegression\n",
    "lr = LinearRegression()\n",
    "lr.fit(X_train, y_train)\n",
    "print(\"偏置：\", lr.coef_)\n",
    "print(\"截距：\", lr.intercept_)"
   ]
  },
  {
   "cell_type": "code",
   "execution_count": 7,
   "metadata": {},
   "outputs": [
    {
     "data": {
      "text/plain": [
       "array([10.05866652,  7.43318827,  6.95305695, 24.16874598, 11.98172029,\n",
       "        6.54464708, 13.19426793, 14.90240334, 11.07675294, 16.25061663,\n",
       "       23.0081158 ,  9.12072148, 10.29342297, 15.3709661 , 11.62396513,\n",
       "       12.1057432 , 18.55030805, 10.85810888, 16.13879856, 17.20281404,\n",
       "       24.25469939,  9.43869821, 15.13419408, 12.41283844,  5.66973859,\n",
       "       15.23876681, 12.1878762 , 20.95164149, 13.22671807,  9.20954724,\n",
       "       13.39812727, 21.61944517, 18.05938674, 21.14798547,  6.73582996,\n",
       "        6.16799717,  7.98042607, 13.09083488, 14.86214078,  6.23597127,\n",
       "       12.35246911,  9.19452235, 15.04717679, 16.23039254, 17.17240889,\n",
       "       13.3341216 ,  3.68035786, 12.53946851, 15.93674769,  8.67881357,\n",
       "       10.62459997, 19.5646526 , 18.3472282 , 15.24662975, 10.04846378,\n",
       "        8.17344188, 21.49061088, 14.137309  , 16.29760212,  8.90502274])"
      ]
     },
     "execution_count": 7,
     "metadata": {},
     "output_type": "execute_result"
    }
   ],
   "source": [
    "y_hat = mlr.predict(X_test)\n",
    "y_hat"
   ]
  },
  {
   "cell_type": "code",
   "execution_count": 8,
   "metadata": {},
   "outputs": [
    {
     "name": "stdout",
     "output_type": "stream",
     "text": [
      "均方误差(MSE)： 3.69139484569861\n",
      "根均方误差(RMSE)： 1.9213003007595169\n",
      "平均绝对值误差(MAE)： 1.2333759522850203\n",
      "训练集R^2： 0.9065727532450596\n",
      "测试集R^2： 0.8649018906637791\n"
     ]
    }
   ],
   "source": [
    "print(\"均方误差(MSE)：\", mean_squared_error(y_test, y_hat))\n",
    "print(\"根均方误差(RMSE)：\", np.sqrt(mean_squared_error(y_test, y_hat)))\n",
    "print(\"平均绝对值误差(MAE)：\", mean_absolute_error(y_test, y_hat))\n",
    "print(\"训练集R^2：\", r2_score(y_train, mlr.predict(X_train)))\n",
    "print(\"测试集R^2：\", r2_score(y_test, y_hat))"
   ]
  },
  {
   "cell_type": "code",
   "execution_count": null,
   "metadata": {},
   "outputs": [],
   "source": []
  }
 ],
 "metadata": {
  "kernelspec": {
   "display_name": "Python 3",
   "language": "python",
   "name": "python3"
  },
  "language_info": {
   "codemirror_mode": {
    "name": "ipython",
    "version": 3
   },
   "file_extension": ".py",
   "mimetype": "text/x-python",
   "name": "python",
   "nbconvert_exporter": "python",
   "pygments_lexer": "ipython3",
   "version": "3.7.6"
  },
  "toc": {
   "base_numbering": 1,
   "nav_menu": {},
   "number_sections": true,
   "sideBar": true,
   "skip_h1_title": false,
   "title_cell": "Table of Contents",
   "title_sidebar": "Contents",
   "toc_cell": false,
   "toc_position": {},
   "toc_section_display": true,
   "toc_window_display": false
  }
 },
 "nbformat": 4,
 "nbformat_minor": 2
}
