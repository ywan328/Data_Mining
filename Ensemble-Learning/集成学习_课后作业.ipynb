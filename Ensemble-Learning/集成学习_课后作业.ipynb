{
 "cells": [
  {
   "cell_type": "markdown",
   "metadata": {},
   "source": [
    "# 第一题\n",
    "## 回归"
   ]
  },
  {
   "cell_type": "code",
   "execution_count": 1,
   "metadata": {},
   "outputs": [],
   "source": [
    "from sklearn.datasets import load_wine, load_boston\n",
    "from sklearn.model_selection import train_test_split\n",
    "from sklearn.ensemble import BaggingClassifier, RandomForestClassifier, RandomForestRegressor\n",
    "from sklearn.tree import DecisionTreeClassifier\n",
    "from sklearn.feature_selection import RFECV"
   ]
  },
  {
   "cell_type": "code",
   "execution_count": 2,
   "metadata": {},
   "outputs": [
    {
     "name": "stdout",
     "output_type": "stream",
     "text": [
      "重要度: [1 6 3 5 1 1 1 1 4 1 1 2 1]\n",
      "是否选择: [ True False False False  True  True  True  True False  True  True False\n",
      "  True]\n"
     ]
    }
   ],
   "source": [
    "X, y = load_boston(return_X_y=True)\n",
    "\n",
    "X_train, X_test, y_train, y_test = train_test_split(X, y, test_size=0.3, random_state=0)\n",
    "rf = RandomForestRegressor()\n",
    "rfecv = RFECV(estimator=rf)\n",
    "rfecv.fit(X_train, y_train)\n",
    "\n",
    "print(\"重要度:\", rfecv.ranking_)\n",
    "\n",
    "print(\"是否选择:\", rfecv.support_)"
   ]
  },
  {
   "cell_type": "code",
   "execution_count": 3,
   "metadata": {},
   "outputs": [
    {
     "name": "stdout",
     "output_type": "stream",
     "text": [
      "0.8275288534960447\n"
     ]
    }
   ],
   "source": [
    "X_test_rfcv = rfecv.transform(X_test)\n",
    "print(rfecv.estimator_.score(X_test_rfcv, y_test))"
   ]
  },
  {
   "cell_type": "markdown",
   "metadata": {},
   "source": [
    "## 分类"
   ]
  },
  {
   "cell_type": "code",
   "execution_count": 4,
   "metadata": {},
   "outputs": [
    {
     "name": "stdout",
     "output_type": "stream",
     "text": [
      "[1 5 6 2 3 1 1 7 4 1 1 1 1]\n",
      "[ True False False False False  True  True False False  True  True  True\n",
      "  True]\n"
     ]
    }
   ],
   "source": [
    "X, y = load_wine(return_X_y=True)\n",
    "\n",
    "X_train, X_test, y_train, y_test = train_test_split(X, y, test_size=0.3, random_state=0)\n",
    "rf = RandomForestClassifier()\n",
    "rfecv = RFECV(estimator=rf, step=1, cv=5, scoring=\"accuracy\")\n",
    "rfecv.fit(X_train, y_train)\n",
    "\n",
    "# print(rfecv.estimator_)\n",
    "print(rfecv.ranking_)\n",
    "print(rfecv.support_)"
   ]
  },
  {
   "cell_type": "code",
   "execution_count": 5,
   "metadata": {},
   "outputs": [
    {
     "name": "stdout",
     "output_type": "stream",
     "text": [
      "0.9629629629629629\n"
     ]
    }
   ],
   "source": [
    "X_test_rfcv = rfecv.transform(X_test)\n",
    "print(rfecv.estimator_.score(X_test_rfcv, y_test))"
   ]
  },
  {
   "cell_type": "markdown",
   "metadata": {},
   "source": [
    "# 第二题"
   ]
  },
  {
   "cell_type": "markdown",
   "metadata": {},
   "source": [
    "因为决策树模型中会有一个随机数选项, 如果设置了固定的值, 就不会变了"
   ]
  },
  {
   "cell_type": "code",
   "execution_count": 6,
   "metadata": {},
   "outputs": [
    {
     "name": "stdout",
     "output_type": "stream",
     "text": [
      "1.0 0.9629629629629629\n",
      "1.0 0.9629629629629629\n",
      "1.0 0.9444444444444444\n",
      "1.0 0.9629629629629629\n",
      "1.0 0.8703703703703703\n",
      "1.0 0.9259259259259259\n",
      "1.0 0.9629629629629629\n",
      "1.0 0.8703703703703703\n",
      "1.0 0.8703703703703703\n",
      "1.0 0.9629629629629629\n"
     ]
    }
   ],
   "source": [
    "for i in range(10):\n",
    "    tree = DecisionTreeClassifier()\n",
    "    tree.fit(X_train, y_train)\n",
    "    print(tree.score(X_train, y_train), tree.score(X_test, y_test))"
   ]
  },
  {
   "cell_type": "code",
   "execution_count": 7,
   "metadata": {},
   "outputs": [
    {
     "name": "stdout",
     "output_type": "stream",
     "text": [
      "1.0 0.9444444444444444\n",
      "1.0 0.9444444444444444\n",
      "1.0 0.9444444444444444\n",
      "1.0 0.9444444444444444\n",
      "1.0 0.9444444444444444\n",
      "1.0 0.9444444444444444\n",
      "1.0 0.9444444444444444\n",
      "1.0 0.9444444444444444\n",
      "1.0 0.9444444444444444\n",
      "1.0 0.9444444444444444\n"
     ]
    }
   ],
   "source": [
    "for i in range(10):\n",
    "    tree = DecisionTreeClassifier(random_state=0)\n",
    "    tree.fit(X_train, y_train)\n",
    "    print(tree.score(X_train, y_train), tree.score(X_test, y_test))"
   ]
  },
  {
   "cell_type": "code",
   "execution_count": null,
   "metadata": {},
   "outputs": [],
   "source": []
  }
 ],
 "metadata": {
  "kernelspec": {
   "display_name": "Python 3",
   "language": "python",
   "name": "python3"
  },
  "language_info": {
   "codemirror_mode": {
    "name": "ipython",
    "version": 3
   },
   "file_extension": ".py",
   "mimetype": "text/x-python",
   "name": "python",
   "nbconvert_exporter": "python",
   "pygments_lexer": "ipython3",
   "version": "3.8.3"
  },
  "toc": {
   "base_numbering": 1,
   "nav_menu": {},
   "number_sections": true,
   "sideBar": true,
   "skip_h1_title": false,
   "title_cell": "Table of Contents",
   "title_sidebar": "Contents",
   "toc_cell": false,
   "toc_position": {},
   "toc_section_display": true,
   "toc_window_display": false
  },
  "varInspector": {
   "cols": {
    "lenName": 16,
    "lenType": 16,
    "lenVar": 40
   },
   "kernels_config": {
    "python": {
     "delete_cmd_postfix": "",
     "delete_cmd_prefix": "del ",
     "library": "var_list.py",
     "varRefreshCmd": "print(var_dic_list())"
    },
    "r": {
     "delete_cmd_postfix": ") ",
     "delete_cmd_prefix": "rm(",
     "library": "var_list.r",
     "varRefreshCmd": "cat(var_dic_list()) "
    }
   },
   "types_to_exclude": [
    "module",
    "function",
    "builtin_function_or_method",
    "instance",
    "_Feature"
   ],
   "window_display": false
  }
 },
 "nbformat": 4,
 "nbformat_minor": 2
}
