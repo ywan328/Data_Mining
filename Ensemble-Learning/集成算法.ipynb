{
 "cells": [
  {
   "cell_type": "code",
   "execution_count": 1,
   "metadata": {},
   "outputs": [],
   "source": [
    "import numpy as np\n",
    "import matplotlib as mpl\n",
    "import matplotlib.pyplot as plt\n",
    "# 计算组合值。\n",
    "from scipy.special import comb\n",
    "\n",
    "mpl.rcParams[\"font.family\"] = \"SimHei\"\n",
    "mpl.rcParams[\"axes.unicode_minus\"] = False\n",
    "mpl.rcParams[\"font.size\"] = 12"
   ]
  },
  {
   "cell_type": "code",
   "execution_count": 2,
   "metadata": {},
   "outputs": [
    {
     "data": {
      "text/plain": [
       "array([0.03432751, 0.07822479])"
      ]
     },
     "execution_count": 2,
     "metadata": {},
     "output_type": "execute_result"
    }
   ],
   "source": [
    "def ensemble_error(n, error):\n",
    "    \"\"\"用来计算集成分类器发生错误的概率密度值。\n",
    "    如果要使集成评估器预测错误，则需要半数以上的基本评估器发生错误。\n",
    "    当n为偶数时，达到半数错误，即认为集成评估器预测错误。\n",
    "    Parameters\n",
    "    ----------\n",
    "    n : int\n",
    "    基本评估器的数量\n",
    "    error : array-like, shape=(num, 1)\n",
    "    每一个基本评估器发生错误的概率。\n",
    "    \"\"\"\n",
    "    # 确保error为二维的ndarray数组类型，以用于后面的广播运算。\n",
    "    error = np.asarray(error)\n",
    "    # 计算半数错误的评估器个数。\n",
    "    start = np.ceil(n / 2.0)\n",
    "    # 计算当集成评估器发生错误，基本评估器错误个数的可能区间。\n",
    "    k = np.arange(start, n + 1)\n",
    "    # error的形状为(n1, 1)，k的形状为(n2,)，经过广播计算后，\n",
    "    # v的形状为(n1, n2)。每一行为一个不同错误率，每一列为在不同的k值\n",
    "    #（预测错误的评估器个数）下得到的错误概率。\n",
    "    v = comb(n, k) * error ** k * (1-error) ** (n - k)\n",
    "    # 将每一行的概率相加，就是最终在每个错误率下，集成评估器的错误率。\n",
    "    return np.sum(v, axis=1)\n",
    "\n",
    "ensemble_error(11, [[0.25], [0.3]])"
   ]
  },
  {
   "cell_type": "code",
   "execution_count": 3,
   "metadata": {},
   "outputs": [
    {
     "data": {
      "image/png": "[encoded data removed]",
      "text/plain": [
       "<Figure size 432x288 with 1 Axes>"
      ]
     },
     "metadata": {
      "needs_background": "light"
     },
     "output_type": "display_data"
    }
   ],
   "source": [
    "# 定义基本评估器发生错误的概率区间。\n",
    "error = np.arange(0.0, 1.01, 0.01)\n",
    "# 计算在不同error取值的情况下，集成评估器发生错误的概率。\n",
    "ens_errors = ensemble_error(n=11, error=error[:, np.newaxis])\n",
    "plt.plot(error, ens_errors, label=\"集成分类器\")\n",
    "plt.plot(error, error, linestyle=\"--\", label=\"基本分类器\")\n",
    "plt.xlabel(\"错误率\")\n",
    "plt.ylabel(\"基本/集成分类器错误率\")\n",
    "plt.legend(loc=\"best\")\n",
    "plt.title(\"集成分类器效果\")\n",
    "plt.grid()"
   ]
  },
  {
   "cell_type": "code",
   "execution_count": 4,
   "metadata": {},
   "outputs": [
    {
     "name": "stdout",
     "output_type": "stream",
     "text": [
      "决策树准确率：\n",
      "1.0\n",
      "0.48333333333333334\n"
     ]
    }
   ],
   "source": [
    "from sklearn.datasets import make_classification\n",
    "from sklearn.tree import DecisionTreeClassifier\n",
    "from sklearn.ensemble import BaggingClassifier\n",
    "from sklearn.model_selection import train_test_split\n",
    "\n",
    "# flip_y：类别随机分配的比例。值越大，则噪声越大，分类难度越大。\n",
    "X, y = make_classification(n_samples=1000, n_features=20, n_informative=15, n_classes=3, random_state=0, flip_y=0.2)\n",
    "X_train, X_test, y_train, y_test = train_test_split(X, y, test_size=0.3, random_state=0)\n",
    "\n",
    "# 定义一颗不限生长的决策树（强学习器）。\n",
    "tree = DecisionTreeClassifier()\n",
    "tree.fit(X_train, y_train)\n",
    "print(\"决策树准确率：\")\n",
    "print(tree.score(X_train, y_train))\n",
    "print(tree.score(X_test, y_test))"
   ]
  },
  {
   "cell_type": "code",
   "execution_count": 5,
   "metadata": {},
   "outputs": [
    {
     "name": "stdout",
     "output_type": "stream",
     "text": [
      "bagging准确率：\n",
      "1.0\n",
      "0.6766666666666666\n"
     ]
    }
   ],
   "source": [
    "# base_estimator：指定基本评估器。即bagging算法所组合的评估器。\n",
    "# n_estimators：基本评估器的数量。有多少个评估器，就会进行多少次随机采样，产生多少个原始数据集的子集。\n",
    "# max_samples：每次随机采样的样本数量。该参数可以是int类型或float类型。如果是int类型，则指定采样的样本数量。\n",
    "# 如果是float类型，则指定采样占原始数据集的比例。\n",
    "# max_features：每次随机采样的特征数量。可以是int类型或float类型。\n",
    "# bootstrap：指定是否进行放回抽样。默认为True。\n",
    "# bootstrap_features：指定对特征是否进行重复抽取。默认为False。\n",
    "\n",
    "bag = BaggingClassifier(base_estimator=tree, n_estimators=100, max_samples=0.8, max_features=0.8)\n",
    "bag.fit(X_train, y_train)\n",
    "print(\"bagging准确率：\")\n",
    "print(bag.score(X_train, y_train))\n",
    "print(bag.score(X_test, y_test))"
   ]
  },
  {
   "cell_type": "code",
   "execution_count": 6,
   "metadata": {},
   "outputs": [],
   "source": [
    "from sklearn.datasets import load_diabetes\n",
    "from sklearn.linear_model import LinearRegression\n",
    "from sklearn.ensemble import BaggingRegressor\n",
    "from sklearn.model_selection import train_test_split\n",
    "\n",
    "X, y = load_diabetes(return_X_y=True)\n",
    "\n",
    "X_train, X_test, y_train, y_test = train_test_split(X, y, test_size=0.3, random_state=0)"
   ]
  },
  {
   "cell_type": "code",
   "execution_count": 7,
   "metadata": {},
   "outputs": [
    {
     "name": "stdout",
     "output_type": "stream",
     "text": [
      "线性回归R^2值：\n",
      "0.5539411781927147\n",
      "0.39289398450747565\n"
     ]
    }
   ],
   "source": [
    "lr = LinearRegression()\n",
    "lr.fit(X_train, y_train)\n",
    "\n",
    "print(\"线性回归R^2值：\")\n",
    "print(lr.score(X_train, y_train))\n",
    "print(lr.score(X_test, y_test))"
   ]
  },
  {
   "cell_type": "code",
   "execution_count": 8,
   "metadata": {},
   "outputs": [
    {
     "name": "stdout",
     "output_type": "stream",
     "text": [
      "bagging R^2值：\n",
      "0.5492296198787749\n",
      "0.42166970472834586\n"
     ]
    }
   ],
   "source": [
    "bag = BaggingRegressor(lr, n_estimators=100, max_samples=0.9, max_features=0.9)\n",
    "bag.fit(X, y)\n",
    "\n",
    "print(\"bagging R^2值：\")\n",
    "print(bag.score(X_train, y_train))\n",
    "print(bag.score(X_test, y_test))"
   ]
  },
  {
   "cell_type": "code",
   "execution_count": 9,
   "metadata": {},
   "outputs": [
    {
     "name": "stdout",
     "output_type": "stream",
     "text": [
      "决策树分类准确率：\n",
      "1.0\n",
      "0.8611111111111112\n"
     ]
    }
   ],
   "source": [
    "# 葡萄酒数据集\n",
    "from sklearn.datasets import load_wine\n",
    "from sklearn.model_selection import train_test_split\n",
    "from sklearn.ensemble import BaggingClassifier, RandomForestClassifier\n",
    "from sklearn.tree import DecisionTreeClassifier\n",
    "\n",
    "X, y = load_wine(return_X_y=True)\n",
    "# 为了可视化方便，简化操作，我们只取两个特征。\n",
    "X = X[:, [0, 10]]\n",
    "# 我们过滤掉0的类别，只取两个类别。\n",
    "X = X[y != 0]\n",
    "y = y[y != 0]\n",
    "X_train, X_test, y_train, y_test = train_test_split(X, y, test_size=0.3, random_state=0)\n",
    "tree = DecisionTreeClassifier(criterion=\"gini\")\n",
    "tree = tree.fit(X_train, y_train)\n",
    "print(\"决策树分类准确率：\")\n",
    "print(tree.score(X_train, y_train))\n",
    "print(tree.score(X_test, y_test))"
   ]
  },
  {
   "cell_type": "code",
   "execution_count": 10,
   "metadata": {},
   "outputs": [
    {
     "name": "stdout",
     "output_type": "stream",
     "text": [
      "bagging准确率：\n",
      "1.0\n",
      "0.8888888888888888\n"
     ]
    }
   ],
   "source": [
    "# n_jobs 开辟进程的数量。如果指定-1，则表示利用现有的所有CPU来实现并行化。\n",
    "bag = BaggingClassifier(base_estimator=tree, n_estimators=100,\n",
    "max_samples=0.9, max_features=1.0, bootstrap=True, bootstrap_features=False, n_jobs=-1,\n",
    "random_state=0)\n",
    "bag = bag.fit(X_train, y_train)\n",
    "\n",
    "print(\"bagging准确率：\")\n",
    "print(bag.score(X_train, y_train))\n",
    "print(bag.score(X_test, y_test))"
   ]
  },
  {
   "cell_type": "code",
   "execution_count": 11,
   "metadata": {},
   "outputs": [
    {
     "name": "stdout",
     "output_type": "stream",
     "text": [
      "随机森林准确率：\n",
      "1.0\n",
      "0.8888888888888888\n"
     ]
    }
   ],
   "source": [
    "# n_estimators：基本评估器（决策树）的数量。\n",
    "# max_samples：每次抽样用于训练基本评估器的样本数量。\n",
    "# bootstrap：如果为True（默认值），抽样允许重复（放回抽样）。如果为False，则使用所有的样本训练每棵决策树。\n",
    "# 注意该参数的含义与bagging的参数有所不同。\n",
    "# max_samples：当bootstrap为True时，训练每棵决策树所使用的样本数。默认为None（使用所有的样本）。\n",
    "rf = RandomForestClassifier(n_estimators=100, criterion=\"gini\", random_state=0)\n",
    "rf.fit(X_train, y_train)\n",
    "\n",
    "print(\"随机森林准确率：\")\n",
    "print(rf.score(X_train, y_train))\n",
    "print(rf.score(X_test, y_test))"
   ]
  },
  {
   "cell_type": "code",
   "execution_count": 12,
   "metadata": {},
   "outputs": [],
   "source": [
    "from matplotlib.colors import ListedColormap\n",
    "\n",
    "def plot_decision_boundary(model, X, y):\n",
    "    \"\"\"绘制model模型的决策边界。\n",
    "    绘制决策边界，同时绘制样本数据X与对应的类别y，\n",
    "    用于可视化模型的分类效果。\n",
    "    Parameters\n",
    "    ----------\n",
    "    model : object\n",
    "    模型对象。\n",
    "    X : array-like\n",
    "    需要绘制的样本数据。\n",
    "    y : array-like\n",
    "    每个样本数据对应的类别（标签）。\n",
    "    \"\"\"\n",
    "    # 定义不同类别的颜色与符号。可以用于二分类与三分类。\n",
    "    color = [\"r\", \"g\", \"b\"]\n",
    "    marker = [\"o\", \"v\", \"x\"]\n",
    "    # 获取数据中不重复的标签。\n",
    "    class_label = np.unique(y)\n",
    "    # 定义颜色图，在绘制等高线的时候使用，不同的值使用不同的颜色来绘制。\n",
    "    cmap = ListedColormap(color[: len(class_label)])\n",
    "    # 获取每个特征的最小值与最大值。\n",
    "    x1_min, x2_min = np.min(X, axis=0)\n",
    "    x1_max, x2_max = np.max(X, axis=0)\n",
    "    # 定义每个特征的取值范围。\n",
    "    x1 = np.arange(x1_min - 1, x1_max + 1, 0.02)\n",
    "    x2 = np.arange(x2_min - 1, x2_max + 1, 0.02)\n",
    "    # 对数组x1,x2进行扩展，获取二者的笛卡尔积组合，用于送入模型中，进行预测。\n",
    "    X1, X2 = np.meshgrid(x1, x2)\n",
    "    # 将之前两个特征的笛卡尔积组合送入模型中，预测结果。\n",
    "    Z = model.predict(np.array([X1.ravel(),\n",
    "    X2.ravel()]).T).reshape(X1.shape)\n",
    "    # 根据Z值的不同，绘制等高线（不同的值使用不同的颜色表示）。\n",
    "    plt.contourf(X1, X2, Z, cmap=cmap, alpha=0.5)\n",
    "    # 绘制样本数据X。\n",
    "    for i, class_ in enumerate(class_label):\n",
    "        plt.scatter(x=X[y == class_, 0], y=X[y == class_, 1], c=cmap.colors[i], label=class_, marker=marker[i])\n",
    "    plt.legend()"
   ]
  },
  {
   "cell_type": "code",
   "execution_count": 13,
   "metadata": {},
   "outputs": [
    {
     "data": {
      "image/png": "[encoded data removed]",
      "text/plain": [
       "<Figure size 1296x360 with 3 Axes>"
      ]
     },
     "metadata": {
      "needs_background": "light"
     },
     "output_type": "display_data"
    }
   ],
   "source": [
    "plt.figure(figsize=(18, 5))\n",
    "name = [\"决策树\", \"bagging\", \"随机森林\"]\n",
    "for index, estimator in enumerate([tree, bag, rf], start=1):\n",
    "    plt.subplot(1, 3, index)\n",
    "    plot_decision_boundary(estimator, X_train, y_train)"
   ]
  },
  {
   "cell_type": "code",
   "execution_count": 14,
   "metadata": {},
   "outputs": [
    {
     "name": "stdout",
     "output_type": "stream",
     "text": [
      "(359, 64) (359,)\n"
     ]
    },
    {
     "data": {
      "image/png": "[encoded data removed]",
      "text/plain": [
       "<Figure size 1080x1800 with 20 Axes>"
      ]
     },
     "metadata": {
      "needs_background": "light"
     },
     "output_type": "display_data"
    }
   ],
   "source": [
    "from sklearn.datasets import load_digits\n",
    "from sklearn.ensemble import RandomForestClassifier\n",
    "\n",
    "digits = load_digits()\n",
    "X, y = digits.data, digits.target\n",
    "mask = (y == 0) | (y == 6)\n",
    "X = X[mask]\n",
    "y = y[mask]\n",
    "print(X.shape, y.shape)\n",
    "\n",
    "row, col = 5, 4\n",
    "fig, ax = plt.subplots(row, col)\n",
    "ax = ax.ravel()\n",
    "fig.set_size_inches(15, row * 5)\n",
    "for i in range(row * col):\n",
    "    ax[i].imshow(X[i].reshape(8, 8), cmap=\"gray\")"
   ]
  },
  {
   "cell_type": "code",
   "execution_count": 15,
   "metadata": {},
   "outputs": [
    {
     "name": "stdout",
     "output_type": "stream",
     "text": [
      "1.0\n"
     ]
    }
   ],
   "source": [
    "rf = RandomForestClassifier(n_estimators=100, max_features=0.8, random_state=0)\n",
    "rf.fit(X, y)\n",
    "print(rf.score(X, y))"
   ]
  },
  {
   "cell_type": "code",
   "execution_count": 16,
   "metadata": {},
   "outputs": [
    {
     "name": "stdout",
     "output_type": "stream",
     "text": [
      "[0.00000000e+00 0.00000000e+00 0.00000000e+00 0.00000000e+00\n",
      " 1.12981904e-04 1.11002333e-04 0.00000000e+00 0.00000000e+00\n",
      " 0.00000000e+00 0.00000000e+00 3.31831458e-04 0.00000000e+00\n",
      " 7.59283078e-04 1.28214747e-02 2.50816352e-03 0.00000000e+00\n",
      " 0.00000000e+00 0.00000000e+00 0.00000000e+00 0.00000000e+00\n",
      " 0.00000000e+00 5.74172641e-01 4.61586144e-03 0.00000000e+00\n",
      " 0.00000000e+00 5.57141970e-05 0.00000000e+00 2.69864695e-03\n",
      " 9.25326713e-03 1.87840875e-03 9.48801255e-02 0.00000000e+00\n",
      " 0.00000000e+00 0.00000000e+00 1.14899529e-04 1.26538510e-02\n",
      " 2.75078592e-01 1.38217325e-03 0.00000000e+00 0.00000000e+00\n",
      " 0.00000000e+00 0.00000000e+00 1.01708937e-04 2.69819236e-03\n",
      " 4.38275419e-04 0.00000000e+00 8.92535273e-05 0.00000000e+00\n",
      " 0.00000000e+00 0.00000000e+00 0.00000000e+00 0.00000000e+00\n",
      " 0.00000000e+00 0.00000000e+00 0.00000000e+00 1.10805889e-04\n",
      " 0.00000000e+00 0.00000000e+00 1.12033345e-04 2.17925127e-04\n",
      " 2.20251758e-04 2.58263493e-03 0.00000000e+00 0.00000000e+00]\n",
      "1.0\n"
     ]
    },
    {
     "data": {
      "text/plain": [
       "<matplotlib.colorbar.Colorbar at 0x1b966f97b48>"
      ]
     },
     "execution_count": 16,
     "metadata": {},
     "output_type": "execute_result"
    },
    {
     "data": {
      "image/png": "[encoded data removed]",
      "text/plain": [
       "<Figure size 720x720 with 2 Axes>"
      ]
     },
     "metadata": {
      "needs_background": "light"
     },
     "output_type": "display_data"
    }
   ],
   "source": [
    "# 返回特征的重要度。特征的重要度根据该特征对目标变量（y）的可预测性来度量。\n",
    "# 特征对目标变量的可预测性越有帮助，则重要度越大，否则越小。\n",
    "importances = rf.feature_importances_\n",
    "print(importances)\n",
    "# 特征重要度的权重之和为1。\n",
    "print(np.sum(importances))\n",
    "importances = importances.reshape(8, 8)\n",
    "plt.figure(figsize=(10, 10))\n",
    "# 绘制特征的重要度。\n",
    "plt.matshow(importances, cmap=plt.cm.hot, fignum=0)\n",
    "plt.colorbar()"
   ]
  },
  {
   "cell_type": "code",
   "execution_count": null,
   "metadata": {},
   "outputs": [],
   "source": []
  }
 ],
 "metadata": {
  "kernelspec": {
   "display_name": "Python 3",
   "language": "python",
   "name": "python3"
  },
  "language_info": {
   "codemirror_mode": {
    "name": "ipython",
    "version": 3
   },
   "file_extension": ".py",
   "mimetype": "text/x-python",
   "name": "python",
   "nbconvert_exporter": "python",
   "pygments_lexer": "ipython3",
   "version": "3.8.3"
  },
  "toc": {
   "base_numbering": 1,
   "nav_menu": {},
   "number_sections": true,
   "sideBar": true,
   "skip_h1_title": false,
   "title_cell": "Table of Contents",
   "title_sidebar": "Contents",
   "toc_cell": false,
   "toc_position": {},
   "toc_section_display": true,
   "toc_window_display": false
  },
  "varInspector": {
   "cols": {
    "lenName": 16,
    "lenType": 16,
    "lenVar": 40
   },
   "kernels_config": {
    "python": {
     "delete_cmd_postfix": "",
     "delete_cmd_prefix": "del ",
     "library": "var_list.py",
     "varRefreshCmd": "print(var_dic_list())"
    },
    "r": {
     "delete_cmd_postfix": ") ",
     "delete_cmd_prefix": "rm(",
     "library": "var_list.r",
     "varRefreshCmd": "cat(var_dic_list()) "
    }
   },
   "types_to_exclude": [
    "module",
    "function",
    "builtin_function_or_method",
    "instance",
    "_Feature"
   ],
   "window_display": false
  }
 },
 "nbformat": 4,
 "nbformat_minor": 4
}
