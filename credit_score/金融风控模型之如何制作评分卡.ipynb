{
 "cells": [
  {
   "cell_type": "markdown",
   "metadata": {},
   "source": [
    "## 4.1 探索数据"
   ]
  },
  {
   "cell_type": "markdown",
   "metadata": {},
   "source": [
    "### 4.1.1 导库/获取数据"
   ]
  },
  {
   "cell_type": "code",
   "execution_count": 2,
   "metadata": {},
   "outputs": [],
   "source": [
    "%matplotlib inline \n",
    "import numpy as np \n",
    "import pandas as pd "
   ]
  },
  {
   "cell_type": "code",
   "execution_count": 4,
   "metadata": {},
   "outputs": [
    {
     "data": {
      "text/html": [
       "<div>\n",
       "<style scoped>\n",
       "    .dataframe tbody tr th:only-of-type {\n",
       "        vertical-align: middle;\n",
       "    }\n",
       "\n",
       "    .dataframe tbody tr th {\n",
       "        vertical-align: top;\n",
       "    }\n",
       "\n",
       "    .dataframe thead th {\n",
       "        text-align: right;\n",
       "    }\n",
       "</style>\n",
       "<table border=\"1\" class=\"dataframe\">\n",
       "  <thead>\n",
       "    <tr style=\"text-align: right;\">\n",
       "      <th></th>\n",
       "      <th>SeriousDlqin2yrs</th>\n",
       "      <th>RevolvingUtilizationOfUnsecuredLines</th>\n",
       "      <th>age</th>\n",
       "      <th>NumberOfTime30-59DaysPastDueNotWorse</th>\n",
       "      <th>DebtRatio</th>\n",
       "      <th>MonthlyIncome</th>\n",
       "      <th>NumberOfOpenCreditLinesAndLoans</th>\n",
       "      <th>NumberOfTimes90DaysLate</th>\n",
       "      <th>NumberRealEstateLoansOrLines</th>\n",
       "      <th>NumberOfTime60-89DaysPastDueNotWorse</th>\n",
       "      <th>NumberOfDependents</th>\n",
       "    </tr>\n",
       "  </thead>\n",
       "  <tbody>\n",
       "    <tr>\n",
       "      <th>1</th>\n",
       "      <td>1</td>\n",
       "      <td>0.766127</td>\n",
       "      <td>45</td>\n",
       "      <td>2</td>\n",
       "      <td>0.802982</td>\n",
       "      <td>9120.0</td>\n",
       "      <td>13</td>\n",
       "      <td>0</td>\n",
       "      <td>6</td>\n",
       "      <td>0</td>\n",
       "      <td>2.0</td>\n",
       "    </tr>\n",
       "    <tr>\n",
       "      <th>2</th>\n",
       "      <td>0</td>\n",
       "      <td>0.957151</td>\n",
       "      <td>40</td>\n",
       "      <td>0</td>\n",
       "      <td>0.121876</td>\n",
       "      <td>2600.0</td>\n",
       "      <td>4</td>\n",
       "      <td>0</td>\n",
       "      <td>0</td>\n",
       "      <td>0</td>\n",
       "      <td>1.0</td>\n",
       "    </tr>\n",
       "    <tr>\n",
       "      <th>3</th>\n",
       "      <td>0</td>\n",
       "      <td>0.658180</td>\n",
       "      <td>38</td>\n",
       "      <td>1</td>\n",
       "      <td>0.085113</td>\n",
       "      <td>3042.0</td>\n",
       "      <td>2</td>\n",
       "      <td>1</td>\n",
       "      <td>0</td>\n",
       "      <td>0</td>\n",
       "      <td>0.0</td>\n",
       "    </tr>\n",
       "    <tr>\n",
       "      <th>4</th>\n",
       "      <td>0</td>\n",
       "      <td>0.233810</td>\n",
       "      <td>30</td>\n",
       "      <td>0</td>\n",
       "      <td>0.036050</td>\n",
       "      <td>3300.0</td>\n",
       "      <td>5</td>\n",
       "      <td>0</td>\n",
       "      <td>0</td>\n",
       "      <td>0</td>\n",
       "      <td>0.0</td>\n",
       "    </tr>\n",
       "    <tr>\n",
       "      <th>5</th>\n",
       "      <td>0</td>\n",
       "      <td>0.907239</td>\n",
       "      <td>49</td>\n",
       "      <td>1</td>\n",
       "      <td>0.024926</td>\n",
       "      <td>63588.0</td>\n",
       "      <td>7</td>\n",
       "      <td>0</td>\n",
       "      <td>1</td>\n",
       "      <td>0</td>\n",
       "      <td>0.0</td>\n",
       "    </tr>\n",
       "  </tbody>\n",
       "</table>\n",
       "</div>"
      ],
      "text/plain": [
       "   SeriousDlqin2yrs  RevolvingUtilizationOfUnsecuredLines  age  \\\n",
       "1                 1                              0.766127   45   \n",
       "2                 0                              0.957151   40   \n",
       "3                 0                              0.658180   38   \n",
       "4                 0                              0.233810   30   \n",
       "5                 0                              0.907239   49   \n",
       "\n",
       "   NumberOfTime30-59DaysPastDueNotWorse  DebtRatio  MonthlyIncome  \\\n",
       "1                                     2   0.802982         9120.0   \n",
       "2                                     0   0.121876         2600.0   \n",
       "3                                     1   0.085113         3042.0   \n",
       "4                                     0   0.036050         3300.0   \n",
       "5                                     1   0.024926        63588.0   \n",
       "\n",
       "   NumberOfOpenCreditLinesAndLoans  NumberOfTimes90DaysLate  \\\n",
       "1                               13                        0   \n",
       "2                                4                        0   \n",
       "3                                2                        1   \n",
       "4                                5                        0   \n",
       "5                                7                        0   \n",
       "\n",
       "   NumberRealEstateLoansOrLines  NumberOfTime60-89DaysPastDueNotWorse  \\\n",
       "1                             6                                     0   \n",
       "2                             0                                     0   \n",
       "3                             0                                     0   \n",
       "4                             0                                     0   \n",
       "5                             1                                     0   \n",
       "\n",
       "   NumberOfDependents  \n",
       "1                 2.0  \n",
       "2                 1.0  \n",
       "3                 0.0  \n",
       "4                 0.0  \n",
       "5                 0.0  "
      ]
     },
     "execution_count": 4,
     "metadata": {},
     "output_type": "execute_result"
    }
   ],
   "source": [
    "data = pd.read_csv(r\"Acard.csv\",index_col=0)\n",
    "#观察数据类型 \n",
    "data.head() "
   ]
  },
  {
   "cell_type": "code",
   "execution_count": 5,
   "metadata": {},
   "outputs": [
    {
     "data": {
      "text/plain": [
       "(150000, 11)"
      ]
     },
     "execution_count": 5,
     "metadata": {},
     "output_type": "execute_result"
    }
   ],
   "source": [
    "#观察数据结构 \n",
    "data.shape"
   ]
  },
  {
   "cell_type": "code",
   "execution_count": 6,
   "metadata": {},
   "outputs": [
    {
     "name": "stdout",
     "output_type": "stream",
     "text": [
      "<class 'pandas.core.frame.DataFrame'>\n",
      "Int64Index: 150000 entries, 1 to 150000\n",
      "Data columns (total 11 columns):\n",
      "SeriousDlqin2yrs                        150000 non-null int64\n",
      "RevolvingUtilizationOfUnsecuredLines    150000 non-null float64\n",
      "age                                     150000 non-null int64\n",
      "NumberOfTime30-59DaysPastDueNotWorse    150000 non-null int64\n",
      "DebtRatio                               150000 non-null float64\n",
      "MonthlyIncome                           120269 non-null float64\n",
      "NumberOfOpenCreditLinesAndLoans         150000 non-null int64\n",
      "NumberOfTimes90DaysLate                 150000 non-null int64\n",
      "NumberRealEstateLoansOrLines            150000 non-null int64\n",
      "NumberOfTime60-89DaysPastDueNotWorse    150000 non-null int64\n",
      "NumberOfDependents                      146076 non-null float64\n",
      "dtypes: float64(4), int64(7)\n",
      "memory usage: 13.7 MB\n"
     ]
    }
   ],
   "source": [
    "data.info() "
   ]
  },
  {
   "cell_type": "markdown",
   "metadata": {},
   "source": [
    "### 4.1.2 去重复值"
   ]
  },
  {
   "cell_type": "code",
   "execution_count": 8,
   "metadata": {},
   "outputs": [
    {
     "name": "stdout",
     "output_type": "stream",
     "text": [
      "<class 'pandas.core.frame.DataFrame'>\n",
      "Int64Index: 149391 entries, 1 to 150000\n",
      "Data columns (total 11 columns):\n",
      "SeriousDlqin2yrs                        149391 non-null int64\n",
      "RevolvingUtilizationOfUnsecuredLines    149391 non-null float64\n",
      "age                                     149391 non-null int64\n",
      "NumberOfTime30-59DaysPastDueNotWorse    149391 non-null int64\n",
      "DebtRatio                               149391 non-null float64\n",
      "MonthlyIncome                           120170 non-null float64\n",
      "NumberOfOpenCreditLinesAndLoans         149391 non-null int64\n",
      "NumberOfTimes90DaysLate                 149391 non-null int64\n",
      "NumberRealEstateLoansOrLines            149391 non-null int64\n",
      "NumberOfTime60-89DaysPastDueNotWorse    149391 non-null int64\n",
      "NumberOfDependents                      145563 non-null float64\n",
      "dtypes: float64(4), int64(7)\n",
      "memory usage: 13.7 MB\n"
     ]
    }
   ],
   "source": [
    "data.drop_duplicates(inplace=True) "
   ]
  },
  {
   "cell_type": "code",
   "execution_count": 9,
   "metadata": {},
   "outputs": [
    {
     "name": "stdout",
     "output_type": "stream",
     "text": [
      "<class 'pandas.core.frame.DataFrame'>\n",
      "RangeIndex: 149391 entries, 0 to 149390\n",
      "Data columns (total 11 columns):\n",
      "SeriousDlqin2yrs                        149391 non-null int64\n",
      "RevolvingUtilizationOfUnsecuredLines    149391 non-null float64\n",
      "age                                     149391 non-null int64\n",
      "NumberOfTime30-59DaysPastDueNotWorse    149391 non-null int64\n",
      "DebtRatio                               149391 non-null float64\n",
      "MonthlyIncome                           120170 non-null float64\n",
      "NumberOfOpenCreditLinesAndLoans         149391 non-null int64\n",
      "NumberOfTimes90DaysLate                 149391 non-null int64\n",
      "NumberRealEstateLoansOrLines            149391 non-null int64\n",
      "NumberOfTime60-89DaysPastDueNotWorse    149391 non-null int64\n",
      "NumberOfDependents                      145563 non-null float64\n",
      "dtypes: float64(4), int64(7)\n",
      "memory usage: 12.5 MB\n"
     ]
    }
   ],
   "source": [
    "data.index = range(data.shape[0]) \n",
    "  \n",
    "data.info()"
   ]
  },
  {
   "cell_type": "markdown",
   "metadata": {},
   "source": [
    "### 4.1.3 填补缺失值"
   ]
  },
  {
   "cell_type": "code",
   "execution_count": 11,
   "metadata": {},
   "outputs": [
    {
     "data": {
      "text/plain": [
       "SeriousDlqin2yrs                        0.000000\n",
       "RevolvingUtilizationOfUnsecuredLines    0.000000\n",
       "age                                     0.000000\n",
       "NumberOfTime30-59DaysPastDueNotWorse    0.000000\n",
       "DebtRatio                               0.000000\n",
       "MonthlyIncome                           0.195601\n",
       "NumberOfOpenCreditLinesAndLoans         0.000000\n",
       "NumberOfTimes90DaysLate                 0.000000\n",
       "NumberRealEstateLoansOrLines            0.000000\n",
       "NumberOfTime60-89DaysPastDueNotWorse    0.000000\n",
       "NumberOfDependents                      0.025624\n",
       "dtype: float64"
      ]
     },
     "execution_count": 11,
     "metadata": {},
     "output_type": "execute_result"
    }
   ],
   "source": [
    "data.isnull().sum()/data.shape[0]  # data.isnull().mean() "
   ]
  },
  {
   "cell_type": "code",
   "execution_count": 12,
   "metadata": {},
   "outputs": [
    {
     "data": {
      "text/plain": [
       "SeriousDlqin2yrs                        0.000000\n",
       "RevolvingUtilizationOfUnsecuredLines    0.000000\n",
       "age                                     0.000000\n",
       "NumberOfTime30-59DaysPastDueNotWorse    0.000000\n",
       "DebtRatio                               0.000000\n",
       "MonthlyIncome                           0.195601\n",
       "NumberOfOpenCreditLinesAndLoans         0.000000\n",
       "NumberOfTimes90DaysLate                 0.000000\n",
       "NumberRealEstateLoansOrLines            0.000000\n",
       "NumberOfTime60-89DaysPastDueNotWorse    0.000000\n",
       "NumberOfDependents                      0.000000\n",
       "dtype: float64"
      ]
     },
     "execution_count": 12,
     "metadata": {},
     "output_type": "execute_result"
    }
   ],
   "source": [
    "data[\"NumberOfDependents\"].fillna(int(data[\"NumberOfDependents\"].mean()),inplace=True) \n",
    "  \n",
    "data.isnull().sum()/data.shape[0] "
   ]
  },
  {
   "cell_type": "code",
   "execution_count": 13,
   "metadata": {},
   "outputs": [],
   "source": [
    "def fill_missing_rf(X, y, to_fill):\n",
    "    \"\"\"\n",
    "    X：要填补的特征矩阵\n",
    "    y：完整的，没有缺失值的标签\n",
    "    to_fill：字符串，要填补的那一列的名称/MonthlyIncome\n",
    "    \"\"\"\n",
    "    # 构建新特征矩阵和新标签\n",
    "    df = X.copy() \n",
    "    fill = df.loc[:, to_fill]\n",
    "    df = pd.concat([df.loc[:, df.columns != to_fill], pd.DataFrame(y)], axis=1)\n",
    "\n",
    "    #找出训练集和测试集\n",
    "    Ytrain = fill[fill.notnull()]\n",
    "    Ytest = fill[fill.isnull()]\n",
    "    Xtrain = df.iloc[Ytrain.index, :]\n",
    "    Xtest = df.iloc[Ytest.index, :]\n",
    "\n",
    "    from sklearn.ensemble import RandomForestRegressor as rfr\n",
    "    #用随机森林回归来填补缺失值\n",
    "    rfr = rfr(n_estimators=100)\n",
    "    rfr = rfr.fit(Xtrain, Ytrain)\n",
    "    Ypredict = rfr.predict(Xtest)\n",
    "    \n",
    "    return Ypredict"
   ]
  },
  {
   "cell_type": "code",
   "execution_count": 14,
   "metadata": {},
   "outputs": [],
   "source": [
    "X = data.iloc[:,1:] \n",
    "y = data[\"SeriousDlqin2yrs\"] \n",
    "\n",
    "y_pred = fill_missing_rf(X,y,\"MonthlyIncome\") \n",
    "  \n",
    "#确认我们的结果合理之后，我们就可以将数据覆盖了 \n",
    "data.loc[data.loc[:,\"MonthlyIncome\"].isnull(),\"MonthlyIncome\"] = y_pred"
   ]
  },
  {
   "cell_type": "code",
   "execution_count": 15,
   "metadata": {},
   "outputs": [
    {
     "data": {
      "text/plain": [
       "(29221,)"
      ]
     },
     "execution_count": 15,
     "metadata": {},
     "output_type": "execute_result"
    }
   ],
   "source": [
    "y_pred.shape"
   ]
  },
  {
   "cell_type": "markdown",
   "metadata": {},
   "source": [
    "## 4.2 描述性统计"
   ]
  },
  {
   "cell_type": "markdown",
   "metadata": {},
   "source": [
    "### 4.2.1 处理异常值"
   ]
  },
  {
   "cell_type": "code",
   "execution_count": 22,
   "metadata": {},
   "outputs": [
    {
     "data": {
      "image/png": "[encoded data removed]",
      "text/plain": [
       "<Figure size 432x288 with 1 Axes>"
      ]
     },
     "metadata": {
      "needs_background": "light"
     },
     "output_type": "display_data"
    }
   ],
   "source": [
    "import seaborn as sns\n",
    "from matplotlib import pyplot as plt\n",
    "\n",
    "x1=data['age']\n",
    "fig,axes = plt.subplots()\n",
    "axes.boxplot(x1)\n",
    "axes.set_xticklabels(['age'])\n",
    "\n",
    "data = data[data['age']>0]\n",
    "data = data[data['age']<100]"
   ]
  },
  {
   "cell_type": "code",
   "execution_count": 23,
   "metadata": {},
   "outputs": [
    {
     "data": {
      "text/plain": [
       "(149377, 11)"
      ]
     },
     "execution_count": 23,
     "metadata": {},
     "output_type": "execute_result"
    }
   ],
   "source": [
    "data = data[data[\"age\"] != 0] \n",
    "data.shape"
   ]
  },
  {
   "cell_type": "code",
   "execution_count": 28,
   "metadata": {},
   "outputs": [
    {
     "name": "stdout",
     "output_type": "stream",
     "text": [
      "<class 'pandas.core.frame.DataFrame'>\n",
      "RangeIndex: 149152 entries, 0 to 149151\n",
      "Data columns (total 11 columns):\n",
      "SeriousDlqin2yrs                        149152 non-null int64\n",
      "RevolvingUtilizationOfUnsecuredLines    149152 non-null float64\n",
      "age                                     149152 non-null int64\n",
      "NumberOfTime30-59DaysPastDueNotWorse    149152 non-null int64\n",
      "DebtRatio                               149152 non-null float64\n",
      "MonthlyIncome                           149152 non-null float64\n",
      "NumberOfOpenCreditLinesAndLoans         149152 non-null int64\n",
      "NumberOfTimes90DaysLate                 149152 non-null int64\n",
      "NumberRealEstateLoansOrLines            149152 non-null int64\n",
      "NumberOfTime60-89DaysPastDueNotWorse    149152 non-null int64\n",
      "NumberOfDependents                      149152 non-null float64\n",
      "dtypes: float64(4), int64(7)\n",
      "memory usage: 12.5 MB\n"
     ]
    }
   ],
   "source": [
    "data.describe([0.01,0.1,0.25,.5,.75,.9,.99])\n",
    "(data[\"age\"] == 0).sum() \n",
    "\n",
    "data = data[data[\"age\"] != 0] \n",
    "\n",
    "data[data.loc[:,\"NumberOfTimes90DaysLate\"] > 90].count() \n",
    "  \n",
    "data = data[data.loc[:,\"NumberOfTimes90DaysLate\"] < 90] \n",
    "\n",
    "data.index = range(data.shape[0]) \n",
    "data.info() "
   ]
  },
  {
   "cell_type": "markdown",
   "metadata": {},
   "source": [
    "### 4.2.2 处理样本不均衡问题"
   ]
  },
  {
   "cell_type": "code",
   "execution_count": 29,
   "metadata": {},
   "outputs": [
    {
     "name": "stdout",
     "output_type": "stream",
     "text": [
      "样本个数：149152; 1占6.62%; 0占 93.38%\n"
     ]
    },
    {
     "data": {
      "image/png": "[encoded data removed]",
      "text/plain": [
       "<Figure size 432x288 with 1 Axes>"
      ]
     },
     "metadata": {
      "needs_background": "light"
     },
     "output_type": "display_data"
    }
   ],
   "source": [
    "#探索标签的分布 \n",
    "X = data.iloc[:,1:] \n",
    "y = data.iloc[:,0] \n",
    "  \n",
    "y.value_counts() \n",
    "  \n",
    "n_sample = X.shape[0] \n",
    "  \n",
    "n_1_sample = y.value_counts()[1] \n",
    "n_0_sample = y.value_counts()[0] \n",
    "\n",
    "grouped = data['SeriousDlqin2yrs'].groupby(data['SeriousDlqin2yrs']).count()\n",
    "grouped.plot(kind='bar')\n",
    "\n",
    "\n",
    "print('样本个数：{}; 1占{:.2%}; 0占 {:.2%}'.format(n_sample,n_1_sample/n_sample,n_0_sample/n_sample)) \n",
    "\n",
    "\n"
   ]
  },
  {
   "cell_type": "code",
   "execution_count": 30,
   "metadata": {},
   "outputs": [],
   "source": [
    "from imblearn.over_sampling import SMOTE  #conda install -c glemaitre imbalanced-learn\n",
    "import imblearn \n",
    "  \n",
    "from imblearn.over_sampling import SMOTE \n",
    "  \n",
    "sm = SMOTE(random_state=42) #实例化 \n",
    "X,y = sm.fit_sample(X,y) \n",
    "  "
   ]
  },
  {
   "cell_type": "code",
   "execution_count": 31,
   "metadata": {},
   "outputs": [
    {
     "name": "stdout",
     "output_type": "stream",
     "text": [
      "样本个数：278560; 1占50.00%; 0占50.00%\n"
     ]
    }
   ],
   "source": [
    "n_sample_ = X.shape[0] \n",
    "  \n",
    "pd.Series(y).value_counts() \n",
    "  \n",
    "n_1_sample = pd.Series(y).value_counts()[1] \n",
    "n_0_sample = pd.Series(y).value_counts()[0] \n",
    "  \n",
    "print('样本个数：{}; 1占{:.2%}; 0占{:.2%}'.format(n_sample_,n_1_sample/n_sample_,n_0_sample/n_sample_))"
   ]
  },
  {
   "cell_type": "markdown",
   "metadata": {},
   "source": [
    "### 4.2.3 训练集和测试集"
   ]
  },
  {
   "cell_type": "code",
   "execution_count": 32,
   "metadata": {},
   "outputs": [],
   "source": [
    "from sklearn.model_selection import train_test_split \n",
    "X = pd.DataFrame(X) \n",
    "y = pd.DataFrame(y) \n",
    "  \n",
    "X_train, X_vali, Y_train, Y_vali = train_test_split(X,y,test_size=0.3,random_state=420)\n",
    "model_data = pd.concat([Y_train, X_train], axis=1) \n",
    "model_data.index = range(model_data.shape[0]) \n",
    "model_data.columns = data.columns \n",
    "  \n",
    "vali_data = pd.concat([Y_vali, X_vali], axis=1) \n",
    "vali_data.index = range(vali_data.shape[0]) \n",
    "vali_data.columns = data.columns \n",
    "  \n",
    "model_data.to_csv(r\"model_data.csv\") \n",
    "  \n",
    "vali_data.to_csv(r\"C:vali_data.csv\") "
   ]
  },
  {
   "cell_type": "markdown",
   "metadata": {},
   "source": [
    "## 4.3 分箱处理"
   ]
  },
  {
   "cell_type": "markdown",
   "metadata": {},
   "source": [
    "### 4.3.1 等频分箱"
   ]
  },
  {
   "cell_type": "code",
   "execution_count": 35,
   "metadata": {},
   "outputs": [
    {
     "data": {
      "text/plain": [
       "[(21.0, 28.0, 4232, 7592),\n",
       " (28.0, 31.0, 3534, 5838),\n",
       " (31.0, 34.0, 4045, 6813),\n",
       " (34.0, 36.0, 2925, 4710),\n",
       " (36.0, 39.0, 5269, 7570),\n",
       " (39.0, 41.0, 3977, 5667),\n",
       " (41.0, 43.0, 4044, 5644),\n",
       " (43.0, 45.0, 4404, 6003),\n",
       " (45.0, 46.0, 2345, 3258),\n",
       " (46.0, 48.0, 4851, 6366),\n",
       " (48.0, 50.0, 4882, 6164),\n",
       " (50.0, 52.0, 4658, 5796),\n",
       " (52.0, 54.0, 4661, 4885),\n",
       " (54.0, 56.0, 4507, 4071),\n",
       " (56.0, 58.0, 4525, 3475),\n",
       " (58.0, 61.0, 6662, 4841),\n",
       " (61.0, 64.0, 6959, 3132),\n",
       " (64.0, 68.0, 6608, 2309),\n",
       " (68.0, 74.0, 6776, 1939),\n",
       " (74.0, 99.0, 7703, 1352)]"
      ]
     },
     "execution_count": 35,
     "metadata": {},
     "output_type": "execute_result"
    }
   ],
   "source": [
    "#retbins 默认为False，为True是返回值是元组\n",
    "#q：分组个数\n",
    "  \n",
    "model_data[\"qcut\"], updown = pd.qcut(model_data[\"age\"], retbins=True, q=20) \n",
    "\n",
    "coount_y0 = model_data[model_data[\"SeriousDlqin2yrs\"] == 0].groupby(by=\"qcut\").count() [\"SeriousDlqin2yrs\"] \n",
    "coount_y1 = model_data[model_data[\"SeriousDlqin2yrs\"] == 1].groupby(by=\"qcut\").count() [\"SeriousDlqin2yrs\"] \n",
    "  \n",
    "#num_bins值分别为每个区间的上界，下界，0出现的次数，1出现的次数 \n",
    "num_bins = [*zip(updown,updown[1:],coount_y0,coount_y1)] \n",
    "  \n",
    "#注意zip会按照最短列来进行结合 \n",
    "num_bins"
   ]
  },
  {
   "cell_type": "code",
   "execution_count": 36,
   "metadata": {},
   "outputs": [
    {
     "data": {
      "text/html": [
       "<div>\n",
       "<style scoped>\n",
       "    .dataframe tbody tr th:only-of-type {\n",
       "        vertical-align: middle;\n",
       "    }\n",
       "\n",
       "    .dataframe tbody tr th {\n",
       "        vertical-align: top;\n",
       "    }\n",
       "\n",
       "    .dataframe thead th {\n",
       "        text-align: right;\n",
       "    }\n",
       "</style>\n",
       "<table border=\"1\" class=\"dataframe\">\n",
       "  <thead>\n",
       "    <tr style=\"text-align: right;\">\n",
       "      <th></th>\n",
       "      <th>SeriousDlqin2yrs</th>\n",
       "      <th>RevolvingUtilizationOfUnsecuredLines</th>\n",
       "      <th>age</th>\n",
       "      <th>NumberOfTime30-59DaysPastDueNotWorse</th>\n",
       "      <th>DebtRatio</th>\n",
       "      <th>MonthlyIncome</th>\n",
       "      <th>NumberOfOpenCreditLinesAndLoans</th>\n",
       "      <th>NumberOfTimes90DaysLate</th>\n",
       "      <th>NumberRealEstateLoansOrLines</th>\n",
       "      <th>NumberOfTime60-89DaysPastDueNotWorse</th>\n",
       "      <th>NumberOfDependents</th>\n",
       "      <th>qcut</th>\n",
       "    </tr>\n",
       "  </thead>\n",
       "  <tbody>\n",
       "    <tr>\n",
       "      <th>0</th>\n",
       "      <td>0</td>\n",
       "      <td>0.048270</td>\n",
       "      <td>42</td>\n",
       "      <td>0</td>\n",
       "      <td>0.706470</td>\n",
       "      <td>3600.00</td>\n",
       "      <td>15</td>\n",
       "      <td>0</td>\n",
       "      <td>2</td>\n",
       "      <td>0</td>\n",
       "      <td>1.000000</td>\n",
       "      <td>(41.0, 43.0]</td>\n",
       "    </tr>\n",
       "    <tr>\n",
       "      <th>1</th>\n",
       "      <td>0</td>\n",
       "      <td>0.224926</td>\n",
       "      <td>54</td>\n",
       "      <td>0</td>\n",
       "      <td>0.121769</td>\n",
       "      <td>7078.00</td>\n",
       "      <td>14</td>\n",
       "      <td>0</td>\n",
       "      <td>0</td>\n",
       "      <td>0</td>\n",
       "      <td>0.000000</td>\n",
       "      <td>(52.0, 54.0]</td>\n",
       "    </tr>\n",
       "    <tr>\n",
       "      <th>2</th>\n",
       "      <td>0</td>\n",
       "      <td>0.015893</td>\n",
       "      <td>61</td>\n",
       "      <td>0</td>\n",
       "      <td>21.000000</td>\n",
       "      <td>109.21</td>\n",
       "      <td>15</td>\n",
       "      <td>0</td>\n",
       "      <td>0</td>\n",
       "      <td>0</td>\n",
       "      <td>1.000000</td>\n",
       "      <td>(58.0, 61.0]</td>\n",
       "    </tr>\n",
       "    <tr>\n",
       "      <th>3</th>\n",
       "      <td>1</td>\n",
       "      <td>0.892122</td>\n",
       "      <td>41</td>\n",
       "      <td>1</td>\n",
       "      <td>1.088529</td>\n",
       "      <td>4333.00</td>\n",
       "      <td>4</td>\n",
       "      <td>0</td>\n",
       "      <td>1</td>\n",
       "      <td>1</td>\n",
       "      <td>0.309038</td>\n",
       "      <td>(39.0, 41.0]</td>\n",
       "    </tr>\n",
       "    <tr>\n",
       "      <th>4</th>\n",
       "      <td>1</td>\n",
       "      <td>0.664118</td>\n",
       "      <td>29</td>\n",
       "      <td>0</td>\n",
       "      <td>0.337627</td>\n",
       "      <td>2500.00</td>\n",
       "      <td>8</td>\n",
       "      <td>0</td>\n",
       "      <td>0</td>\n",
       "      <td>0</td>\n",
       "      <td>0.264330</td>\n",
       "      <td>(28.0, 31.0]</td>\n",
       "    </tr>\n",
       "  </tbody>\n",
       "</table>\n",
       "</div>"
      ],
      "text/plain": [
       "   SeriousDlqin2yrs  RevolvingUtilizationOfUnsecuredLines  age  \\\n",
       "0                 0                              0.048270   42   \n",
       "1                 0                              0.224926   54   \n",
       "2                 0                              0.015893   61   \n",
       "3                 1                              0.892122   41   \n",
       "4                 1                              0.664118   29   \n",
       "\n",
       "   NumberOfTime30-59DaysPastDueNotWorse  DebtRatio  MonthlyIncome  \\\n",
       "0                                     0   0.706470        3600.00   \n",
       "1                                     0   0.121769        7078.00   \n",
       "2                                     0  21.000000         109.21   \n",
       "3                                     1   1.088529        4333.00   \n",
       "4                                     0   0.337627        2500.00   \n",
       "\n",
       "   NumberOfOpenCreditLinesAndLoans  NumberOfTimes90DaysLate  \\\n",
       "0                               15                        0   \n",
       "1                               14                        0   \n",
       "2                               15                        0   \n",
       "3                                4                        0   \n",
       "4                                8                        0   \n",
       "\n",
       "   NumberRealEstateLoansOrLines  NumberOfTime60-89DaysPastDueNotWorse  \\\n",
       "0                             2                                     0   \n",
       "1                             0                                     0   \n",
       "2                             0                                     0   \n",
       "3                             1                                     1   \n",
       "4                             0                                     0   \n",
       "\n",
       "   NumberOfDependents          qcut  \n",
       "0            1.000000  (41.0, 43.0]  \n",
       "1            0.000000  (52.0, 54.0]  \n",
       "2            1.000000  (58.0, 61.0]  \n",
       "3            0.309038  (39.0, 41.0]  \n",
       "4            0.264330  (28.0, 31.0]  "
      ]
     },
     "execution_count": 36,
     "metadata": {},
     "output_type": "execute_result"
    }
   ],
   "source": [
    "model_data.head()"
   ]
  },
  {
   "cell_type": "markdown",
   "metadata": {},
   "source": [
    "### 4.3.2 封装WOE和IV函数"
   ]
  },
  {
   "cell_type": "code",
   "execution_count": 37,
   "metadata": {},
   "outputs": [],
   "source": [
    "def get_woe(num_bins):\n",
    "    columns = [\"min\",\"max\",\"count_0\",\"count_1\"] \n",
    "    df = pd.DataFrame(num_bins,columns=columns)\n",
    "    df[\"total\"] = df.count_0 + df.count_1 \n",
    "    df[\"percentage\"] = df.total / df.total.sum() \n",
    "    df[\"bad_rate\"] = df.count_1 / df.total \n",
    "    df[\"good%\"] = df.count_0/df.count_0.sum() \n",
    "    df[\"bad%\"] = df.count_1/df.count_1.sum() \n",
    "    df[\"woe\"] = np.log(df[\"good%\"] / df[\"bad%\"])\n",
    "    return df\n",
    "\n",
    "\n",
    "# 计算IV值 \n",
    "def get_iv(df):\n",
    "    rate = df[\"good%\"] - df[\"bad%\"]\n",
    "    iv = np.sum(rate * df.woe)\n",
    "    return iv "
   ]
  },
  {
   "cell_type": "markdown",
   "metadata": {},
   "source": [
    "### 4.3.3 用卡方检验来合并箱体画出IV曲线"
   ]
  },
  {
   "cell_type": "code",
   "execution_count": 39,
   "metadata": {},
   "outputs": [
    {
     "data": {
      "image/png": "[encoded data removed]",
      "text/plain": [
       "<Figure size 432x288 with 1 Axes>"
      ]
     },
     "metadata": {
      "needs_background": "light"
     },
     "output_type": "display_data"
    }
   ],
   "source": [
    "num_bins_ = num_bins.copy()\n",
    "\n",
    "import matplotlib.pyplot as plt\n",
    "import scipy\n",
    "\n",
    "IV = []\n",
    "axisx = []\n",
    "\n",
    "while len(num_bins_) > 2:\n",
    "    pvs = []\n",
    "    \n",
    "    for i in range(len(num_bins_) - 1):\n",
    "        x1 = num_bins_[i][2:]\n",
    "        x2 = num_bins_[i + 1][2:]\n",
    "        \n",
    "        pv = scipy.stats.chi2_contingency([x1, x2])[1]\n",
    "        pvs.append(pv)\n",
    "\n",
    "    \n",
    "    i = pvs.index(max(pvs))\n",
    "    num_bins_[i:i + 2] = [(num_bins_[i][0],num_bins_[i+1][1],num_bins_[i][2]+num_bins_[i+1][2],num_bins_[i][3]+num_bins_[i+1][3])]\n",
    "\n",
    "    bins_df = get_woe(num_bins_)\n",
    "    axisx.append(len(num_bins_))\n",
    "    IV.append(get_iv(bins_df))\n",
    "\n",
    "plt.figure()\n",
    "plt.plot(axisx, IV)\n",
    "plt.xticks(axisx)\n",
    "plt.xlabel(\"number of box\") \n",
    "plt.ylabel(\"IV\") \n",
    "plt.show() \n"
   ]
  },
  {
   "cell_type": "markdown",
   "metadata": {},
   "source": [
    "### 4.3.4 用最佳分箱个数分箱，并验证分箱结果"
   ]
  },
  {
   "cell_type": "code",
   "execution_count": 40,
   "metadata": {},
   "outputs": [],
   "source": [
    "def graphforbestbin(DF, X, Y, n=5,q=20,graph=True):\n",
    "    DF = DF[[X,Y]].copy()\n",
    "    DF[\"qcut\"],bins = pd.qcut(DF[X],retbins=True,q=q,duplicates=\"drop\")\n",
    "    coount_y0 = DF.loc[DF[Y]==0].groupby(by=\"qcut\").count()[Y]\n",
    "    coount_y1 = DF.loc[DF[Y]==1].groupby(by=\"qcut\").count()[Y]\n",
    "    num_bins = [*zip(bins,bins[1:],coount_y0,coount_y1)]\n",
    "    # 确保每个箱中都有0和1\n",
    "    for i in range(q):\n",
    "        if 0 in num_bins[0][2:]:\n",
    "            num_bins[0:2] = [(num_bins[0][0],num_bins[1][1],num_bins[0][2]+num_bins[1][2],num_bins[0][3]+num_bins[1][3])]\n",
    "            continue\n",
    "        for i in range(len(num_bins)):\n",
    "            if 0 in num_bins[i][2:]:\n",
    "                num_bins[i-1:i+1] = [(num_bins[i-1][0],num_bins[i][1],num_bins[i-1][2]+num_bins[i][2],num_bins[i-1][3]+num_bins[i][3])]\n",
    "                break\n",
    "        else:\n",
    "            break\n",
    "    #计算WOE\n",
    "    def get_woe(num_bins):\n",
    "        columns = [\"min\",\"max\",\"count_0\",\"count_1\"]\n",
    "        df = pd.DataFrame(num_bins,columns=columns)\n",
    "        df[\"total\"] = df.count_0 + df.count_1\n",
    "        df[\"good%\"] = df.count_0/df.count_0.sum()\n",
    "        df[\"bad%\"] = df.count_1/df.count_1.sum()\n",
    "        df[\"woe\"] = np.log(df[\"good%\"] / df[\"bad%\"])\n",
    "        return df\n",
    "    #计算IV值\n",
    "    def get_iv(df):\n",
    "        rate = df[\"good%\"] - df[\"bad%\"]\n",
    "        iv = np.sum(rate * df.woe)\n",
    "        return iv\n",
    "    # 卡方检验，合并分箱\n",
    "    IV = []\n",
    "    axisx = []\n",
    "    while len(num_bins) > n:\n",
    "        global bins_df\n",
    "        pvs = []\n",
    "        for i in range(len(num_bins)-1):\n",
    "            x1 = num_bins[i][2:]\n",
    "            x2 = num_bins[i+1][2:]\n",
    "            pv = scipy.stats.chi2_contingency([x1,x2])[1]\n",
    "            pvs.append(pv)\n",
    "        i = pvs.index(max(pvs))\n",
    "        num_bins[i:i+2] = [(num_bins[i][0],num_bins[i+1][1],num_bins[i][2]+num_bins[i+1][2],num_bins[i][3]+num_bins[i+1][3])]\n",
    "        bins_df = pd.DataFrame(get_woe(num_bins))\n",
    "        axisx.append(len(num_bins))\n",
    "        IV.append(get_iv(bins_df))\n",
    "        \n",
    "    if graph:\n",
    "        plt.figure()\n",
    "        plt.plot(axisx,IV)\n",
    "        plt.xticks(axisx)\n",
    "        plt.xlabel(\"number of box\")\n",
    "        plt.ylabel(\"IV\")\n",
    "        plt.show()\n",
    "        \n",
    "    return bins_df\n",
    "\n"
   ]
  },
  {
   "cell_type": "code",
   "execution_count": 41,
   "metadata": {},
   "outputs": [
    {
     "data": {
      "text/plain": [
       "Index(['SeriousDlqin2yrs', 'RevolvingUtilizationOfUnsecuredLines', 'age',\n",
       "       'NumberOfTime30-59DaysPastDueNotWorse', 'DebtRatio', 'MonthlyIncome',\n",
       "       'NumberOfOpenCreditLinesAndLoans', 'NumberOfTimes90DaysLate',\n",
       "       'NumberRealEstateLoansOrLines', 'NumberOfTime60-89DaysPastDueNotWorse',\n",
       "       'NumberOfDependents', 'qcut'],\n",
       "      dtype='object')"
      ]
     },
     "execution_count": 41,
     "metadata": {},
     "output_type": "execute_result"
    }
   ],
   "source": [
    "model_data.columns "
   ]
  },
  {
   "cell_type": "code",
   "execution_count": 42,
   "metadata": {},
   "outputs": [
    {
     "name": "stdout",
     "output_type": "stream",
     "text": [
      "RevolvingUtilizationOfUnsecuredLines\n"
     ]
    },
    {
     "data": {
      "image/png": "[encoded data removed]",
      "text/plain": [
       "<Figure size 432x288 with 1 Axes>"
      ]
     },
     "metadata": {
      "needs_background": "light"
     },
     "output_type": "display_data"
    },
    {
     "name": "stdout",
     "output_type": "stream",
     "text": [
      "age\n"
     ]
    },
    {
     "data": {
      "image/png": "[encoded data removed]",
      "text/plain": [
       "<Figure size 432x288 with 1 Axes>"
      ]
     },
     "metadata": {
      "needs_background": "light"
     },
     "output_type": "display_data"
    },
    {
     "name": "stdout",
     "output_type": "stream",
     "text": [
      "NumberOfTime30-59DaysPastDueNotWorse\n"
     ]
    },
    {
     "data": {
      "image/png": "[encoded data removed]",
      "text/plain": [
       "<Figure size 432x288 with 1 Axes>"
      ]
     },
     "metadata": {
      "needs_background": "light"
     },
     "output_type": "display_data"
    },
    {
     "name": "stdout",
     "output_type": "stream",
     "text": [
      "DebtRatio\n"
     ]
    },
    {
     "data": {
      "image/png": "[encoded data removed]",
      "text/plain": [
       "<Figure size 432x288 with 1 Axes>"
      ]
     },
     "metadata": {
      "needs_background": "light"
     },
     "output_type": "display_data"
    },
    {
     "name": "stdout",
     "output_type": "stream",
     "text": [
      "MonthlyIncome\n"
     ]
    },
    {
     "data": {
      "image/png": "[encoded data removed]",
      "text/plain": [
       "<Figure size 432x288 with 1 Axes>"
      ]
     },
     "metadata": {
      "needs_background": "light"
     },
     "output_type": "display_data"
    },
    {
     "name": "stdout",
     "output_type": "stream",
     "text": [
      "NumberOfOpenCreditLinesAndLoans\n"
     ]
    },
    {
     "data": {
      "image/png": "[encoded data removed]",
      "text/plain": [
       "<Figure size 432x288 with 1 Axes>"
      ]
     },
     "metadata": {
      "needs_background": "light"
     },
     "output_type": "display_data"
    },
    {
     "name": "stdout",
     "output_type": "stream",
     "text": [
      "NumberOfTimes90DaysLate\n"
     ]
    },
    {
     "data": {
      "image/png": "[encoded data removed]",
      "text/plain": [
       "<Figure size 432x288 with 1 Axes>"
      ]
     },
     "metadata": {
      "needs_background": "light"
     },
     "output_type": "display_data"
    },
    {
     "name": "stdout",
     "output_type": "stream",
     "text": [
      "NumberRealEstateLoansOrLines\n"
     ]
    },
    {
     "data": {
      "image/png": "[encoded data removed]",
      "text/plain": [
       "<Figure size 432x288 with 1 Axes>"
      ]
     },
     "metadata": {
      "needs_background": "light"
     },
     "output_type": "display_data"
    },
    {
     "name": "stdout",
     "output_type": "stream",
     "text": [
      "NumberOfTime60-89DaysPastDueNotWorse\n"
     ]
    },
    {
     "data": {
      "image/png": "[encoded data removed]",
      "text/plain": [
       "<Figure size 432x288 with 1 Axes>"
      ]
     },
     "metadata": {
      "needs_background": "light"
     },
     "output_type": "display_data"
    },
    {
     "name": "stdout",
     "output_type": "stream",
     "text": [
      "NumberOfDependents\n"
     ]
    },
    {
     "data": {
      "image/png": "[encoded data removed]",
      "text/plain": [
       "<Figure size 432x288 with 1 Axes>"
      ]
     },
     "metadata": {
      "needs_background": "light"
     },
     "output_type": "display_data"
    }
   ],
   "source": [
    "for i in model_data.columns[1:-1]:\n",
    "    print(i)\n",
    "\n",
    "    graphforbestbin(model_data,i ,\"SeriousDlqin2yrs\",n=2,q = 20)\n",
    "\n"
   ]
  },
  {
   "cell_type": "code",
   "execution_count": 43,
   "metadata": {},
   "outputs": [],
   "source": [
    "auto_bins = {'RevolvingUtilizationOfUnsecuredLines':5\n",
    "            ,'age':6\n",
    "            ,'DebtRatio':4\n",
    "            ,'MonthlyIncome':3\n",
    "            ,'NumberOfOpenCreditLinesAndLoans':7\n",
    "            }\n",
    "\n"
   ]
  },
  {
   "cell_type": "code",
   "execution_count": 44,
   "metadata": {},
   "outputs": [
    {
     "data": {
      "text/plain": [
       "{'RevolvingUtilizationOfUnsecuredLines': [-inf,\n",
       "  0.0601572472,\n",
       "  0.2967246438,\n",
       "  0.5513223325011126,\n",
       "  0.9999998999999999,\n",
       "  inf],\n",
       " 'age': [-inf, 36.0, 52.0, 56.0, 61.0, 74.0, inf],\n",
       " 'DebtRatio': [-inf,\n",
       "  0.01746415575,\n",
       "  0.3199668078059851,\n",
       "  1.5117839943256448,\n",
       "  inf],\n",
       " 'MonthlyIncome': [-inf, 0.09903188507757776, 5600.0, inf],\n",
       " 'NumberOfOpenCreditLinesAndLoans': [-inf, 1.0, 2.0, 3.0, 5.0, 6.0, 17.0, inf],\n",
       " 'NumberOfTime30-59DaysPastDueNotWorse': [-inf, 0, 1, 2, inf],\n",
       " 'NumberOfTimes90DaysLate': [-inf, 0, 1, 2, inf],\n",
       " 'NumberRealEstateLoansOrLines': [-inf, 0, 1, 2, 4, inf],\n",
       " 'NumberOfTime60-89DaysPastDueNotWorse': [-inf, 0, 1, 2, inf],\n",
       " 'NumberOfDependents': [-inf, 0, 1, 2, inf]}"
      ]
     },
     "execution_count": 44,
     "metadata": {},
     "output_type": "execute_result"
    }
   ],
   "source": [
    "hand_bins = {'NumberOfTime30-59DaysPastDueNotWorse':[0,1,2,13]\n",
    "            ,'NumberOfTimes90DaysLate':[0,1,2,17]\n",
    "            ,'NumberRealEstateLoansOrLines':[0,1,2,4,54]\n",
    "            ,'NumberOfTime60-89DaysPastDueNotWorse':[0,1,2,8]\n",
    "            ,'NumberOfDependents':[0,1,2,3]\n",
    "            }\n",
    "\n",
    "hand_bins = {k:[-np.inf,*v[:-1],np.inf] for k,v in hand_bins.items()}\n",
    "\n",
    "bins_of_col = {}\n",
    "for col in auto_bins:\n",
    "    bins_df = graphforbestbin(model_data,col,'SeriousDlqin2yrs',n = auto_bins[col],q=20,graph=False)\n",
    "    bins_list = sorted(set(bins_df['min']).union(bins_df['max']))\n",
    "    bins_list[0],bins_list[-1] = -np.inf,np.inf\n",
    "    bins_of_col[col] = bins_list\n",
    "\n",
    "bins_of_col.update(hand_bins)\n",
    "bins_of_col \n",
    "\n",
    "\n"
   ]
  },
  {
   "cell_type": "markdown",
   "metadata": {},
   "source": [
    "## 4.4 计算各箱的WOE并映射到数据"
   ]
  },
  {
   "cell_type": "code",
   "execution_count": 47,
   "metadata": {},
   "outputs": [
    {
     "data": {
      "text/html": [
       "<div>\n",
       "<style scoped>\n",
       "    .dataframe tbody tr th:only-of-type {\n",
       "        vertical-align: middle;\n",
       "    }\n",
       "\n",
       "    .dataframe tbody tr th {\n",
       "        vertical-align: top;\n",
       "    }\n",
       "\n",
       "    .dataframe thead th {\n",
       "        text-align: right;\n",
       "    }\n",
       "</style>\n",
       "<table border=\"1\" class=\"dataframe\">\n",
       "  <thead>\n",
       "    <tr style=\"text-align: right;\">\n",
       "      <th></th>\n",
       "      <th>age</th>\n",
       "      <th>SeriousDlqin2yrs</th>\n",
       "      <th>cut</th>\n",
       "    </tr>\n",
       "  </thead>\n",
       "  <tbody>\n",
       "    <tr>\n",
       "      <th>0</th>\n",
       "      <td>42</td>\n",
       "      <td>0</td>\n",
       "      <td>(36.0, 52.0]</td>\n",
       "    </tr>\n",
       "    <tr>\n",
       "      <th>1</th>\n",
       "      <td>54</td>\n",
       "      <td>0</td>\n",
       "      <td>(52.0, 56.0]</td>\n",
       "    </tr>\n",
       "    <tr>\n",
       "      <th>2</th>\n",
       "      <td>61</td>\n",
       "      <td>0</td>\n",
       "      <td>(56.0, 61.0]</td>\n",
       "    </tr>\n",
       "    <tr>\n",
       "      <th>3</th>\n",
       "      <td>41</td>\n",
       "      <td>1</td>\n",
       "      <td>(36.0, 52.0]</td>\n",
       "    </tr>\n",
       "    <tr>\n",
       "      <th>4</th>\n",
       "      <td>29</td>\n",
       "      <td>1</td>\n",
       "      <td>(-inf, 36.0]</td>\n",
       "    </tr>\n",
       "    <tr>\n",
       "      <th>...</th>\n",
       "      <td>...</td>\n",
       "      <td>...</td>\n",
       "      <td>...</td>\n",
       "    </tr>\n",
       "    <tr>\n",
       "      <th>194987</th>\n",
       "      <td>26</td>\n",
       "      <td>1</td>\n",
       "      <td>(-inf, 36.0]</td>\n",
       "    </tr>\n",
       "    <tr>\n",
       "      <th>194988</th>\n",
       "      <td>36</td>\n",
       "      <td>0</td>\n",
       "      <td>(-inf, 36.0]</td>\n",
       "    </tr>\n",
       "    <tr>\n",
       "      <th>194989</th>\n",
       "      <td>48</td>\n",
       "      <td>1</td>\n",
       "      <td>(36.0, 52.0]</td>\n",
       "    </tr>\n",
       "    <tr>\n",
       "      <th>194990</th>\n",
       "      <td>89</td>\n",
       "      <td>0</td>\n",
       "      <td>(74.0, inf]</td>\n",
       "    </tr>\n",
       "    <tr>\n",
       "      <th>194991</th>\n",
       "      <td>76</td>\n",
       "      <td>1</td>\n",
       "      <td>(74.0, inf]</td>\n",
       "    </tr>\n",
       "  </tbody>\n",
       "</table>\n",
       "<p>194992 rows × 3 columns</p>\n",
       "</div>"
      ],
      "text/plain": [
       "        age  SeriousDlqin2yrs           cut\n",
       "0        42                 0  (36.0, 52.0]\n",
       "1        54                 0  (52.0, 56.0]\n",
       "2        61                 0  (56.0, 61.0]\n",
       "3        41                 1  (36.0, 52.0]\n",
       "4        29                 1  (-inf, 36.0]\n",
       "...     ...               ...           ...\n",
       "194987   26                 1  (-inf, 36.0]\n",
       "194988   36                 0  (-inf, 36.0]\n",
       "194989   48                 1  (36.0, 52.0]\n",
       "194990   89                 0   (74.0, inf]\n",
       "194991   76                 1   (74.0, inf]\n",
       "\n",
       "[194992 rows x 3 columns]"
      ]
     },
     "execution_count": 47,
     "metadata": {},
     "output_type": "execute_result"
    }
   ],
   "source": [
    "data = model_data.copy() \n",
    "data = data[[\"age\",\"SeriousDlqin2yrs\"]].copy() \n",
    "  \n",
    "data[\"cut\"] = pd.cut(data[\"age\"],[-np.inf, 36.0, 52.0, 56.0, 61.0, 74.0, np.inf]) \n",
    "  \n",
    "data \n",
    "  "
   ]
  },
  {
   "cell_type": "code",
   "execution_count": 48,
   "metadata": {},
   "outputs": [],
   "source": [
    "#将数据按分箱结果聚合，并取出其中的标签值 \n",
    "data.groupby(\"cut\")[\"SeriousDlqin2yrs\"].value_counts() \n",
    "  \n",
    "#使用unstack()来将分支状结构变成表状结构 \n",
    "data.groupby(\"cut\")[\"SeriousDlqin2yrs\"].value_counts().unstack() \n",
    "  \n",
    "bins_df = data.groupby(\"cut\")[\"SeriousDlqin2yrs\"].value_counts().unstack() \n",
    "  \n",
    "bins_df[\"woe\"] = np.log((bins_df[0]/bins_df[0].sum())/(bins_df[1]/bins_df[1].sum())) "
   ]
  },
  {
   "cell_type": "code",
   "execution_count": 49,
   "metadata": {},
   "outputs": [
    {
     "data": {
      "text/html": [
       "<div>\n",
       "<style scoped>\n",
       "    .dataframe tbody tr th:only-of-type {\n",
       "        vertical-align: middle;\n",
       "    }\n",
       "\n",
       "    .dataframe tbody tr th {\n",
       "        vertical-align: top;\n",
       "    }\n",
       "\n",
       "    .dataframe thead th {\n",
       "        text-align: right;\n",
       "    }\n",
       "</style>\n",
       "<table border=\"1\" class=\"dataframe\">\n",
       "  <thead>\n",
       "    <tr style=\"text-align: right;\">\n",
       "      <th>SeriousDlqin2yrs</th>\n",
       "      <th>0</th>\n",
       "      <th>1</th>\n",
       "      <th>woe</th>\n",
       "    </tr>\n",
       "    <tr>\n",
       "      <th>cut</th>\n",
       "      <th></th>\n",
       "      <th></th>\n",
       "      <th></th>\n",
       "    </tr>\n",
       "  </thead>\n",
       "  <tbody>\n",
       "    <tr>\n",
       "      <th>(-inf, 36.0]</th>\n",
       "      <td>14736</td>\n",
       "      <td>24953</td>\n",
       "      <td>-0.528157</td>\n",
       "    </tr>\n",
       "    <tr>\n",
       "      <th>(36.0, 52.0]</th>\n",
       "      <td>34430</td>\n",
       "      <td>46468</td>\n",
       "      <td>-0.301292</td>\n",
       "    </tr>\n",
       "    <tr>\n",
       "      <th>(52.0, 56.0]</th>\n",
       "      <td>9168</td>\n",
       "      <td>8956</td>\n",
       "      <td>0.021939</td>\n",
       "    </tr>\n",
       "    <tr>\n",
       "      <th>(56.0, 61.0]</th>\n",
       "      <td>11187</td>\n",
       "      <td>8316</td>\n",
       "      <td>0.295115</td>\n",
       "    </tr>\n",
       "    <tr>\n",
       "      <th>(61.0, 74.0]</th>\n",
       "      <td>20343</td>\n",
       "      <td>7380</td>\n",
       "      <td>1.012507</td>\n",
       "    </tr>\n",
       "    <tr>\n",
       "      <th>(74.0, inf]</th>\n",
       "      <td>7703</td>\n",
       "      <td>1352</td>\n",
       "      <td>1.738568</td>\n",
       "    </tr>\n",
       "  </tbody>\n",
       "</table>\n",
       "</div>"
      ],
      "text/plain": [
       "SeriousDlqin2yrs      0      1       woe\n",
       "cut                                     \n",
       "(-inf, 36.0]      14736  24953 -0.528157\n",
       "(36.0, 52.0]      34430  46468 -0.301292\n",
       "(52.0, 56.0]       9168   8956  0.021939\n",
       "(56.0, 61.0]      11187   8316  0.295115\n",
       "(61.0, 74.0]      20343   7380  1.012507\n",
       "(74.0, inf]        7703   1352  1.738568"
      ]
     },
     "execution_count": 49,
     "metadata": {},
     "output_type": "execute_result"
    }
   ],
   "source": [
    "bins_df"
   ]
  },
  {
   "cell_type": "code",
   "execution_count": 50,
   "metadata": {},
   "outputs": [],
   "source": [
    "# df:数据表\n",
    "# col：列\n",
    "# bins：箱子的个数\n",
    "def get_woe(df,col,y,bins):\n",
    "    \n",
    "    df = df[[col,y]].copy()\n",
    "    df[\"cut\"] = pd.cut(df[col],bins) \n",
    "    bins_df = df.groupby(\"cut\")[y].value_counts().unstack()\n",
    "    woe = bins_df[\"woe\"] = np.log((bins_df[0]/bins_df[0].sum())/(bins_df[1]/bins_df[1].sum()))\n",
    "    iv = np.sum((bins_df[0]/bins_df[0].sum()-bins_df[1]/bins_df[1].sum())*bins_df['woe'])\n",
    "    return woe"
   ]
  },
  {
   "cell_type": "code",
   "execution_count": 51,
   "metadata": {},
   "outputs": [
    {
     "data": {
      "text/plain": [
       "{'RevolvingUtilizationOfUnsecuredLines': cut\n",
       " (-inf, 0.0602]     2.454528\n",
       " (0.0602, 0.297]    0.854575\n",
       " (0.297, 0.551]    -0.255194\n",
       " (0.551, 1.0]      -1.009565\n",
       " (1.0, inf]        -2.043275\n",
       " dtype: float64, 'age': cut\n",
       " (-inf, 36.0]   -0.528157\n",
       " (36.0, 52.0]   -0.301292\n",
       " (52.0, 56.0]    0.021939\n",
       " (56.0, 61.0]    0.295115\n",
       " (61.0, 74.0]    1.012507\n",
       " (74.0, inf]     1.738568\n",
       " dtype: float64, 'DebtRatio': cut\n",
       " (-inf, 0.0175]    1.476452\n",
       " (0.0175, 0.32]    0.079382\n",
       " (0.32, 1.512]    -0.312205\n",
       " (1.512, inf]      0.167100\n",
       " dtype: float64, 'MonthlyIncome': cut\n",
       " (-inf, 0.099]      1.255267\n",
       " (0.099, 5600.0]   -0.229847\n",
       " (5600.0, inf]      0.237632\n",
       " dtype: float64, 'NumberOfOpenCreditLinesAndLoans': cut\n",
       " (-inf, 1.0]   -0.857776\n",
       " (1.0, 2.0]    -0.418703\n",
       " (2.0, 3.0]    -0.255258\n",
       " (3.0, 5.0]    -0.060634\n",
       " (5.0, 6.0]     0.077346\n",
       " (6.0, 17.0]    0.137661\n",
       " (17.0, inf]    0.443648\n",
       " dtype: float64, 'NumberOfTime30-59DaysPastDueNotWorse': cut\n",
       " (-inf, 0.0]    0.353740\n",
       " (0.0, 1.0]    -0.870009\n",
       " (1.0, 2.0]    -1.378862\n",
       " (2.0, inf]    -1.540042\n",
       " dtype: float64, 'NumberOfTimes90DaysLate': cut\n",
       " (-inf, 0.0]    0.236664\n",
       " (0.0, 1.0]    -1.749395\n",
       " (1.0, 2.0]    -2.288567\n",
       " (2.0, inf]    -2.482175\n",
       " dtype: float64, 'NumberRealEstateLoansOrLines': cut\n",
       " (-inf, 0.0]   -0.399029\n",
       " (0.0, 1.0]     0.198435\n",
       " (1.0, 2.0]     0.636290\n",
       " (2.0, 4.0]     0.374777\n",
       " (4.0, inf]    -0.317472\n",
       " dtype: float64, 'NumberOfTime60-89DaysPastDueNotWorse': cut\n",
       " (-inf, 0.0]    0.124823\n",
       " (0.0, 1.0]    -1.411050\n",
       " (1.0, 2.0]    -1.746467\n",
       " (2.0, inf]    -1.742166\n",
       " dtype: float64, 'NumberOfDependents': cut\n",
       " (-inf, 0.0]    0.625336\n",
       " (0.0, 1.0]    -0.588620\n",
       " (1.0, 2.0]    -0.530037\n",
       " (2.0, inf]    -0.472481\n",
       " dtype: float64}"
      ]
     },
     "execution_count": 51,
     "metadata": {},
     "output_type": "execute_result"
    }
   ],
   "source": [
    "# 所有的WOE\n",
    "woeall = {}\n",
    "\n",
    "for col in bins_of_col:\n",
    "    woeall[col] = get_woe(model_data,col,\"SeriousDlqin2yrs\",bins_of_col[col])\n",
    "woeall   "
   ]
  },
  {
   "cell_type": "code",
   "execution_count": 52,
   "metadata": {},
   "outputs": [
    {
     "data": {
      "text/html": [
       "<div>\n",
       "<style scoped>\n",
       "    .dataframe tbody tr th:only-of-type {\n",
       "        vertical-align: middle;\n",
       "    }\n",
       "\n",
       "    .dataframe tbody tr th {\n",
       "        vertical-align: top;\n",
       "    }\n",
       "\n",
       "    .dataframe thead th {\n",
       "        text-align: right;\n",
       "    }\n",
       "</style>\n",
       "<table border=\"1\" class=\"dataframe\">\n",
       "  <thead>\n",
       "    <tr style=\"text-align: right;\">\n",
       "      <th></th>\n",
       "      <th>RevolvingUtilizationOfUnsecuredLines</th>\n",
       "      <th>age</th>\n",
       "      <th>DebtRatio</th>\n",
       "      <th>MonthlyIncome</th>\n",
       "      <th>NumberOfOpenCreditLinesAndLoans</th>\n",
       "      <th>NumberOfTime30-59DaysPastDueNotWorse</th>\n",
       "      <th>NumberOfTimes90DaysLate</th>\n",
       "      <th>NumberRealEstateLoansOrLines</th>\n",
       "      <th>NumberOfTime60-89DaysPastDueNotWorse</th>\n",
       "      <th>NumberOfDependents</th>\n",
       "      <th>SeriousDlqin2yrs</th>\n",
       "    </tr>\n",
       "  </thead>\n",
       "  <tbody>\n",
       "    <tr>\n",
       "      <th>0</th>\n",
       "      <td>2.454528</td>\n",
       "      <td>-0.301292</td>\n",
       "      <td>-0.312205</td>\n",
       "      <td>-0.229847</td>\n",
       "      <td>0.137661</td>\n",
       "      <td>0.353740</td>\n",
       "      <td>0.236664</td>\n",
       "      <td>0.636290</td>\n",
       "      <td>0.124823</td>\n",
       "      <td>-0.588620</td>\n",
       "      <td>0</td>\n",
       "    </tr>\n",
       "    <tr>\n",
       "      <th>1</th>\n",
       "      <td>0.854575</td>\n",
       "      <td>0.021939</td>\n",
       "      <td>0.079382</td>\n",
       "      <td>0.237632</td>\n",
       "      <td>0.137661</td>\n",
       "      <td>0.353740</td>\n",
       "      <td>0.236664</td>\n",
       "      <td>-0.399029</td>\n",
       "      <td>0.124823</td>\n",
       "      <td>0.625336</td>\n",
       "      <td>0</td>\n",
       "    </tr>\n",
       "    <tr>\n",
       "      <th>2</th>\n",
       "      <td>2.454528</td>\n",
       "      <td>0.295115</td>\n",
       "      <td>0.167100</td>\n",
       "      <td>-0.229847</td>\n",
       "      <td>0.137661</td>\n",
       "      <td>0.353740</td>\n",
       "      <td>0.236664</td>\n",
       "      <td>-0.399029</td>\n",
       "      <td>0.124823</td>\n",
       "      <td>-0.588620</td>\n",
       "      <td>0</td>\n",
       "    </tr>\n",
       "    <tr>\n",
       "      <th>3</th>\n",
       "      <td>-1.009565</td>\n",
       "      <td>-0.301292</td>\n",
       "      <td>-0.312205</td>\n",
       "      <td>-0.229847</td>\n",
       "      <td>-0.060634</td>\n",
       "      <td>-0.870009</td>\n",
       "      <td>0.236664</td>\n",
       "      <td>0.198435</td>\n",
       "      <td>-1.411050</td>\n",
       "      <td>-0.588620</td>\n",
       "      <td>1</td>\n",
       "    </tr>\n",
       "    <tr>\n",
       "      <th>4</th>\n",
       "      <td>-1.009565</td>\n",
       "      <td>-0.528157</td>\n",
       "      <td>-0.312205</td>\n",
       "      <td>-0.229847</td>\n",
       "      <td>0.137661</td>\n",
       "      <td>0.353740</td>\n",
       "      <td>0.236664</td>\n",
       "      <td>-0.399029</td>\n",
       "      <td>0.124823</td>\n",
       "      <td>-0.588620</td>\n",
       "      <td>1</td>\n",
       "    </tr>\n",
       "    <tr>\n",
       "      <th>...</th>\n",
       "      <td>...</td>\n",
       "      <td>...</td>\n",
       "      <td>...</td>\n",
       "      <td>...</td>\n",
       "      <td>...</td>\n",
       "      <td>...</td>\n",
       "      <td>...</td>\n",
       "      <td>...</td>\n",
       "      <td>...</td>\n",
       "      <td>...</td>\n",
       "      <td>...</td>\n",
       "    </tr>\n",
       "    <tr>\n",
       "      <th>194987</th>\n",
       "      <td>-1.009565</td>\n",
       "      <td>-0.528157</td>\n",
       "      <td>0.079382</td>\n",
       "      <td>-0.229847</td>\n",
       "      <td>0.137661</td>\n",
       "      <td>0.353740</td>\n",
       "      <td>0.236664</td>\n",
       "      <td>-0.399029</td>\n",
       "      <td>0.124823</td>\n",
       "      <td>-0.588620</td>\n",
       "      <td>1</td>\n",
       "    </tr>\n",
       "    <tr>\n",
       "      <th>194988</th>\n",
       "      <td>-1.009565</td>\n",
       "      <td>-0.528157</td>\n",
       "      <td>-0.312205</td>\n",
       "      <td>-0.229847</td>\n",
       "      <td>0.137661</td>\n",
       "      <td>0.353740</td>\n",
       "      <td>0.236664</td>\n",
       "      <td>0.198435</td>\n",
       "      <td>0.124823</td>\n",
       "      <td>-0.588620</td>\n",
       "      <td>0</td>\n",
       "    </tr>\n",
       "    <tr>\n",
       "      <th>194989</th>\n",
       "      <td>-0.255194</td>\n",
       "      <td>-0.301292</td>\n",
       "      <td>-0.312205</td>\n",
       "      <td>0.237632</td>\n",
       "      <td>0.137661</td>\n",
       "      <td>0.353740</td>\n",
       "      <td>0.236664</td>\n",
       "      <td>-0.317472</td>\n",
       "      <td>0.124823</td>\n",
       "      <td>-0.588620</td>\n",
       "      <td>1</td>\n",
       "    </tr>\n",
       "    <tr>\n",
       "      <th>194990</th>\n",
       "      <td>2.454528</td>\n",
       "      <td>1.738568</td>\n",
       "      <td>1.476452</td>\n",
       "      <td>-0.229847</td>\n",
       "      <td>-0.857776</td>\n",
       "      <td>0.353740</td>\n",
       "      <td>0.236664</td>\n",
       "      <td>-0.399029</td>\n",
       "      <td>0.124823</td>\n",
       "      <td>0.625336</td>\n",
       "      <td>0</td>\n",
       "    </tr>\n",
       "    <tr>\n",
       "      <th>194991</th>\n",
       "      <td>-1.009565</td>\n",
       "      <td>1.738568</td>\n",
       "      <td>-0.312205</td>\n",
       "      <td>0.237632</td>\n",
       "      <td>0.137661</td>\n",
       "      <td>-0.870009</td>\n",
       "      <td>0.236664</td>\n",
       "      <td>0.636290</td>\n",
       "      <td>0.124823</td>\n",
       "      <td>-0.588620</td>\n",
       "      <td>1</td>\n",
       "    </tr>\n",
       "  </tbody>\n",
       "</table>\n",
       "<p>194992 rows × 11 columns</p>\n",
       "</div>"
      ],
      "text/plain": [
       "       RevolvingUtilizationOfUnsecuredLines       age DebtRatio MonthlyIncome  \\\n",
       "0                                  2.454528 -0.301292 -0.312205     -0.229847   \n",
       "1                                  0.854575  0.021939  0.079382      0.237632   \n",
       "2                                  2.454528  0.295115  0.167100     -0.229847   \n",
       "3                                 -1.009565 -0.301292 -0.312205     -0.229847   \n",
       "4                                 -1.009565 -0.528157 -0.312205     -0.229847   \n",
       "...                                     ...       ...       ...           ...   \n",
       "194987                            -1.009565 -0.528157  0.079382     -0.229847   \n",
       "194988                            -1.009565 -0.528157 -0.312205     -0.229847   \n",
       "194989                            -0.255194 -0.301292 -0.312205      0.237632   \n",
       "194990                             2.454528  1.738568  1.476452     -0.229847   \n",
       "194991                            -1.009565  1.738568 -0.312205      0.237632   \n",
       "\n",
       "       NumberOfOpenCreditLinesAndLoans NumberOfTime30-59DaysPastDueNotWorse  \\\n",
       "0                             0.137661                             0.353740   \n",
       "1                             0.137661                             0.353740   \n",
       "2                             0.137661                             0.353740   \n",
       "3                            -0.060634                            -0.870009   \n",
       "4                             0.137661                             0.353740   \n",
       "...                                ...                                  ...   \n",
       "194987                        0.137661                             0.353740   \n",
       "194988                        0.137661                             0.353740   \n",
       "194989                        0.137661                             0.353740   \n",
       "194990                       -0.857776                             0.353740   \n",
       "194991                        0.137661                            -0.870009   \n",
       "\n",
       "       NumberOfTimes90DaysLate NumberRealEstateLoansOrLines  \\\n",
       "0                     0.236664                     0.636290   \n",
       "1                     0.236664                    -0.399029   \n",
       "2                     0.236664                    -0.399029   \n",
       "3                     0.236664                     0.198435   \n",
       "4                     0.236664                    -0.399029   \n",
       "...                        ...                          ...   \n",
       "194987                0.236664                    -0.399029   \n",
       "194988                0.236664                     0.198435   \n",
       "194989                0.236664                    -0.317472   \n",
       "194990                0.236664                    -0.399029   \n",
       "194991                0.236664                     0.636290   \n",
       "\n",
       "       NumberOfTime60-89DaysPastDueNotWorse NumberOfDependents  \\\n",
       "0                                  0.124823          -0.588620   \n",
       "1                                  0.124823           0.625336   \n",
       "2                                  0.124823          -0.588620   \n",
       "3                                 -1.411050          -0.588620   \n",
       "4                                  0.124823          -0.588620   \n",
       "...                                     ...                ...   \n",
       "194987                             0.124823          -0.588620   \n",
       "194988                             0.124823          -0.588620   \n",
       "194989                             0.124823          -0.588620   \n",
       "194990                             0.124823           0.625336   \n",
       "194991                             0.124823          -0.588620   \n",
       "\n",
       "        SeriousDlqin2yrs  \n",
       "0                      0  \n",
       "1                      0  \n",
       "2                      0  \n",
       "3                      1  \n",
       "4                      1  \n",
       "...                  ...  \n",
       "194987                 1  \n",
       "194988                 0  \n",
       "194989                 1  \n",
       "194990                 0  \n",
       "194991                 1  \n",
       "\n",
       "[194992 rows x 11 columns]"
      ]
     },
     "execution_count": 52,
     "metadata": {},
     "output_type": "execute_result"
    }
   ],
   "source": [
    "model_woe = pd.DataFrame(index=model_data.index)\n",
    "\n",
    "for col in bins_of_col:\n",
    "    model_woe[col] = pd.cut(model_data[col],bins_of_col[col]).map(woeall[col])\n",
    "\n",
    "model_woe[\"SeriousDlqin2yrs\"] = model_data[\"SeriousDlqin2yrs\"]\n",
    "\n",
    "model_woe  #这就是建模数据\n",
    "\n"
   ]
  },
  {
   "cell_type": "markdown",
   "metadata": {},
   "source": [
    "## 4.5 建模与模型验证"
   ]
  },
  {
   "cell_type": "code",
   "execution_count": 54,
   "metadata": {},
   "outputs": [],
   "source": [
    "woeall_vali = {}\n",
    "for col in bins_of_col:\n",
    "    woeall_vali[col] = get_woe(vali_data,col,\"SeriousDlqin2yrs\",bins_of_col[col])\n",
    "    \n",
    "# 测试数据    \n",
    "vali_woe = pd.DataFrame(index=vali_data.index)\n",
    "for col in bins_of_col:\n",
    "    vali_woe[col] = pd.cut(vali_data[col],bins_of_col[col]).map(woeall_vali[col])\n",
    "\n",
    "vali_woe[\"SeriousDlqin2yrs\"] = vali_data[\"SeriousDlqin2yrs\"]\n",
    "\n",
    "\n",
    "vali_x = vali_woe.iloc[:,:-1]\n",
    "vali_y = vali_woe.iloc[:,-1]"
   ]
  },
  {
   "cell_type": "code",
   "execution_count": 55,
   "metadata": {},
   "outputs": [
    {
     "data": {
      "text/plain": [
       "0.7838407045759143"
      ]
     },
     "execution_count": 55,
     "metadata": {},
     "output_type": "execute_result"
    }
   ],
   "source": [
    "from sklearn.linear_model import LogisticRegression as LR\n",
    "# 训练集\n",
    "x = model_woe.iloc[:,:-1]\n",
    "y = model_woe.iloc[:,-1]\n",
    "lr = LR().fit(x,y)\n",
    "lr.score(vali_x,vali_y)\n",
    "\n"
   ]
  },
  {
   "cell_type": "code",
   "execution_count": 56,
   "metadata": {},
   "outputs": [
    {
     "data": {
      "image/png": "[encoded data removed]",
      "text/plain": [
       "<Figure size 432x288 with 1 Axes>"
      ]
     },
     "metadata": {
      "needs_background": "light"
     },
     "output_type": "display_data"
    }
   ],
   "source": [
    "c_1 = np.linspace(0.01,1,20) \n",
    "c_2 = np.linspace(0.01,0.2,20)\n",
    "\n",
    "score = []\n",
    "for i in  c_1:\n",
    "    lr = LR(solver=\"liblinear\",C = i).fit(x,y)\n",
    "    score.append(lr.score(vali_x,vali_y))\n",
    "\n",
    "\n",
    "plt.figure()\n",
    "plt.plot(c_1,score)\n",
    "plt.show()"
   ]
  },
  {
   "cell_type": "code",
   "execution_count": 57,
   "metadata": {},
   "outputs": [
    {
     "data": {
      "image/png": "[encoded data removed]",
      "text/plain": [
       "<Figure size 432x288 with 1 Axes>"
      ]
     },
     "metadata": {
      "needs_background": "light"
     },
     "output_type": "display_data"
    }
   ],
   "source": [
    "import warnings\n",
    "warnings.filterwarnings('ignore')\n",
    "score = []\n",
    "for i in [1,2,3,4,5,6]:\n",
    "    lr = LR(solver=\"liblinear\" ,C = 0.025 , max_iter=i).fit(x,y)\n",
    "    score.append(lr.score(vali_x , vali_y))\n",
    "    \n",
    "plt.figure()\n",
    "plt.plot([1,2,3,4,5,6],score)\n",
    "plt.show()\n",
    "\n"
   ]
  },
  {
   "cell_type": "code",
   "execution_count": 58,
   "metadata": {},
   "outputs": [
    {
     "data": {
      "text/plain": [
       "<matplotlib.axes._subplots.AxesSubplot at 0x1a2b3f92d0>"
      ]
     },
     "execution_count": 58,
     "metadata": {},
     "output_type": "execute_result"
    },
    {
     "data": {
      "image/png": "[encoded data removed]",
      "text/plain": [
       "<Figure size 432x432 with 1 Axes>"
      ]
     },
     "metadata": {
      "needs_background": "light"
     },
     "output_type": "display_data"
    }
   ],
   "source": [
    "import scikitplot as skplt  #pip install scikit-plot \n",
    "  \n",
    "vali_proba_df = pd.DataFrame(lr.predict_proba(vali_x))\n",
    "\n",
    "skplt.metrics.plot_roc(vali_y, vali_proba_df, plot_micro=False,figsize=(6,6),plot_macro=False) "
   ]
  },
  {
   "cell_type": "markdown",
   "metadata": {},
   "source": [
    "## 4.6 制作评分卡"
   ]
  },
  {
   "cell_type": "code",
   "execution_count": 60,
   "metadata": {},
   "outputs": [],
   "source": [
    "B = 20/np.log(2) \n",
    "A = 600 + B*np.log(1/60)"
   ]
  },
  {
   "cell_type": "code",
   "execution_count": 61,
   "metadata": {},
   "outputs": [
    {
     "data": {
      "text/plain": [
       "(28.85390081777927, 481.8621880878296)"
      ]
     },
     "execution_count": 61,
     "metadata": {},
     "output_type": "execute_result"
    }
   ],
   "source": [
    "B ,A"
   ]
  },
  {
   "cell_type": "code",
   "execution_count": 62,
   "metadata": {},
   "outputs": [
    {
     "data": {
      "text/plain": [
       "array([481.84554281])"
      ]
     },
     "execution_count": 62,
     "metadata": {},
     "output_type": "execute_result"
    }
   ],
   "source": [
    "base_score = A - B*lr.intercept_ \n",
    "base_score "
   ]
  },
  {
   "cell_type": "code",
   "execution_count": 63,
   "metadata": {},
   "outputs": [
    {
     "data": {
      "text/plain": [
       "cut\n",
       "(-inf, 36.0]   -11.413547\n",
       "(36.0, 52.0]    -6.510964\n",
       "(52.0, 56.0]     0.474105\n",
       "(56.0, 61.0]     6.377466\n",
       "(61.0, 74.0]    21.880412\n",
       "(74.0, inf]     37.570705\n",
       "dtype: float64"
      ]
     },
     "execution_count": 63,
     "metadata": {},
     "output_type": "execute_result"
    }
   ],
   "source": [
    "score_age = woeall[\"age\"] * (-B*lr.coef_[0][0]) \n",
    "score_age "
   ]
  },
  {
   "cell_type": "code",
   "execution_count": 64,
   "metadata": {},
   "outputs": [],
   "source": [
    "file = \"ScoreData.csv\" \n",
    "with open(file,\"w\") as fdata:\n",
    "    fdata.write(\"base_score,{}\\n\".format(base_score))\n",
    "for i,col in enumerate(x.columns):\n",
    "    score = woeall[col] * (-B*lr.coef_[0][i])\n",
    "    score.name = \"Score\"\n",
    "    score.index.name = col\n",
    "    score.to_csv(file,header=True,mode=\"a\")\n",
    "\n"
   ]
  }
 ],
 "metadata": {
  "kernelspec": {
   "display_name": "Python 3",
   "language": "python",
   "name": "python3"
  },
  "language_info": {
   "codemirror_mode": {
    "name": "ipython",
    "version": 3
   },
   "file_extension": ".py",
   "mimetype": "text/x-python",
   "name": "python",
   "nbconvert_exporter": "python",
   "pygments_lexer": "ipython3",
   "version": "3.7.4"
  },
  "toc": {
   "base_numbering": 1,
   "nav_menu": {},
   "number_sections": false,
   "sideBar": true,
   "skip_h1_title": false,
   "title_cell": "Table of Contents",
   "title_sidebar": "Contents",
   "toc_cell": false,
   "toc_position": {
    "height": "calc(100% - 180px)",
    "left": "10px",
    "top": "150px",
    "width": "245.3874969482422px"
   },
   "toc_section_display": true,
   "toc_window_display": false
  }
 },
 "nbformat": 4,
 "nbformat_minor": 2
}
