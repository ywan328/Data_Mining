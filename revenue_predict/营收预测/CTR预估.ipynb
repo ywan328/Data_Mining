{
 "cells": [
  {
   "cell_type": "code",
   "execution_count": 7,
   "metadata": {},
   "outputs": [],
   "source": [
    "import numpy as np\n",
    "import pandas as pd\n",
    "from sklearn.model_selection import train_test_split\n",
    "import xgboost as xgb\n",
    "import gzip\n",
    "import random\n",
    "import seaborn as sns\n",
    "import matplotlib.pyplot as plt\n",
    "plt.rcParams['font.sans-serif'] = ['SimHei']  # 用来正常显示中文标签win\n",
    "plt.rcParams[\"font.family\"] = 'Arial Unicode MS'  # mac\n",
    "plt.rcParams['axes.unicode_minus'] = False  #用来正常显示负号\n",
    "%matplotlib inline"
   ]
  },
  {
   "cell_type": "code",
   "execution_count": 2,
   "metadata": {},
   "outputs": [],
   "source": [
    "types_train = {\n",
    "    'id': np.dtype(int), \n",
    "    'click': np.dtype(int),       #是否点击,1表示被点击,0表示没被点击\n",
    "    'hour': np.dtype(int),        #广告被展现的日期+时间\n",
    "    'C1': np.dtype(int),          #匿名分类变量\n",
    "    'banner_pos': np.dtype(int),  #广告位置\n",
    "    'site_id': np.dtype(str),     #站点Id\n",
    "    'site_domain': np.dtype(str),  #站点域名\n",
    "    'site_category': np.dtype(str), #站点分类\n",
    "    'app_id': np.dtype(str),        # appId \n",
    "    'app_domain': np.dtype(str),    # app域名\n",
    "    'app_category': np.dtype(str),  # app分类\n",
    "    'device_id': np.dtype(str),     #设备Id\n",
    "    'device_ip': np.dtype(str),     #设备Ip\n",
    "    'device_model': np.dtype(str),  #设备型号\n",
    "    'device_type': np.dtype(int),   #设备型号\n",
    "    'device_conn_type': np.dtype(int),\n",
    "    'C14': np.dtype(int),   #匿名分类变量\n",
    "    'C15': np.dtype(int),   #匿名分类变量\n",
    "    'C16': np.dtype(int),   #匿名分类变量\n",
    "    'C17': np.dtype(int),   #匿名分类变量\n",
    "    'C18': np.dtype(int),   #匿名分类变量\n",
    "    'C19': np.dtype(int),   #匿名分类变量\n",
    "    'C20': np.dtype(int),   #匿名分类变量\n",
    "    'C21':np.dtype(int)    #匿名分类变量\n",
    "}"
   ]
  },
  {
   "cell_type": "code",
   "execution_count": 5,
   "metadata": {},
   "outputs": [
    {
     "name": "stdout",
     "output_type": "stream",
     "text": [
      "1000000\n"
     ]
    },
    {
     "data": {
      "text/html": [
       "<div>\n",
       "<style scoped>\n",
       "    .dataframe tbody tr th:only-of-type {\n",
       "        vertical-align: middle;\n",
       "    }\n",
       "\n",
       "    .dataframe tbody tr th {\n",
       "        vertical-align: top;\n",
       "    }\n",
       "\n",
       "    .dataframe thead th {\n",
       "        text-align: right;\n",
       "    }\n",
       "</style>\n",
       "<table border=\"1\" class=\"dataframe\">\n",
       "  <thead>\n",
       "    <tr style=\"text-align: right;\">\n",
       "      <th></th>\n",
       "      <th>id</th>\n",
       "      <th>click</th>\n",
       "      <th>hour</th>\n",
       "      <th>C1</th>\n",
       "      <th>banner_pos</th>\n",
       "      <th>site_id</th>\n",
       "      <th>site_domain</th>\n",
       "      <th>site_category</th>\n",
       "      <th>app_id</th>\n",
       "      <th>app_domain</th>\n",
       "      <th>...</th>\n",
       "      <th>device_type</th>\n",
       "      <th>device_conn_type</th>\n",
       "      <th>C14</th>\n",
       "      <th>C15</th>\n",
       "      <th>C16</th>\n",
       "      <th>C17</th>\n",
       "      <th>C18</th>\n",
       "      <th>C19</th>\n",
       "      <th>C20</th>\n",
       "      <th>C21</th>\n",
       "    </tr>\n",
       "  </thead>\n",
       "  <tbody>\n",
       "    <tr>\n",
       "      <td>0</td>\n",
       "      <td>10003539039235338011</td>\n",
       "      <td>0</td>\n",
       "      <td>2014-10-21</td>\n",
       "      <td>1005</td>\n",
       "      <td>0</td>\n",
       "      <td>1fbe01fe</td>\n",
       "      <td>f3845767</td>\n",
       "      <td>28905ebd</td>\n",
       "      <td>ecad2386</td>\n",
       "      <td>7801e8d9</td>\n",
       "      <td>...</td>\n",
       "      <td>1</td>\n",
       "      <td>0</td>\n",
       "      <td>15699</td>\n",
       "      <td>320</td>\n",
       "      <td>50</td>\n",
       "      <td>1722</td>\n",
       "      <td>0</td>\n",
       "      <td>35</td>\n",
       "      <td>100084</td>\n",
       "      <td>79</td>\n",
       "    </tr>\n",
       "    <tr>\n",
       "      <td>1</td>\n",
       "      <td>10011650513707909570</td>\n",
       "      <td>0</td>\n",
       "      <td>2014-10-21</td>\n",
       "      <td>1005</td>\n",
       "      <td>0</td>\n",
       "      <td>85f751fd</td>\n",
       "      <td>c4e18dd6</td>\n",
       "      <td>50e219e0</td>\n",
       "      <td>febd1138</td>\n",
       "      <td>82e27996</td>\n",
       "      <td>...</td>\n",
       "      <td>1</td>\n",
       "      <td>0</td>\n",
       "      <td>21611</td>\n",
       "      <td>320</td>\n",
       "      <td>50</td>\n",
       "      <td>2480</td>\n",
       "      <td>3</td>\n",
       "      <td>297</td>\n",
       "      <td>100111</td>\n",
       "      <td>61</td>\n",
       "    </tr>\n",
       "    <tr>\n",
       "      <td>2</td>\n",
       "      <td>10019174283089529533</td>\n",
       "      <td>0</td>\n",
       "      <td>2014-10-21</td>\n",
       "      <td>1005</td>\n",
       "      <td>0</td>\n",
       "      <td>bb4524e7</td>\n",
       "      <td>d733bbc3</td>\n",
       "      <td>28905ebd</td>\n",
       "      <td>ecad2386</td>\n",
       "      <td>7801e8d9</td>\n",
       "      <td>...</td>\n",
       "      <td>1</td>\n",
       "      <td>0</td>\n",
       "      <td>9438</td>\n",
       "      <td>320</td>\n",
       "      <td>50</td>\n",
       "      <td>898</td>\n",
       "      <td>3</td>\n",
       "      <td>427</td>\n",
       "      <td>100003</td>\n",
       "      <td>61</td>\n",
       "    </tr>\n",
       "    <tr>\n",
       "      <td>3</td>\n",
       "      <td>10020605367282200605</td>\n",
       "      <td>0</td>\n",
       "      <td>2014-10-21</td>\n",
       "      <td>1005</td>\n",
       "      <td>1</td>\n",
       "      <td>e151e245</td>\n",
       "      <td>7e091613</td>\n",
       "      <td>f028772b</td>\n",
       "      <td>ecad2386</td>\n",
       "      <td>7801e8d9</td>\n",
       "      <td>...</td>\n",
       "      <td>1</td>\n",
       "      <td>0</td>\n",
       "      <td>20359</td>\n",
       "      <td>216</td>\n",
       "      <td>36</td>\n",
       "      <td>2333</td>\n",
       "      <td>0</td>\n",
       "      <td>39</td>\n",
       "      <td>-1</td>\n",
       "      <td>157</td>\n",
       "    </tr>\n",
       "    <tr>\n",
       "      <td>4</td>\n",
       "      <td>10022778968214273379</td>\n",
       "      <td>0</td>\n",
       "      <td>2014-10-21</td>\n",
       "      <td>1005</td>\n",
       "      <td>1</td>\n",
       "      <td>93de26ae</td>\n",
       "      <td>7d05db75</td>\n",
       "      <td>335d28a8</td>\n",
       "      <td>ecad2386</td>\n",
       "      <td>7801e8d9</td>\n",
       "      <td>...</td>\n",
       "      <td>1</td>\n",
       "      <td>0</td>\n",
       "      <td>18993</td>\n",
       "      <td>320</td>\n",
       "      <td>50</td>\n",
       "      <td>2161</td>\n",
       "      <td>0</td>\n",
       "      <td>35</td>\n",
       "      <td>-1</td>\n",
       "      <td>157</td>\n",
       "    </tr>\n",
       "  </tbody>\n",
       "</table>\n",
       "<p>5 rows × 24 columns</p>\n",
       "</div>"
      ],
      "text/plain": [
       "                     id  click       hour    C1  banner_pos   site_id  \\\n",
       "0  10003539039235338011      0 2014-10-21  1005           0  1fbe01fe   \n",
       "1  10011650513707909570      0 2014-10-21  1005           0  85f751fd   \n",
       "2  10019174283089529533      0 2014-10-21  1005           0  bb4524e7   \n",
       "3  10020605367282200605      0 2014-10-21  1005           1  e151e245   \n",
       "4  10022778968214273379      0 2014-10-21  1005           1  93de26ae   \n",
       "\n",
       "  site_domain site_category    app_id app_domain  ... device_type  \\\n",
       "0    f3845767      28905ebd  ecad2386   7801e8d9  ...           1   \n",
       "1    c4e18dd6      50e219e0  febd1138   82e27996  ...           1   \n",
       "2    d733bbc3      28905ebd  ecad2386   7801e8d9  ...           1   \n",
       "3    7e091613      f028772b  ecad2386   7801e8d9  ...           1   \n",
       "4    7d05db75      335d28a8  ecad2386   7801e8d9  ...           1   \n",
       "\n",
       "  device_conn_type    C14  C15  C16   C17  C18  C19     C20  C21  \n",
       "0                0  15699  320   50  1722    0   35  100084   79  \n",
       "1                0  21611  320   50  2480    3  297  100111   61  \n",
       "2                0   9438  320   50   898    3  427  100003   61  \n",
       "3                0  20359  216   36  2333    0   39      -1  157  \n",
       "4                0  18993  320   50  2161    0   35      -1  157  \n",
       "\n",
       "[5 rows x 24 columns]"
      ]
     },
     "execution_count": 5,
     "metadata": {},
     "output_type": "execute_result"
    }
   ],
   "source": [
    "n = 40428967  #数据集中的记录总数\n",
    "sample_size = 1000000\n",
    "skip_values = sorted(random.sample(range(1, n), n - sample_size))\n",
    "parse_date = lambda val: pd.datetime.strptime(val, '%y%m%d%H')\n",
    "\n",
    "# 数据集较大时，使用python解压\n",
    "with gzip.open('train.gz') as f:\n",
    "    train = pd.read_csv(f,\n",
    "                        parse_dates=['hour'],\n",
    "                        date_parser=parse_date,\n",
    "                        dtype=types_train,\n",
    "                        skiprows=skip_values)\n",
    "print(len(train))\n",
    "train.head()"
   ]
  },
  {
   "cell_type": "code",
   "execution_count": 8,
   "metadata": {},
   "outputs": [
    {
     "name": "stdout",
     "output_type": "stream",
     "text": [
      "0    830672\n",
      "1    169328\n",
      "Name: click, dtype: int64\n",
      "\n",
      "0    0.830672\n",
      "1    0.169328\n",
      "Name: click, dtype: float64\n"
     ]
    },
    {
     "data": {
      "image/png": "[encoded data removed]",
      "text/plain": [
       "<Figure size 432x288 with 1 Axes>"
      ]
     },
     "metadata": {
      "needs_background": "light"
     },
     "output_type": "display_data"
    }
   ],
   "source": [
    "print(train['click'].value_counts())\n",
    "print()\n",
    "print(train['click'].value_counts() / len(train))\n",
    "sns.countplot(x='click', data=train, palette='hls')\n",
    "plt.show()"
   ]
  },
  {
   "cell_type": "code",
   "execution_count": 9,
   "metadata": {},
   "outputs": [
    {
     "data": {
      "text/plain": [
       "count                 1000000\n",
       "unique                    240\n",
       "top       2014-10-22 09:00:00\n",
       "freq                    11284\n",
       "first     2014-10-21 00:00:00\n",
       "last      2014-10-30 23:00:00\n",
       "Name: hour, dtype: object"
      ]
     },
     "execution_count": 9,
     "metadata": {},
     "output_type": "execute_result"
    }
   ],
   "source": [
    "train.hour.describe()"
   ]
  },
  {
   "cell_type": "code",
   "execution_count": 10,
   "metadata": {},
   "outputs": [
    {
     "data": {
      "text/plain": [
       "Text(0.5, 1.0, '时间和点击量')"
      ]
     },
     "execution_count": 10,
     "metadata": {},
     "output_type": "execute_result"
    },
    {
     "data": {
      "image/png": "[encoded data removed]",
      "text/plain": [
       "<Figure size 864x432 with 1 Axes>"
      ]
     },
     "metadata": {
      "needs_background": "light"
     },
     "output_type": "display_data"
    }
   ],
   "source": [
    "# 连续几天的点击量\n",
    "train.groupby('hour').agg({'click': 'sum'}).plot(figsize=(12, 6))\n",
    "plt.ylabel('点击量')\n",
    "plt.title('时间和点击量')"
   ]
  },
  {
   "cell_type": "code",
   "execution_count": 11,
   "metadata": {},
   "outputs": [
    {
     "data": {
      "text/html": [
       "<div>\n",
       "<style scoped>\n",
       "    .dataframe tbody tr th:only-of-type {\n",
       "        vertical-align: middle;\n",
       "    }\n",
       "\n",
       "    .dataframe tbody tr th {\n",
       "        vertical-align: top;\n",
       "    }\n",
       "\n",
       "    .dataframe thead th {\n",
       "        text-align: right;\n",
       "    }\n",
       "</style>\n",
       "<table border=\"1\" class=\"dataframe\">\n",
       "  <thead>\n",
       "    <tr style=\"text-align: right;\">\n",
       "      <th></th>\n",
       "      <th>id</th>\n",
       "      <th>click</th>\n",
       "      <th>hour</th>\n",
       "      <th>C1</th>\n",
       "      <th>banner_pos</th>\n",
       "      <th>site_id</th>\n",
       "      <th>site_domain</th>\n",
       "      <th>site_category</th>\n",
       "      <th>app_id</th>\n",
       "      <th>app_domain</th>\n",
       "      <th>...</th>\n",
       "      <th>device_conn_type</th>\n",
       "      <th>C14</th>\n",
       "      <th>C15</th>\n",
       "      <th>C16</th>\n",
       "      <th>C17</th>\n",
       "      <th>C18</th>\n",
       "      <th>C19</th>\n",
       "      <th>C20</th>\n",
       "      <th>C21</th>\n",
       "      <th>time</th>\n",
       "    </tr>\n",
       "  </thead>\n",
       "  <tbody>\n",
       "    <tr>\n",
       "      <td>937215</td>\n",
       "      <td>6910871083309819475</td>\n",
       "      <td>0</td>\n",
       "      <td>2014-10-30 09:00:00</td>\n",
       "      <td>1005</td>\n",
       "      <td>0</td>\n",
       "      <td>9ee9dd00</td>\n",
       "      <td>759d1c56</td>\n",
       "      <td>f028772b</td>\n",
       "      <td>ecad2386</td>\n",
       "      <td>7801e8d9</td>\n",
       "      <td>...</td>\n",
       "      <td>0</td>\n",
       "      <td>17239</td>\n",
       "      <td>320</td>\n",
       "      <td>50</td>\n",
       "      <td>1973</td>\n",
       "      <td>3</td>\n",
       "      <td>39</td>\n",
       "      <td>-1</td>\n",
       "      <td>23</td>\n",
       "      <td>9</td>\n",
       "    </tr>\n",
       "    <tr>\n",
       "      <td>213230</td>\n",
       "      <td>8666917622876233984</td>\n",
       "      <td>0</td>\n",
       "      <td>2014-10-22 17:00:00</td>\n",
       "      <td>1005</td>\n",
       "      <td>0</td>\n",
       "      <td>1fbe01fe</td>\n",
       "      <td>f3845767</td>\n",
       "      <td>28905ebd</td>\n",
       "      <td>ecad2386</td>\n",
       "      <td>7801e8d9</td>\n",
       "      <td>...</td>\n",
       "      <td>2</td>\n",
       "      <td>15708</td>\n",
       "      <td>320</td>\n",
       "      <td>50</td>\n",
       "      <td>1722</td>\n",
       "      <td>0</td>\n",
       "      <td>35</td>\n",
       "      <td>-1</td>\n",
       "      <td>79</td>\n",
       "      <td>17</td>\n",
       "    </tr>\n",
       "    <tr>\n",
       "      <td>917060</td>\n",
       "      <td>1698807084944363249</td>\n",
       "      <td>0</td>\n",
       "      <td>2014-10-30 05:00:00</td>\n",
       "      <td>1005</td>\n",
       "      <td>0</td>\n",
       "      <td>85f751fd</td>\n",
       "      <td>c4e18dd6</td>\n",
       "      <td>50e219e0</td>\n",
       "      <td>e8691eac</td>\n",
       "      <td>2347f47a</td>\n",
       "      <td>...</td>\n",
       "      <td>0</td>\n",
       "      <td>23804</td>\n",
       "      <td>320</td>\n",
       "      <td>50</td>\n",
       "      <td>2726</td>\n",
       "      <td>3</td>\n",
       "      <td>803</td>\n",
       "      <td>100148</td>\n",
       "      <td>229</td>\n",
       "      <td>5</td>\n",
       "    </tr>\n",
       "    <tr>\n",
       "      <td>699328</td>\n",
       "      <td>784459489179413696</td>\n",
       "      <td>0</td>\n",
       "      <td>2014-10-28 07:00:00</td>\n",
       "      <td>1005</td>\n",
       "      <td>1</td>\n",
       "      <td>57ef2c87</td>\n",
       "      <td>bd6d812f</td>\n",
       "      <td>f028772b</td>\n",
       "      <td>ecad2386</td>\n",
       "      <td>7801e8d9</td>\n",
       "      <td>...</td>\n",
       "      <td>0</td>\n",
       "      <td>19771</td>\n",
       "      <td>320</td>\n",
       "      <td>50</td>\n",
       "      <td>2227</td>\n",
       "      <td>0</td>\n",
       "      <td>935</td>\n",
       "      <td>100081</td>\n",
       "      <td>48</td>\n",
       "      <td>7</td>\n",
       "    </tr>\n",
       "    <tr>\n",
       "      <td>7405</td>\n",
       "      <td>13576680956187120325</td>\n",
       "      <td>0</td>\n",
       "      <td>2014-10-21 02:00:00</td>\n",
       "      <td>1005</td>\n",
       "      <td>0</td>\n",
       "      <td>85f751fd</td>\n",
       "      <td>c4e18dd6</td>\n",
       "      <td>50e219e0</td>\n",
       "      <td>39947756</td>\n",
       "      <td>2347f47a</td>\n",
       "      <td>...</td>\n",
       "      <td>2</td>\n",
       "      <td>21647</td>\n",
       "      <td>320</td>\n",
       "      <td>50</td>\n",
       "      <td>2487</td>\n",
       "      <td>1</td>\n",
       "      <td>547</td>\n",
       "      <td>-1</td>\n",
       "      <td>51</td>\n",
       "      <td>2</td>\n",
       "    </tr>\n",
       "  </tbody>\n",
       "</table>\n",
       "<p>5 rows × 25 columns</p>\n",
       "</div>"
      ],
      "text/plain": [
       "                          id  click                hour    C1  banner_pos  \\\n",
       "937215   6910871083309819475      0 2014-10-30 09:00:00  1005           0   \n",
       "213230   8666917622876233984      0 2014-10-22 17:00:00  1005           0   \n",
       "917060   1698807084944363249      0 2014-10-30 05:00:00  1005           0   \n",
       "699328    784459489179413696      0 2014-10-28 07:00:00  1005           1   \n",
       "7405    13576680956187120325      0 2014-10-21 02:00:00  1005           0   \n",
       "\n",
       "         site_id site_domain site_category    app_id app_domain  ...  \\\n",
       "937215  9ee9dd00    759d1c56      f028772b  ecad2386   7801e8d9  ...   \n",
       "213230  1fbe01fe    f3845767      28905ebd  ecad2386   7801e8d9  ...   \n",
       "917060  85f751fd    c4e18dd6      50e219e0  e8691eac   2347f47a  ...   \n",
       "699328  57ef2c87    bd6d812f      f028772b  ecad2386   7801e8d9  ...   \n",
       "7405    85f751fd    c4e18dd6      50e219e0  39947756   2347f47a  ...   \n",
       "\n",
       "       device_conn_type    C14  C15 C16   C17  C18  C19     C20  C21  time  \n",
       "937215                0  17239  320  50  1973    3   39      -1   23     9  \n",
       "213230                2  15708  320  50  1722    0   35      -1   79    17  \n",
       "917060                0  23804  320  50  2726    3  803  100148  229     5  \n",
       "699328                0  19771  320  50  2227    0  935  100081   48     7  \n",
       "7405                  2  21647  320  50  2487    1  547      -1   51     2  \n",
       "\n",
       "[5 rows x 25 columns]"
      ]
     },
     "execution_count": 11,
     "metadata": {},
     "output_type": "execute_result"
    }
   ],
   "source": [
    "# 创建新的列\n",
    "train['time'] = train.hour.apply(lambda x: x.hour)\n",
    "train.sample(5)"
   ]
  },
  {
   "cell_type": "code",
   "execution_count": 12,
   "metadata": {},
   "outputs": [
    {
     "data": {
      "text/plain": [
       "Text(0.5, 1.0, '时间和点击量')"
      ]
     },
     "execution_count": 12,
     "metadata": {},
     "output_type": "execute_result"
    },
    {
     "data": {
      "image/png": "[encoded data removed]",
      "text/plain": [
       "<Figure size 864x432 with 1 Axes>"
      ]
     },
     "metadata": {
      "needs_background": "light"
     },
     "output_type": "display_data"
    }
   ],
   "source": [
    "# 每个小时的点击量\n",
    "train.groupby('time').agg({'click': 'sum'}).plot(figsize=(12, 6), grid=True)\n",
    "plt.ylabel('点击次数')\n",
    "plt.title('时间和点击量')"
   ]
  },
  {
   "cell_type": "code",
   "execution_count": 13,
   "metadata": {},
   "outputs": [
    {
     "data": {
      "image/png": "[encoded data removed]",
      "text/plain": [
       "<Figure size 864x432 with 1 Axes>"
      ]
     },
     "metadata": {
      "needs_background": "light"
     },
     "output_type": "display_data"
    }
   ],
   "source": [
    "# 展现量与点击量的对比\n",
    "train.groupby(['time', 'click']).size().unstack().plot(kind='bar',\n",
    "                                                       figsize=(12, 6))\n",
    "plt.ylabel('数量')\n",
    "plt.title('展现量与点击量')"
   ]
  },
  {
   "cell_type": "code",
   "execution_count": 14,
   "metadata": {},
   "outputs": [
    {
     "data": {
      "text/html": [
       "<div>\n",
       "<style scoped>\n",
       "    .dataframe tbody tr th:only-of-type {\n",
       "        vertical-align: middle;\n",
       "    }\n",
       "\n",
       "    .dataframe tbody tr th {\n",
       "        vertical-align: top;\n",
       "    }\n",
       "\n",
       "    .dataframe thead th {\n",
       "        text-align: right;\n",
       "    }\n",
       "</style>\n",
       "<table border=\"1\" class=\"dataframe\">\n",
       "  <thead>\n",
       "    <tr style=\"text-align: right;\">\n",
       "      <th></th>\n",
       "      <th>time</th>\n",
       "      <th>impressions</th>\n",
       "      <th>clicks</th>\n",
       "      <th>CTR</th>\n",
       "    </tr>\n",
       "  </thead>\n",
       "  <tbody>\n",
       "    <tr>\n",
       "      <td>0</td>\n",
       "      <td>0</td>\n",
       "      <td>20898</td>\n",
       "      <td>3779</td>\n",
       "      <td>18.083070</td>\n",
       "    </tr>\n",
       "    <tr>\n",
       "      <td>1</td>\n",
       "      <td>1</td>\n",
       "      <td>24358</td>\n",
       "      <td>4504</td>\n",
       "      <td>18.490845</td>\n",
       "    </tr>\n",
       "    <tr>\n",
       "      <td>2</td>\n",
       "      <td>2</td>\n",
       "      <td>30079</td>\n",
       "      <td>5179</td>\n",
       "      <td>17.217993</td>\n",
       "    </tr>\n",
       "    <tr>\n",
       "      <td>3</td>\n",
       "      <td>3</td>\n",
       "      <td>34950</td>\n",
       "      <td>6104</td>\n",
       "      <td>17.464950</td>\n",
       "    </tr>\n",
       "    <tr>\n",
       "      <td>4</td>\n",
       "      <td>4</td>\n",
       "      <td>47378</td>\n",
       "      <td>7525</td>\n",
       "      <td>15.882899</td>\n",
       "    </tr>\n",
       "  </tbody>\n",
       "</table>\n",
       "</div>"
      ],
      "text/plain": [
       "   time  impressions  clicks        CTR\n",
       "0     0        20898    3779  18.083070\n",
       "1     1        24358    4504  18.490845\n",
       "2     2        30079    5179  17.217993\n",
       "3     3        34950    6104  17.464950\n",
       "4     4        47378    7525  15.882899"
      ]
     },
     "execution_count": 14,
     "metadata": {},
     "output_type": "execute_result"
    }
   ],
   "source": [
    "# 计算CTR\n",
    "df_click = train[train['click'] == 1]\n",
    "df_hour = train[['time', 'click']].groupby(['time']).count().reset_index()\n",
    "df_hour = df_hour.rename(columns={'click': 'impressions'})\n",
    "df_hour['clicks'] = df_click[['time', 'click'\n",
    "                              ]].groupby(['time'\n",
    "                                          ]).count().reset_index()['click']\n",
    "df_hour['CTR'] = df_hour['clicks'] / df_hour['impressions'] * 100\n",
    "df_hour.head()"
   ]
  },
  {
   "cell_type": "code",
   "execution_count": 15,
   "metadata": {},
   "outputs": [
    {
     "data": {
      "text/plain": [
       "Text(0.5, 1.0, '点击率的时间分布')"
      ]
     },
     "execution_count": 15,
     "metadata": {},
     "output_type": "execute_result"
    },
    {
     "data": {
      "image/png": "[encoded data removed]",
      "text/plain": [
       "<Figure size 864x432 with 1 Axes>"
      ]
     },
     "metadata": {
      "needs_background": "light"
     },
     "output_type": "display_data"
    }
   ],
   "source": [
    "# 点击率的时间分布\n",
    "plt.figure(figsize=(12, 6))\n",
    "sns.barplot(y='CTR', x='time', data=df_hour)\n",
    "plt.title('点击率的时间分布')"
   ]
  },
  {
   "cell_type": "code",
   "execution_count": 16,
   "metadata": {},
   "outputs": [
    {
     "name": "stderr",
     "output_type": "stream",
     "text": [
      "/Users/seven/opt/anaconda3/lib/python3.7/site-packages/ipykernel_launcher.py:1: FutureWarning: `weekday_name` is deprecated and will be removed in a future version. Use `day_name` instead\n",
      "  \"\"\"Entry point for launching an IPython kernel.\n"
     ]
    },
    {
     "data": {
      "text/plain": [
       "Text(0.5, 1.0, '星期的点击量')"
      ]
     },
     "execution_count": 16,
     "metadata": {},
     "output_type": "execute_result"
    },
    {
     "data": {
      "image/png": "[encoded data removed]",
      "text/plain": [
       "<Figure size 864x432 with 1 Axes>"
      ]
     },
     "metadata": {
      "needs_background": "light"
     },
     "output_type": "display_data"
    }
   ],
   "source": [
    "# 星期的点击率\n",
    "train['day_of_week'] = train['hour'].apply(lambda val: val.weekday_name)\n",
    "cats = ['Monday', 'Tuesday', 'Wednesday', 'Thursday', 'Friday', 'Saturday', 'Sunday']\n",
    "train.groupby('day_of_week').agg({'click': 'sum'}).reindex(cats).plot(figsize=(12, 6))\n",
    "ticks = list(range(0, 7, 1))\n",
    "labels = \"周一 周二 周三 周四 周五 周六 周日\".split()\n",
    "plt.xticks(ticks, labels)\n",
    "plt.title('星期的点击量')"
   ]
  },
  {
   "cell_type": "code",
   "execution_count": 17,
   "metadata": {},
   "outputs": [
    {
     "data": {
      "text/plain": [
       "Text(0.5, 1.0, '星期的展现量和点击量分布')"
      ]
     },
     "execution_count": 17,
     "metadata": {},
     "output_type": "execute_result"
    },
    {
     "data": {
      "image/png": "[encoded data removed]",
      "text/plain": [
       "<Figure size 864x432 with 1 Axes>"
      ]
     },
     "metadata": {
      "needs_background": "light"
     },
     "output_type": "display_data"
    }
   ],
   "source": [
    "# 每星期的展现和点击\n",
    "train.groupby(['day_of_week', 'click']).size().unstack().reindex(cats).plot(kind='bar',\n",
    "                                                      title=\"Day of the Week\",\n",
    "                                                      figsize=(12, 6))\n",
    "ticks = list(range(0, 7, 1))\n",
    "labels = \"周一 周二 周三 周四 周五 周六 周日\".split()\n",
    "plt.xticks(ticks, labels)\n",
    "plt.title('星期的展现量和点击量分布')"
   ]
  },
  {
   "cell_type": "code",
   "execution_count": 18,
   "metadata": {},
   "outputs": [
    {
     "data": {
      "text/plain": [
       "Text(0.5, 1.0, '星期的点击率')"
      ]
     },
     "execution_count": 18,
     "metadata": {},
     "output_type": "execute_result"
    },
    {
     "data": {
      "image/png": "[encoded data removed]",
      "text/plain": [
       "<Figure size 864x432 with 1 Axes>"
      ]
     },
     "metadata": {
      "needs_background": "light"
     },
     "output_type": "display_data"
    }
   ],
   "source": [
    "# 星期中每天的点击率\n",
    "df_click = train[train['click'] == 1]\n",
    "df_dayofweek = train[['day_of_week',\n",
    "                      'click']].groupby(['day_of_week']).count().reset_index()\n",
    "df_dayofweek = df_dayofweek.rename(columns={'click': 'impressions'})\n",
    "df_dayofweek['clicks'] = df_click[['day_of_week', 'click']].groupby(\n",
    "    ['day_of_week']).count().reset_index()['click']\n",
    "df_dayofweek[\n",
    "    'CTR'] = df_dayofweek['clicks'] / df_dayofweek['impressions'] * 100\n",
    "\n",
    "plt.figure(figsize=(12, 6))\n",
    "# sns.set(style=\"whitegrid\")\n",
    "sns.barplot(y='CTR',\n",
    "            x='day_of_week',\n",
    "            data=df_dayofweek,\n",
    "            order=[\n",
    "                'Monday', 'Tuesday', 'Wednesday', 'Thursday', 'Friday',\n",
    "                'Saturday', 'Sunday'\n",
    "            ])\n",
    "plt.title('星期的点击率')"
   ]
  },
  {
   "cell_type": "code",
   "execution_count": 19,
   "metadata": {
    "scrolled": true
   },
   "outputs": [
    {
     "name": "stdout",
     "output_type": "stream",
     "text": [
      "1005    0.919132\n",
      "1002    0.054729\n",
      "1010    0.022071\n",
      "1012    0.002793\n",
      "1007    0.000892\n",
      "1001    0.000252\n",
      "1008    0.000131\n",
      "Name: C1, dtype: float64\n"
     ]
    }
   ],
   "source": [
    "# 查看未知变量\n",
    "print(train.C1.value_counts() / len(train))"
   ]
  },
  {
   "cell_type": "code",
   "execution_count": 20,
   "metadata": {},
   "outputs": [
    {
     "name": "stdout",
     "output_type": "stream",
     "text": [
      " C1 value: 1001,  点击率: 0.03968253968253968\n",
      " C1 value: 1002,  点击率: 0.21239196769537175\n",
      " C1 value: 1005,  点击率: 0.1687755404011611\n",
      " C1 value: 1007,  点击率: 0.03699551569506727\n",
      " C1 value: 1008,  点击率: 0.13740458015267176\n",
      " C1 value: 1010,  点击率: 0.0927461374654524\n",
      " C1 value: 1012,  点击率: 0.16791979949874686\n"
     ]
    }
   ],
   "source": [
    "C1_values = train.C1.unique()\n",
    "C1_values.sort()\n",
    "ctr_avg_list=[]\n",
    "for i in C1_values:\n",
    "    ctr_avg=train.loc[np.where((train.C1 == i))].click.mean()\n",
    "    ctr_avg_list.append(ctr_avg)\n",
    "    print(\" C1 value: {},  点击率: {}\".format(i,ctr_avg))"
   ]
  },
  {
   "cell_type": "code",
   "execution_count": 21,
   "metadata": {},
   "outputs": [
    {
     "data": {
      "image/png": "[encoded data removed]",
      "text/plain": [
       "<Figure size 864x432 with 1 Axes>"
      ]
     },
     "metadata": {
      "needs_background": "light"
     },
     "output_type": "display_data"
    }
   ],
   "source": [
    "train.groupby(['C1', 'click']).size().unstack().plot(kind='bar',\n",
    "                                                     figsize=(12, 6),\n",
    "                                                     title='C1 展现量和点击量分布')"
   ]
  },
  {
   "cell_type": "code",
   "execution_count": 22,
   "metadata": {},
   "outputs": [
    {
     "data": {
      "text/plain": [
       "Text(0.5, 1.0, 'C1的点击率分布')"
      ]
     },
     "execution_count": 22,
     "metadata": {},
     "output_type": "execute_result"
    },
    {
     "data": {
      "image/png": "[encoded data removed]",
      "text/plain": [
       "<Figure size 864x432 with 1 Axes>"
      ]
     },
     "metadata": {
      "needs_background": "light"
     },
     "output_type": "display_data"
    }
   ],
   "source": [
    "df_c1 = train[['C1', 'click']].groupby(['C1']).count().reset_index()\n",
    "df_c1 = df_c1.rename(columns={'click': 'impressions'})\n",
    "df_c1['clicks'] = df_click[['C1', 'click'\n",
    "                            ]].groupby(['C1']).count().reset_index()['click']\n",
    "df_c1['CTR'] = df_c1['clicks'] / df_c1['impressions'] * 100\n",
    "\n",
    "plt.figure(figsize=(12, 6))\n",
    "sns.barplot(y='CTR', x='C1', data=df_c1)\n",
    "plt.title('C1的点击率分布')"
   ]
  },
  {
   "cell_type": "code",
   "execution_count": 23,
   "metadata": {},
   "outputs": [
    {
     "name": "stdout",
     "output_type": "stream",
     "text": [
      "0    0.720397\n",
      "1    0.277864\n",
      "7    0.001021\n",
      "2    0.000328\n",
      "4    0.000204\n",
      "5    0.000131\n",
      "3    0.000055\n",
      "Name: banner_pos, dtype: float64\n"
     ]
    }
   ],
   "source": [
    "print(train.banner_pos.value_counts() / len(train))"
   ]
  },
  {
   "cell_type": "code",
   "execution_count": 24,
   "metadata": {},
   "outputs": [
    {
     "name": "stdout",
     "output_type": "stream",
     "text": [
      " banner 位置: 0,  点击率: 0.164092854356695\n",
      " banner 位置: 1,  点击率: 0.1824849566694498\n",
      " banner 位置: 2,  点击率: 0.11585365853658537\n",
      " banner 位置: 3,  点击率: 0.18181818181818182\n",
      " banner 位置: 4,  点击率: 0.16666666666666666\n",
      " banner 位置: 5,  点击率: 0.13740458015267176\n",
      " banner 位置: 7,  点击率: 0.3036238981390793\n"
     ]
    }
   ],
   "source": [
    "# 广告位置的点击率分布\n",
    "banner_pos = train.banner_pos.unique()\n",
    "banner_pos.sort()\n",
    "ctr_avg_list = []\n",
    "for i in banner_pos:\n",
    "    ctr_avg = train.loc[np.where((train.banner_pos == i))].click.mean()\n",
    "    ctr_avg_list.append(ctr_avg)\n",
    "    print(\" banner 位置: {},  点击率: {}\".format(i, ctr_avg))"
   ]
  },
  {
   "cell_type": "code",
   "execution_count": 25,
   "metadata": {},
   "outputs": [
    {
     "data": {
      "text/plain": [
       "<matplotlib.axes._subplots.AxesSubplot at 0x7fc86e340390>"
      ]
     },
     "execution_count": 25,
     "metadata": {},
     "output_type": "execute_result"
    },
    {
     "data": {
      "image/png": "[encoded data removed]",
      "text/plain": [
       "<Figure size 864x432 with 1 Axes>"
      ]
     },
     "metadata": {
      "needs_background": "light"
     },
     "output_type": "display_data"
    }
   ],
   "source": [
    "train.groupby(['banner_pos',\n",
    "               'click']).size().unstack().plot(kind='bar',\n",
    "                                               figsize=(12, 6),\n",
    "                                               title='banner 位置的广告展现量和点击量的分布')"
   ]
  },
  {
   "cell_type": "code",
   "execution_count": 26,
   "metadata": {},
   "outputs": [
    {
     "data": {
      "text/plain": [
       "Text(0.5, 1.0, 'banner 位置的点击率的分布')"
      ]
     },
     "execution_count": 26,
     "metadata": {},
     "output_type": "execute_result"
    },
    {
     "data": {
      "image/png": "[encoded data removed]",
      "text/plain": [
       "<Figure size 864x432 with 1 Axes>"
      ]
     },
     "metadata": {
      "needs_background": "light"
     },
     "output_type": "display_data"
    }
   ],
   "source": [
    "df_banner = train[['banner_pos',\n",
    "                   'click']].groupby(['banner_pos']).count().reset_index()\n",
    "df_banner = df_banner.rename(columns={'click': 'impressions'})\n",
    "df_banner['clicks'] = df_click[['banner_pos', 'click'\n",
    "                                ]].groupby(['banner_pos'\n",
    "                                            ]).count().reset_index()['click']\n",
    "df_banner['CTR'] = df_banner['clicks'] / df_banner['impressions'] * 100\n",
    "sort_banners = df_banner.sort_values(by='CTR',\n",
    "                                     ascending=False)['banner_pos'].tolist()\n",
    "plt.figure(figsize=(12, 6))\n",
    "sns.barplot(y='CTR', x='banner_pos', data=df_banner, order=sort_banners)\n",
    "plt.title('banner 位置的点击率的分布')"
   ]
  },
  {
   "cell_type": "code",
   "execution_count": 27,
   "metadata": {},
   "outputs": [
    {
     "name": "stdout",
     "output_type": "stream",
     "text": [
      "1    0.923198\n",
      "0    0.054729\n",
      "4    0.018911\n",
      "5    0.003160\n",
      "2    0.000002\n",
      "Name: device_type, dtype: float64\n"
     ]
    }
   ],
   "source": [
    "print((train.device_type.value_counts() / len(train)))"
   ]
  },
  {
   "cell_type": "code",
   "execution_count": 28,
   "metadata": {},
   "outputs": [
    {
     "data": {
      "text/plain": [
       "<matplotlib.axes._subplots.AxesSubplot at 0x7fc86e3a3bd0>"
      ]
     },
     "execution_count": 28,
     "metadata": {},
     "output_type": "execute_result"
    },
    {
     "data": {
      "image/png": "[encoded data removed]",
      "text/plain": [
       "<Figure size 432x288 with 1 Axes>"
      ]
     },
     "metadata": {
      "needs_background": "light"
     },
     "output_type": "display_data"
    }
   ],
   "source": [
    "# 设备类型\n",
    "train[['device_type',\n",
    "       'click']].groupby(['device_type',\n",
    "                          'click']).size().unstack().plot(kind='bar',\n",
    "                                                          title='设备类型')"
   ]
  },
  {
   "cell_type": "code",
   "execution_count": 29,
   "metadata": {},
   "outputs": [
    {
     "data": {
      "text/plain": [
       "<matplotlib.axes._subplots.AxesSubplot at 0x7fc86e70f1d0>"
      ]
     },
     "execution_count": 29,
     "metadata": {},
     "output_type": "execute_result"
    },
    {
     "data": {
      "image/png": "[encoded data removed]",
      "text/plain": [
       "<Figure size 864x432 with 1 Axes>"
      ]
     },
     "metadata": {
      "needs_background": "light"
     },
     "output_type": "display_data"
    }
   ],
   "source": [
    "df_click[df_click['device_type']==1].groupby(['time', 'click'])\\\n",
    "                                     .size().unstack()\\\n",
    "                                     .plot(kind='bar', title=\"设备1的点击量分布\", figsize=(12,6))"
   ]
  },
  {
   "cell_type": "code",
   "execution_count": 30,
   "metadata": {},
   "outputs": [
    {
     "data": {
      "text/html": [
       "<div>\n",
       "<style scoped>\n",
       "    .dataframe tbody tr th:only-of-type {\n",
       "        vertical-align: middle;\n",
       "    }\n",
       "\n",
       "    .dataframe tbody tr th {\n",
       "        vertical-align: top;\n",
       "    }\n",
       "\n",
       "    .dataframe thead th {\n",
       "        text-align: right;\n",
       "    }\n",
       "</style>\n",
       "<table border=\"1\" class=\"dataframe\">\n",
       "  <thead>\n",
       "    <tr style=\"text-align: right;\">\n",
       "      <th></th>\n",
       "      <th>device_type</th>\n",
       "      <th>click</th>\n",
       "      <th>impressions</th>\n",
       "      <th>CTR</th>\n",
       "    </tr>\n",
       "  </thead>\n",
       "  <tbody>\n",
       "    <tr>\n",
       "      <td>0</td>\n",
       "      <td>0</td>\n",
       "      <td>11624</td>\n",
       "      <td>54729</td>\n",
       "      <td>21.239197</td>\n",
       "    </tr>\n",
       "    <tr>\n",
       "      <td>1</td>\n",
       "      <td>1</td>\n",
       "      <td>155657</td>\n",
       "      <td>923198</td>\n",
       "      <td>16.860630</td>\n",
       "    </tr>\n",
       "    <tr>\n",
       "      <td>2</td>\n",
       "      <td>4</td>\n",
       "      <td>1763</td>\n",
       "      <td>18911</td>\n",
       "      <td>9.322616</td>\n",
       "    </tr>\n",
       "    <tr>\n",
       "      <td>3</td>\n",
       "      <td>5</td>\n",
       "      <td>284</td>\n",
       "      <td>3160</td>\n",
       "      <td>8.987342</td>\n",
       "    </tr>\n",
       "  </tbody>\n",
       "</table>\n",
       "</div>"
      ],
      "text/plain": [
       "   device_type   click  impressions        CTR\n",
       "0            0   11624        54729  21.239197\n",
       "1            1  155657       923198  16.860630\n",
       "2            4    1763        18911   9.322616\n",
       "3            5     284         3160   8.987342"
      ]
     },
     "execution_count": 30,
     "metadata": {},
     "output_type": "execute_result"
    }
   ],
   "source": [
    "device_type_click = df_click.groupby('device_type').agg({\n",
    "    'click': 'sum'\n",
    "}).reset_index()\n",
    "device_type_impression = train.groupby('device_type').agg({\n",
    "    'click': 'count'\n",
    "}).reset_index().rename(columns={'click': 'impressions'})\n",
    "merged_device_type = pd.merge(left=device_type_click,\n",
    "                              right=device_type_impression,\n",
    "                              how='inner',\n",
    "                              on='device_type')\n",
    "\n",
    "merged_device_type['CTR'] = merged_device_type['click'] / merged_device_type[\n",
    "    'impressions'] * 100\n",
    "\n",
    "merged_device_type"
   ]
  },
  {
   "cell_type": "code",
   "execution_count": 31,
   "metadata": {},
   "outputs": [
    {
     "name": "stdout",
     "output_type": "stream",
     "text": [
      "app_id的唯一值有 3156 个\n",
      "app_domain的唯一值有 211 个\n",
      "app_category的唯一值有 27 个\n"
     ]
    }
   ],
   "source": [
    "print(\"app_id的唯一值有 {} 个\".format(train.app_id.nunique()))\n",
    "print(\"app_domain的唯一值有 {} 个\".format(train.app_domain.nunique()))\n",
    "print(\"app_category的唯一值有 {} 个\".format(train.app_category.nunique()))"
   ]
  },
  {
   "cell_type": "code",
   "execution_count": 32,
   "metadata": {},
   "outputs": [
    {
     "name": "stdout",
     "output_type": "stream",
     "text": [
      "07d7df22    0.647338\n",
      "0f2161f8    0.236564\n",
      "cef3e649    0.042752\n",
      "8ded1f7a    0.036355\n",
      "f95efa07    0.028079\n",
      "d1327cf5    0.002980\n",
      "09481d60    0.001354\n",
      "dc97ec06    0.001346\n",
      "75d80bbe    0.000991\n",
      "4ce2e9fc    0.000558\n",
      "fc6fa53d    0.000558\n",
      "879c24eb    0.000311\n",
      "a3c42688    0.000283\n",
      "4681bb9d    0.000163\n",
      "0f9a328c    0.000138\n",
      "a86a3e89    0.000058\n",
      "2281a340    0.000055\n",
      "8df2e842    0.000044\n",
      "79f0b860    0.000026\n",
      "18b1e0be    0.000010\n",
      "0bfbc358    0.000009\n",
      "a7fd01ec    0.000008\n",
      "7113d72a    0.000007\n",
      "2fc4f2aa    0.000006\n",
      "5326cf99    0.000005\n",
      "52de74cf    0.000001\n",
      "6fea3693    0.000001\n",
      "Name: app_category, dtype: float64\n"
     ]
    }
   ],
   "source": [
    "print((train.app_category.value_counts() / len(train)))"
   ]
  },
  {
   "cell_type": "code",
   "execution_count": 33,
   "metadata": {},
   "outputs": [
    {
     "data": {
      "text/plain": [
       "<matplotlib.axes._subplots.AxesSubplot at 0x7fc86ee367d0>"
      ]
     },
     "execution_count": 33,
     "metadata": {},
     "output_type": "execute_result"
    },
    {
     "data": {
      "image/png": "[encoded data removed]",
      "text/plain": [
       "<Figure size 864x432 with 1 Axes>"
      ]
     },
     "metadata": {
      "needs_background": "light"
     },
     "output_type": "display_data"
    }
   ],
   "source": [
    "train['app_category'].value_counts().plot(kind='bar',\n",
    "                                          title='App Category v/s Clicks',\n",
    "                                          figsize=(12, 6))"
   ]
  },
  {
   "cell_type": "code",
   "execution_count": 34,
   "metadata": {},
   "outputs": [
    {
     "data": {
      "text/plain": [
       "<matplotlib.axes._subplots.AxesSubplot at 0x7fc86eebf410>"
      ]
     },
     "execution_count": 34,
     "metadata": {},
     "output_type": "execute_result"
    },
    {
     "data": {
      "image/png": "[encoded data removed]",
      "text/plain": [
       "<Figure size 864x432 with 1 Axes>"
      ]
     },
     "metadata": {
      "needs_background": "light"
     },
     "output_type": "display_data"
    }
   ],
   "source": [
    "train_app_category = train.groupby(['app_category', 'click']).size().unstack()\n",
    "train_app_category.div(train_app_category.sum(axis=1),\n",
    "                       axis=0).plot(kind='bar',\n",
    "                                    stacked=True,\n",
    "                                    title=\"Intra-category CTR\",\n",
    "                                    figsize=(12, 6))"
   ]
  },
  {
   "cell_type": "markdown",
   "metadata": {},
   "source": [
    "建模"
   ]
  },
  {
   "cell_type": "code",
   "execution_count": 35,
   "metadata": {},
   "outputs": [
    {
     "data": {
      "text/html": [
       "<div>\n",
       "<style scoped>\n",
       "    .dataframe tbody tr th:only-of-type {\n",
       "        vertical-align: middle;\n",
       "    }\n",
       "\n",
       "    .dataframe tbody tr th {\n",
       "        vertical-align: top;\n",
       "    }\n",
       "\n",
       "    .dataframe thead th {\n",
       "        text-align: right;\n",
       "    }\n",
       "</style>\n",
       "<table border=\"1\" class=\"dataframe\">\n",
       "  <thead>\n",
       "    <tr style=\"text-align: right;\">\n",
       "      <th></th>\n",
       "      <th>id</th>\n",
       "      <th>click</th>\n",
       "      <th>hour</th>\n",
       "      <th>C1</th>\n",
       "      <th>banner_pos</th>\n",
       "      <th>device_type</th>\n",
       "      <th>device_conn_type</th>\n",
       "      <th>C14</th>\n",
       "      <th>C15</th>\n",
       "      <th>C16</th>\n",
       "      <th>...</th>\n",
       "      <th>site_id_int</th>\n",
       "      <th>site_domain_int</th>\n",
       "      <th>site_category_int</th>\n",
       "      <th>app_id_int</th>\n",
       "      <th>app_domain_int</th>\n",
       "      <th>app_category_int</th>\n",
       "      <th>device_id_int</th>\n",
       "      <th>device_ip_int</th>\n",
       "      <th>device_model_int</th>\n",
       "      <th>day_of_week_int</th>\n",
       "    </tr>\n",
       "  </thead>\n",
       "  <tbody>\n",
       "    <tr>\n",
       "      <td>0</td>\n",
       "      <td>10003539039235338011</td>\n",
       "      <td>0</td>\n",
       "      <td>2014-10-21</td>\n",
       "      <td>1005</td>\n",
       "      <td>0</td>\n",
       "      <td>1</td>\n",
       "      <td>0</td>\n",
       "      <td>15699</td>\n",
       "      <td>320</td>\n",
       "      <td>50</td>\n",
       "      <td>...</td>\n",
       "      <td>-3976607580781852223</td>\n",
       "      <td>7364249105369296360</td>\n",
       "      <td>3216496860130427497</td>\n",
       "      <td>-3647641334236379640</td>\n",
       "      <td>8588734229617674659</td>\n",
       "      <td>3623973394793068134</td>\n",
       "      <td>5973486633720506328</td>\n",
       "      <td>-6633783976926109534</td>\n",
       "      <td>5798681780403498168</td>\n",
       "      <td>-2997558397451300639</td>\n",
       "    </tr>\n",
       "    <tr>\n",
       "      <td>1</td>\n",
       "      <td>10011650513707909570</td>\n",
       "      <td>0</td>\n",
       "      <td>2014-10-21</td>\n",
       "      <td>1005</td>\n",
       "      <td>0</td>\n",
       "      <td>1</td>\n",
       "      <td>0</td>\n",
       "      <td>21611</td>\n",
       "      <td>320</td>\n",
       "      <td>50</td>\n",
       "      <td>...</td>\n",
       "      <td>3625170385561812549</td>\n",
       "      <td>2044844330541558179</td>\n",
       "      <td>1945425056675507354</td>\n",
       "      <td>6089913649826004327</td>\n",
       "      <td>118380000027699491</td>\n",
       "      <td>6451865886099906794</td>\n",
       "      <td>5973486633720506328</td>\n",
       "      <td>8969620697133560012</td>\n",
       "      <td>2209142849494091729</td>\n",
       "      <td>-2997558397451300639</td>\n",
       "    </tr>\n",
       "    <tr>\n",
       "      <td>2</td>\n",
       "      <td>10019174283089529533</td>\n",
       "      <td>0</td>\n",
       "      <td>2014-10-21</td>\n",
       "      <td>1005</td>\n",
       "      <td>0</td>\n",
       "      <td>1</td>\n",
       "      <td>0</td>\n",
       "      <td>9438</td>\n",
       "      <td>320</td>\n",
       "      <td>50</td>\n",
       "      <td>...</td>\n",
       "      <td>4570658853535044790</td>\n",
       "      <td>-2213153036815469423</td>\n",
       "      <td>3216496860130427497</td>\n",
       "      <td>-3647641334236379640</td>\n",
       "      <td>8588734229617674659</td>\n",
       "      <td>3623973394793068134</td>\n",
       "      <td>5973486633720506328</td>\n",
       "      <td>-3920702252082756674</td>\n",
       "      <td>7960912283072746920</td>\n",
       "      <td>-2997558397451300639</td>\n",
       "    </tr>\n",
       "    <tr>\n",
       "      <td>3</td>\n",
       "      <td>10020605367282200605</td>\n",
       "      <td>0</td>\n",
       "      <td>2014-10-21</td>\n",
       "      <td>1005</td>\n",
       "      <td>1</td>\n",
       "      <td>1</td>\n",
       "      <td>0</td>\n",
       "      <td>20359</td>\n",
       "      <td>216</td>\n",
       "      <td>36</td>\n",
       "      <td>...</td>\n",
       "      <td>3972804766066130760</td>\n",
       "      <td>418512646130493063</td>\n",
       "      <td>-2236969705169950808</td>\n",
       "      <td>-3647641334236379640</td>\n",
       "      <td>8588734229617674659</td>\n",
       "      <td>3623973394793068134</td>\n",
       "      <td>5973486633720506328</td>\n",
       "      <td>-4975713955819982432</td>\n",
       "      <td>9150200671181662975</td>\n",
       "      <td>-2997558397451300639</td>\n",
       "    </tr>\n",
       "    <tr>\n",
       "      <td>4</td>\n",
       "      <td>10022778968214273379</td>\n",
       "      <td>0</td>\n",
       "      <td>2014-10-21</td>\n",
       "      <td>1005</td>\n",
       "      <td>1</td>\n",
       "      <td>1</td>\n",
       "      <td>0</td>\n",
       "      <td>18993</td>\n",
       "      <td>320</td>\n",
       "      <td>50</td>\n",
       "      <td>...</td>\n",
       "      <td>6380572753619320498</td>\n",
       "      <td>-3319282642211672362</td>\n",
       "      <td>1954528241914201124</td>\n",
       "      <td>-3647641334236379640</td>\n",
       "      <td>8588734229617674659</td>\n",
       "      <td>3623973394793068134</td>\n",
       "      <td>5973486633720506328</td>\n",
       "      <td>-1767076948413531542</td>\n",
       "      <td>-1016721831278198229</td>\n",
       "      <td>-2997558397451300639</td>\n",
       "    </tr>\n",
       "  </tbody>\n",
       "</table>\n",
       "<p>5 rows × 26 columns</p>\n",
       "</div>"
      ],
      "text/plain": [
       "                     id  click       hour    C1  banner_pos  device_type  \\\n",
       "0  10003539039235338011      0 2014-10-21  1005           0            1   \n",
       "1  10011650513707909570      0 2014-10-21  1005           0            1   \n",
       "2  10019174283089529533      0 2014-10-21  1005           0            1   \n",
       "3  10020605367282200605      0 2014-10-21  1005           1            1   \n",
       "4  10022778968214273379      0 2014-10-21  1005           1            1   \n",
       "\n",
       "   device_conn_type    C14  C15  C16  ...          site_id_int  \\\n",
       "0                 0  15699  320   50  ... -3976607580781852223   \n",
       "1                 0  21611  320   50  ...  3625170385561812549   \n",
       "2                 0   9438  320   50  ...  4570658853535044790   \n",
       "3                 0  20359  216   36  ...  3972804766066130760   \n",
       "4                 0  18993  320   50  ...  6380572753619320498   \n",
       "\n",
       "       site_domain_int    site_category_int           app_id_int  \\\n",
       "0  7364249105369296360  3216496860130427497 -3647641334236379640   \n",
       "1  2044844330541558179  1945425056675507354  6089913649826004327   \n",
       "2 -2213153036815469423  3216496860130427497 -3647641334236379640   \n",
       "3   418512646130493063 -2236969705169950808 -3647641334236379640   \n",
       "4 -3319282642211672362  1954528241914201124 -3647641334236379640   \n",
       "\n",
       "        app_domain_int     app_category_int        device_id_int  \\\n",
       "0  8588734229617674659  3623973394793068134  5973486633720506328   \n",
       "1   118380000027699491  6451865886099906794  5973486633720506328   \n",
       "2  8588734229617674659  3623973394793068134  5973486633720506328   \n",
       "3  8588734229617674659  3623973394793068134  5973486633720506328   \n",
       "4  8588734229617674659  3623973394793068134  5973486633720506328   \n",
       "\n",
       "         device_ip_int     device_model_int      day_of_week_int  \n",
       "0 -6633783976926109534  5798681780403498168 -2997558397451300639  \n",
       "1  8969620697133560012  2209142849494091729 -2997558397451300639  \n",
       "2 -3920702252082756674  7960912283072746920 -2997558397451300639  \n",
       "3 -4975713955819982432  9150200671181662975 -2997558397451300639  \n",
       "4 -1767076948413531542 -1016721831278198229 -2997558397451300639  \n",
       "\n",
       "[5 rows x 26 columns]"
      ]
     },
     "execution_count": 35,
     "metadata": {},
     "output_type": "execute_result"
    }
   ],
   "source": [
    "# 将obj转换为int\n",
    "# hash：用于返回一个对象的哈希值\n",
    "def convert_obj_to_int(self):\n",
    "\n",
    "    object_list_columns = self.columns\n",
    "    object_list_dtypes = self.dtypes\n",
    "    new_col_suffix = '_int'\n",
    "    for index in range(0, len(object_list_columns)):\n",
    "        if object_list_dtypes[index] == object:\n",
    "            self[object_list_columns[index] + new_col_suffix] = self[\n",
    "                object_list_columns[index]].map(lambda x: hash(x))\n",
    "            self.drop([object_list_columns[index]], inplace=True, axis=1)\n",
    "    return self\n",
    "\n",
    "\n",
    "train = convert_obj_to_int(train)\n",
    "train.head()"
   ]
  },
  {
   "cell_type": "code",
   "execution_count": 36,
   "metadata": {},
   "outputs": [],
   "source": [
    "train.drop('hour', axis=1, inplace=True)\n",
    "train.drop('id', axis=1, inplace=True)\n",
    "\n",
    "X_train = train.loc[:, train.columns != 'click']\n",
    "y_target = train.click.values"
   ]
  },
  {
   "cell_type": "code",
   "execution_count": 37,
   "metadata": {},
   "outputs": [],
   "source": [
    "def run_default_test(train, test, features, target, random_state=0):\n",
    "    eta = 0.1\n",
    "    max_depth = 5\n",
    "    subsample = 0.8\n",
    "    colsample_bytree = 0.8\n",
    "    params = {\n",
    "        # 而分类\n",
    "        \"objective\": \"binary:logistic\",\n",
    "        # 树模型\n",
    "        \"booster\": \"gbtree\",\n",
    "        # log损失\n",
    "        \"eval_metric\": \"logloss\",\n",
    "        # 学习率\n",
    "        \"eta\": eta,\n",
    "        # 最大树深度\n",
    "        \"max_depth\": max_depth,\n",
    "        # 训练集占比\n",
    "        \"subsample\": subsample,\n",
    "        # 随机采样比例\n",
    "        \"colsample_bytree\": colsample_bytree,\n",
    "        # 信息输出\n",
    "        \"silent\": 1,\n",
    "        \"seed\": random_state\n",
    "    }\n",
    "    num_boost_round = 260\n",
    "    early_stopping_rounds = 20\n",
    "    test_size = 0.2\n",
    "\n",
    "    X_train, X_valid = train_test_split(train,\n",
    "                                        test_size=test_size,\n",
    "                                        random_state=random_state)\n",
    "    y_train = X_train[target]\n",
    "    y_valid = X_valid[target]\n",
    "    dtrain = xgb.DMatrix(X_train[features], y_train)\n",
    "    dvalid = xgb.DMatrix(X_valid[features], y_valid)\n",
    "    watchlist = [(dtrain, 'train'), (dvalid, 'eval')]\n",
    "    gbm = xgb.train(params,\n",
    "                    dtrain,\n",
    "                    num_boost_round,\n",
    "                    evals=watchlist,\n",
    "                    early_stopping_rounds=early_stopping_rounds,\n",
    "                    verbose_eval=True)"
   ]
  },
  {
   "cell_type": "code",
   "execution_count": 38,
   "metadata": {},
   "outputs": [
    {
     "name": "stderr",
     "output_type": "stream",
     "text": [
      "/Users/seven/opt/anaconda3/lib/python3.7/site-packages/xgboost/core.py:587: FutureWarning: Series.base is deprecated and will be removed in a future version\n",
      "  if getattr(data, 'base', None) is not None and \\\n",
      "/Users/seven/opt/anaconda3/lib/python3.7/site-packages/xgboost/core.py:588: FutureWarning: Series.base is deprecated and will be removed in a future version\n",
      "  data.base is not None and isinstance(data, np.ndarray) \\\n"
     ]
    },
    {
     "name": "stdout",
     "output_type": "stream",
     "text": [
      "[0]\ttrain-logloss:0.648833\teval-logloss:0.648601\n",
      "Multiple eval metrics have been passed: 'eval-logloss' will be used for early stopping.\n",
      "\n",
      "Will train until eval-logloss hasn't improved in 20 rounds.\n",
      "[1]\ttrain-logloss:0.6126\teval-logloss:0.612338\n",
      "[2]\ttrain-logloss:0.582466\teval-logloss:0.582136\n",
      "[3]\ttrain-logloss:0.557667\teval-logloss:0.557161\n",
      "[4]\ttrain-logloss:0.536566\teval-logloss:0.53606\n",
      "[5]\ttrain-logloss:0.51939\teval-logloss:0.518741\n",
      "[6]\ttrain-logloss:0.504379\teval-logloss:0.503619\n",
      "[7]\ttrain-logloss:0.49166\teval-logloss:0.490915\n",
      "[8]\ttrain-logloss:0.481139\teval-logloss:0.480237\n",
      "[9]\ttrain-logloss:0.472043\teval-logloss:0.471097\n",
      "[10]\ttrain-logloss:0.464543\teval-logloss:0.463548\n",
      "[11]\ttrain-logloss:0.458026\teval-logloss:0.45693\n",
      "[12]\ttrain-logloss:0.452323\teval-logloss:0.451208\n",
      "[13]\ttrain-logloss:0.447313\teval-logloss:0.446206\n",
      "[14]\ttrain-logloss:0.443162\teval-logloss:0.441974\n",
      "[15]\ttrain-logloss:0.439557\teval-logloss:0.438399\n",
      "[16]\ttrain-logloss:0.43649\teval-logloss:0.435267\n",
      "[17]\ttrain-logloss:0.433871\teval-logloss:0.432656\n",
      "[18]\ttrain-logloss:0.431739\teval-logloss:0.430447\n",
      "[19]\ttrain-logloss:0.429723\teval-logloss:0.42837\n",
      "[20]\ttrain-logloss:0.427938\teval-logloss:0.426614\n",
      "[21]\ttrain-logloss:0.426493\teval-logloss:0.425187\n",
      "[22]\ttrain-logloss:0.425194\teval-logloss:0.423828\n",
      "[23]\ttrain-logloss:0.424062\teval-logloss:0.422701\n",
      "[24]\ttrain-logloss:0.423193\teval-logloss:0.421817\n",
      "[25]\ttrain-logloss:0.422082\teval-logloss:0.42067\n",
      "[26]\ttrain-logloss:0.421178\teval-logloss:0.41976\n",
      "[27]\ttrain-logloss:0.420567\teval-logloss:0.41912\n",
      "[28]\ttrain-logloss:0.420077\teval-logloss:0.41862\n",
      "[29]\ttrain-logloss:0.419585\teval-logloss:0.41811\n",
      "[30]\ttrain-logloss:0.419097\teval-logloss:0.417646\n",
      "[31]\ttrain-logloss:0.418616\teval-logloss:0.417148\n",
      "[32]\ttrain-logloss:0.418246\teval-logloss:0.416752\n",
      "[33]\ttrain-logloss:0.417714\teval-logloss:0.416237\n",
      "[34]\ttrain-logloss:0.417225\teval-logloss:0.415742\n",
      "[35]\ttrain-logloss:0.416731\teval-logloss:0.415212\n",
      "[36]\ttrain-logloss:0.416308\teval-logloss:0.414764\n",
      "[37]\ttrain-logloss:0.41598\teval-logloss:0.414439\n",
      "[38]\ttrain-logloss:0.415565\teval-logloss:0.414011\n",
      "[39]\ttrain-logloss:0.415365\teval-logloss:0.413815\n",
      "[40]\ttrain-logloss:0.415181\teval-logloss:0.413617\n",
      "[41]\ttrain-logloss:0.414768\teval-logloss:0.413179\n",
      "[42]\ttrain-logloss:0.414593\teval-logloss:0.413017\n",
      "[43]\ttrain-logloss:0.414367\teval-logloss:0.412789\n",
      "[44]\ttrain-logloss:0.414078\teval-logloss:0.4125\n",
      "[45]\ttrain-logloss:0.413811\teval-logloss:0.412223\n",
      "[46]\ttrain-logloss:0.413655\teval-logloss:0.412085\n",
      "[47]\ttrain-logloss:0.413375\teval-logloss:0.411795\n",
      "[48]\ttrain-logloss:0.413269\teval-logloss:0.411679\n",
      "[49]\ttrain-logloss:0.412955\teval-logloss:0.411348\n",
      "[50]\ttrain-logloss:0.412674\teval-logloss:0.411077\n",
      "[51]\ttrain-logloss:0.412504\teval-logloss:0.410889\n",
      "[52]\ttrain-logloss:0.412315\teval-logloss:0.410716\n",
      "[53]\ttrain-logloss:0.412176\teval-logloss:0.410587\n",
      "[54]\ttrain-logloss:0.41192\teval-logloss:0.410331\n",
      "[55]\ttrain-logloss:0.41172\teval-logloss:0.41011\n",
      "[56]\ttrain-logloss:0.411575\teval-logloss:0.409973\n",
      "[57]\ttrain-logloss:0.411439\teval-logloss:0.40984\n",
      "[58]\ttrain-logloss:0.411345\teval-logloss:0.40974\n",
      "[59]\ttrain-logloss:0.411088\teval-logloss:0.409496\n",
      "[60]\ttrain-logloss:0.41087\teval-logloss:0.409298\n",
      "[61]\ttrain-logloss:0.410746\teval-logloss:0.409183\n",
      "[62]\ttrain-logloss:0.410644\teval-logloss:0.40906\n",
      "[63]\ttrain-logloss:0.410491\teval-logloss:0.408919\n",
      "[64]\ttrain-logloss:0.410298\teval-logloss:0.408724\n",
      "[65]\ttrain-logloss:0.410216\teval-logloss:0.408656\n",
      "[66]\ttrain-logloss:0.410067\teval-logloss:0.408526\n",
      "[67]\ttrain-logloss:0.409974\teval-logloss:0.408437\n",
      "[68]\ttrain-logloss:0.409719\teval-logloss:0.408184\n",
      "[69]\ttrain-logloss:0.409588\teval-logloss:0.408056\n",
      "[70]\ttrain-logloss:0.409463\teval-logloss:0.407926\n",
      "[71]\ttrain-logloss:0.409342\teval-logloss:0.407824\n",
      "[72]\ttrain-logloss:0.409193\teval-logloss:0.407674\n",
      "[73]\ttrain-logloss:0.409073\teval-logloss:0.407541\n",
      "[74]\ttrain-logloss:0.408942\teval-logloss:0.407412\n",
      "[75]\ttrain-logloss:0.408819\teval-logloss:0.407273\n",
      "[76]\ttrain-logloss:0.408694\teval-logloss:0.407181\n",
      "[77]\ttrain-logloss:0.408591\teval-logloss:0.407072\n",
      "[78]\ttrain-logloss:0.408451\teval-logloss:0.40694\n",
      "[79]\ttrain-logloss:0.408342\teval-logloss:0.406846\n",
      "[80]\ttrain-logloss:0.408255\teval-logloss:0.40678\n",
      "[81]\ttrain-logloss:0.408196\teval-logloss:0.406747\n",
      "[82]\ttrain-logloss:0.408109\teval-logloss:0.406671\n",
      "[83]\ttrain-logloss:0.408073\teval-logloss:0.406642\n",
      "[84]\ttrain-logloss:0.408004\teval-logloss:0.406579\n",
      "[85]\ttrain-logloss:0.407895\teval-logloss:0.406478\n",
      "[86]\ttrain-logloss:0.407859\teval-logloss:0.406457\n",
      "[87]\ttrain-logloss:0.407782\teval-logloss:0.406399\n",
      "[88]\ttrain-logloss:0.407683\teval-logloss:0.406315\n",
      "[89]\ttrain-logloss:0.407543\teval-logloss:0.406183\n",
      "[90]\ttrain-logloss:0.407485\teval-logloss:0.406136\n",
      "[91]\ttrain-logloss:0.407386\teval-logloss:0.406052\n",
      "[92]\ttrain-logloss:0.407315\teval-logloss:0.405998\n",
      "[93]\ttrain-logloss:0.407268\teval-logloss:0.405944\n",
      "[94]\ttrain-logloss:0.407232\teval-logloss:0.405928\n",
      "[95]\ttrain-logloss:0.407124\teval-logloss:0.405858\n",
      "[96]\ttrain-logloss:0.407086\teval-logloss:0.40583\n",
      "[97]\ttrain-logloss:0.406969\teval-logloss:0.405713\n",
      "[98]\ttrain-logloss:0.406863\teval-logloss:0.405631\n",
      "[99]\ttrain-logloss:0.406806\teval-logloss:0.405586\n",
      "[100]\ttrain-logloss:0.406753\teval-logloss:0.405538\n",
      "[101]\ttrain-logloss:0.406651\teval-logloss:0.405458\n",
      "[102]\ttrain-logloss:0.406556\teval-logloss:0.405382\n",
      "[103]\ttrain-logloss:0.406491\teval-logloss:0.405342\n",
      "[104]\ttrain-logloss:0.406452\teval-logloss:0.405303\n",
      "[105]\ttrain-logloss:0.406336\teval-logloss:0.405204\n",
      "[106]\ttrain-logloss:0.406298\teval-logloss:0.405179\n",
      "[107]\ttrain-logloss:0.406241\teval-logloss:0.405138\n",
      "[108]\ttrain-logloss:0.406198\teval-logloss:0.405101\n",
      "[109]\ttrain-logloss:0.406088\teval-logloss:0.40498\n",
      "[110]\ttrain-logloss:0.406007\teval-logloss:0.404917\n",
      "[111]\ttrain-logloss:0.405942\teval-logloss:0.404853\n",
      "[112]\ttrain-logloss:0.405911\teval-logloss:0.40483\n",
      "[113]\ttrain-logloss:0.405789\teval-logloss:0.404736\n",
      "[114]\ttrain-logloss:0.405708\teval-logloss:0.404661\n",
      "[115]\ttrain-logloss:0.405616\teval-logloss:0.404571\n",
      "[116]\ttrain-logloss:0.405528\teval-logloss:0.404491\n",
      "[117]\ttrain-logloss:0.405477\teval-logloss:0.404444\n",
      "[118]\ttrain-logloss:0.405365\teval-logloss:0.404327\n",
      "[119]\ttrain-logloss:0.405337\teval-logloss:0.404314\n",
      "[120]\ttrain-logloss:0.405311\teval-logloss:0.404297\n",
      "[121]\ttrain-logloss:0.405245\teval-logloss:0.404234\n",
      "[122]\ttrain-logloss:0.40515\teval-logloss:0.404152\n",
      "[123]\ttrain-logloss:0.40512\teval-logloss:0.404128\n",
      "[124]\ttrain-logloss:0.404945\teval-logloss:0.40395\n",
      "[125]\ttrain-logloss:0.404891\teval-logloss:0.403908\n",
      "[126]\ttrain-logloss:0.404814\teval-logloss:0.403848\n",
      "[127]\ttrain-logloss:0.404777\teval-logloss:0.403822\n",
      "[128]\ttrain-logloss:0.404732\teval-logloss:0.403796\n",
      "[129]\ttrain-logloss:0.404699\teval-logloss:0.403771\n",
      "[130]\ttrain-logloss:0.40465\teval-logloss:0.403728\n",
      "[131]\ttrain-logloss:0.404608\teval-logloss:0.403691\n",
      "[132]\ttrain-logloss:0.404564\teval-logloss:0.403653\n",
      "[133]\ttrain-logloss:0.404532\teval-logloss:0.403635\n",
      "[134]\ttrain-logloss:0.40448\teval-logloss:0.40358\n",
      "[135]\ttrain-logloss:0.404429\teval-logloss:0.403542\n",
      "[136]\ttrain-logloss:0.404375\teval-logloss:0.403509\n",
      "[137]\ttrain-logloss:0.404301\teval-logloss:0.403439\n",
      "[138]\ttrain-logloss:0.404153\teval-logloss:0.403322\n",
      "[139]\ttrain-logloss:0.404088\teval-logloss:0.403275\n",
      "[140]\ttrain-logloss:0.404037\teval-logloss:0.403243\n",
      "[141]\ttrain-logloss:0.403987\teval-logloss:0.403208\n",
      "[142]\ttrain-logloss:0.403934\teval-logloss:0.403162\n",
      "[143]\ttrain-logloss:0.403871\teval-logloss:0.403119\n",
      "[144]\ttrain-logloss:0.403806\teval-logloss:0.403064\n",
      "[145]\ttrain-logloss:0.403762\teval-logloss:0.403028\n",
      "[146]\ttrain-logloss:0.403701\teval-logloss:0.402958\n",
      "[147]\ttrain-logloss:0.403643\teval-logloss:0.402913\n",
      "[148]\ttrain-logloss:0.403599\teval-logloss:0.402877\n",
      "[149]\ttrain-logloss:0.403545\teval-logloss:0.402842\n",
      "[150]\ttrain-logloss:0.403502\teval-logloss:0.40282\n",
      "[151]\ttrain-logloss:0.403484\teval-logloss:0.402806\n",
      "[152]\ttrain-logloss:0.403448\teval-logloss:0.402778\n",
      "[153]\ttrain-logloss:0.403376\teval-logloss:0.402717\n",
      "[154]\ttrain-logloss:0.403347\teval-logloss:0.402715\n",
      "[155]\ttrain-logloss:0.403304\teval-logloss:0.402679\n",
      "[156]\ttrain-logloss:0.403245\teval-logloss:0.402636\n",
      "[157]\ttrain-logloss:0.40319\teval-logloss:0.402592\n",
      "[158]\ttrain-logloss:0.403153\teval-logloss:0.402559\n",
      "[159]\ttrain-logloss:0.403139\teval-logloss:0.402551\n",
      "[160]\ttrain-logloss:0.403085\teval-logloss:0.402495\n"
     ]
    },
    {
     "name": "stdout",
     "output_type": "stream",
     "text": [
      "[161]\ttrain-logloss:0.40298\teval-logloss:0.402395\n",
      "[162]\ttrain-logloss:0.402928\teval-logloss:0.402352\n",
      "[163]\ttrain-logloss:0.402868\teval-logloss:0.402301\n",
      "[164]\ttrain-logloss:0.40281\teval-logloss:0.402263\n",
      "[165]\ttrain-logloss:0.402745\teval-logloss:0.402215\n",
      "[166]\ttrain-logloss:0.402704\teval-logloss:0.402183\n",
      "[167]\ttrain-logloss:0.402665\teval-logloss:0.402152\n",
      "[168]\ttrain-logloss:0.402633\teval-logloss:0.40214\n",
      "[169]\ttrain-logloss:0.402611\teval-logloss:0.402126\n",
      "[170]\ttrain-logloss:0.402568\teval-logloss:0.402097\n",
      "[171]\ttrain-logloss:0.40254\teval-logloss:0.402085\n",
      "[172]\ttrain-logloss:0.402459\teval-logloss:0.40201\n",
      "[173]\ttrain-logloss:0.40242\teval-logloss:0.40199\n",
      "[174]\ttrain-logloss:0.402386\teval-logloss:0.401965\n",
      "[175]\ttrain-logloss:0.402328\teval-logloss:0.401921\n",
      "[176]\ttrain-logloss:0.402303\teval-logloss:0.401912\n",
      "[177]\ttrain-logloss:0.402214\teval-logloss:0.401837\n",
      "[178]\ttrain-logloss:0.402184\teval-logloss:0.401813\n",
      "[179]\ttrain-logloss:0.402125\teval-logloss:0.401756\n",
      "[180]\ttrain-logloss:0.402088\teval-logloss:0.401732\n",
      "[181]\ttrain-logloss:0.402042\teval-logloss:0.401697\n",
      "[182]\ttrain-logloss:0.401998\teval-logloss:0.401664\n",
      "[183]\ttrain-logloss:0.401972\teval-logloss:0.401663\n",
      "[184]\ttrain-logloss:0.401897\teval-logloss:0.401598\n",
      "[185]\ttrain-logloss:0.401875\teval-logloss:0.40158\n",
      "[186]\ttrain-logloss:0.401833\teval-logloss:0.401554\n",
      "[187]\ttrain-logloss:0.401784\teval-logloss:0.401523\n",
      "[188]\ttrain-logloss:0.401739\teval-logloss:0.4015\n",
      "[189]\ttrain-logloss:0.401677\teval-logloss:0.40144\n",
      "[190]\ttrain-logloss:0.401643\teval-logloss:0.401418\n",
      "[191]\ttrain-logloss:0.401628\teval-logloss:0.40142\n",
      "[192]\ttrain-logloss:0.401594\teval-logloss:0.401406\n",
      "[193]\ttrain-logloss:0.401566\teval-logloss:0.401384\n",
      "[194]\ttrain-logloss:0.401543\teval-logloss:0.401378\n",
      "[195]\ttrain-logloss:0.401517\teval-logloss:0.401372\n",
      "[196]\ttrain-logloss:0.401502\teval-logloss:0.401371\n",
      "[197]\ttrain-logloss:0.401446\teval-logloss:0.401339\n",
      "[198]\ttrain-logloss:0.401427\teval-logloss:0.401331\n",
      "[199]\ttrain-logloss:0.401365\teval-logloss:0.401282\n",
      "[200]\ttrain-logloss:0.401286\teval-logloss:0.401209\n",
      "[201]\ttrain-logloss:0.401242\teval-logloss:0.401167\n",
      "[202]\ttrain-logloss:0.401218\teval-logloss:0.40116\n",
      "[203]\ttrain-logloss:0.401149\teval-logloss:0.4011\n",
      "[204]\ttrain-logloss:0.40109\teval-logloss:0.401069\n",
      "[205]\ttrain-logloss:0.401027\teval-logloss:0.401023\n",
      "[206]\ttrain-logloss:0.401005\teval-logloss:0.401007\n",
      "[207]\ttrain-logloss:0.40096\teval-logloss:0.400966\n",
      "[208]\ttrain-logloss:0.400927\teval-logloss:0.400958\n",
      "[209]\ttrain-logloss:0.400887\teval-logloss:0.400934\n",
      "[210]\ttrain-logloss:0.40085\teval-logloss:0.400921\n",
      "[211]\ttrain-logloss:0.400821\teval-logloss:0.400899\n",
      "[212]\ttrain-logloss:0.400788\teval-logloss:0.400872\n",
      "[213]\ttrain-logloss:0.400764\teval-logloss:0.400858\n",
      "[214]\ttrain-logloss:0.400709\teval-logloss:0.400807\n",
      "[215]\ttrain-logloss:0.400677\teval-logloss:0.400788\n",
      "[216]\ttrain-logloss:0.400638\teval-logloss:0.400763\n",
      "[217]\ttrain-logloss:0.400606\teval-logloss:0.400741\n",
      "[218]\ttrain-logloss:0.400577\teval-logloss:0.400717\n",
      "[219]\ttrain-logloss:0.400565\teval-logloss:0.400711\n",
      "[220]\ttrain-logloss:0.400526\teval-logloss:0.400683\n",
      "[221]\ttrain-logloss:0.400492\teval-logloss:0.400669\n",
      "[222]\ttrain-logloss:0.400456\teval-logloss:0.400649\n",
      "[223]\ttrain-logloss:0.400423\teval-logloss:0.400634\n",
      "[224]\ttrain-logloss:0.400375\teval-logloss:0.400606\n",
      "[225]\ttrain-logloss:0.400349\teval-logloss:0.400591\n",
      "[226]\ttrain-logloss:0.400316\teval-logloss:0.400569\n",
      "[227]\ttrain-logloss:0.400286\teval-logloss:0.40055\n",
      "[228]\ttrain-logloss:0.400252\teval-logloss:0.400523\n",
      "[229]\ttrain-logloss:0.400216\teval-logloss:0.400499\n",
      "[230]\ttrain-logloss:0.400152\teval-logloss:0.400448\n",
      "[231]\ttrain-logloss:0.400134\teval-logloss:0.400445\n",
      "[232]\ttrain-logloss:0.400091\teval-logloss:0.400413\n",
      "[233]\ttrain-logloss:0.40005\teval-logloss:0.400382\n",
      "[234]\ttrain-logloss:0.399998\teval-logloss:0.400334\n",
      "[235]\ttrain-logloss:0.39998\teval-logloss:0.400325\n",
      "[236]\ttrain-logloss:0.399942\teval-logloss:0.400301\n",
      "[237]\ttrain-logloss:0.39991\teval-logloss:0.400286\n",
      "[238]\ttrain-logloss:0.399897\teval-logloss:0.400283\n",
      "[239]\ttrain-logloss:0.399829\teval-logloss:0.400227\n",
      "[240]\ttrain-logloss:0.399811\teval-logloss:0.400224\n",
      "[241]\ttrain-logloss:0.399781\teval-logloss:0.4002\n",
      "[242]\ttrain-logloss:0.399767\teval-logloss:0.400196\n",
      "[243]\ttrain-logloss:0.399753\teval-logloss:0.400194\n",
      "[244]\ttrain-logloss:0.399729\teval-logloss:0.400179\n",
      "[245]\ttrain-logloss:0.399676\teval-logloss:0.400151\n",
      "[246]\ttrain-logloss:0.399648\teval-logloss:0.400134\n",
      "[247]\ttrain-logloss:0.399629\teval-logloss:0.40013\n",
      "[248]\ttrain-logloss:0.399566\teval-logloss:0.400067\n",
      "[249]\ttrain-logloss:0.399528\teval-logloss:0.400049\n",
      "[250]\ttrain-logloss:0.399502\teval-logloss:0.400041\n",
      "[251]\ttrain-logloss:0.399478\teval-logloss:0.40003\n",
      "[252]\ttrain-logloss:0.39944\teval-logloss:0.400012\n",
      "[253]\ttrain-logloss:0.399415\teval-logloss:0.399992\n",
      "[254]\ttrain-logloss:0.399381\teval-logloss:0.399971\n",
      "[255]\ttrain-logloss:0.399346\teval-logloss:0.399959\n",
      "[256]\ttrain-logloss:0.39932\teval-logloss:0.399944\n",
      "[257]\ttrain-logloss:0.399304\teval-logloss:0.399936\n",
      "[258]\ttrain-logloss:0.39926\teval-logloss:0.399914\n",
      "[259]\ttrain-logloss:0.399225\teval-logloss:0.399893\n"
     ]
    }
   ],
   "source": [
    "features = [\n",
    "    'C1', 'banner_pos', 'device_type', 'device_conn_type', 'C14', 'C15', 'C16',\n",
    "    'C17', 'C18', 'C19', 'C20', 'C21', 'time', 'site_id_int',\n",
    "    'site_domain_int', 'site_category_int', 'app_id_int', 'app_domain_int',\n",
    "    'app_category_int', 'device_id_int', 'device_ip_int', 'device_model_int',\n",
    "    'day_of_week_int'\n",
    "]\n",
    "run_default_test(train, y_target, features, 'click')"
   ]
  },
  {
   "cell_type": "code",
   "execution_count": null,
   "metadata": {},
   "outputs": [],
   "source": []
  }
 ],
 "metadata": {
  "kernelspec": {
   "display_name": "Python 3",
   "language": "python",
   "name": "python3"
  },
  "language_info": {
   "codemirror_mode": {
    "name": "ipython",
    "version": 3
   },
   "file_extension": ".py",
   "mimetype": "text/x-python",
   "name": "python",
   "nbconvert_exporter": "python",
   "pygments_lexer": "ipython3",
   "version": "3.7.6"
  },
  "latex_envs": {
   "LaTeX_envs_menu_present": true,
   "autoclose": false,
   "autocomplete": true,
   "bibliofile": "biblio.bib",
   "cite_by": "apalike",
   "current_citInitial": 1,
   "eqLabelWithNumbers": true,
   "eqNumInitial": 1,
   "hotkeys": {
    "equation": "Ctrl-E",
    "itemize": "Ctrl-I"
   },
   "labels_anchors": false,
   "latex_user_defs": false,
   "report_style_numbering": false,
   "user_envs_cfg": false
  },
  "toc": {
   "base_numbering": 1,
   "nav_menu": {},
   "number_sections": true,
   "sideBar": true,
   "skip_h1_title": false,
   "title_cell": "Table of Contents",
   "title_sidebar": "Contents",
   "toc_cell": false,
   "toc_position": {},
   "toc_section_display": true,
   "toc_window_display": false
  }
 },
 "nbformat": 4,
 "nbformat_minor": 2
}
