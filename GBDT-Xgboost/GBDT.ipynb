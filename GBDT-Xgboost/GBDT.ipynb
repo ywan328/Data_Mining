{
 "cells": [
  {
   "cell_type": "code",
   "execution_count": 1,
   "metadata": {},
   "outputs": [
    {
     "data": {
      "text/plain": [
       "array([[-1.5415874 ,  0.22739278, -1.35338886, ...,  0.86727663,\n",
       "         0.40520408, -0.06964158],\n",
       "       [-1.02125401,  0.39232256,  0.42971434, ..., -0.75693055,\n",
       "         1.5038265 , -0.036413  ],\n",
       "       [ 0.65880214, -0.65276145, -1.18488744, ..., -0.91798431,\n",
       "        -0.04648116, -1.21868383],\n",
       "       ...,\n",
       "       [-0.09834549, -1.2550679 , -0.04217711, ..., -0.41783444,\n",
       "         0.31709817,  0.60367669],\n",
       "       [ 0.32099947, -1.12658943, -0.33945432, ...,  1.60286363,\n",
       "         0.27623985, -0.67832984],\n",
       "       [ 1.83708069, -0.00296475,  1.80144921, ...,  0.11230769,\n",
       "         0.33109242,  1.51848293]])"
      ]
     },
     "execution_count": 1,
     "metadata": {},
     "output_type": "execute_result"
    }
   ],
   "source": [
    "from sklearn.datasets import make_regression\n",
    "from sklearn.ensemble import GradientBoostingRegressor\n",
    "from sklearn.model_selection import train_test_split\n",
    "\n",
    "X, y = make_regression(random_state=0)\n",
    "X_train, X_test, y_train, y_test = train_test_split(X, y, random_state=0)\n",
    "reg = GradientBoostingRegressor(random_state=0)\n",
    "reg.fit(X_train, y_train)\n",
    "reg.predict(X_test[1:2])\n",
    "reg.score(X_test, y_test)\n",
    "\n",
    "X"
   ]
  },
  {
   "cell_type": "code",
   "execution_count": 2,
   "metadata": {},
   "outputs": [
    {
     "data": {
      "text/plain": [
       "array([ 5.89981499e+01, -1.51472301e+02,  3.92774675e+00,  1.30275835e+02,\n",
       "        2.04728060e+00,  1.01587138e+02, -1.81389163e+02, -1.99827729e+02,\n",
       "        2.36839440e+02,  3.00206479e+02,  2.71801441e+01,  2.76530071e+01,\n",
       "        4.44317863e+01, -2.97416896e+01, -1.65646056e+02,  1.06302533e+02,\n",
       "       -2.38325493e+02, -1.27217684e+02, -1.49696870e+02,  3.91961166e+01,\n",
       "       -3.38549645e+00,  1.44280015e+02, -6.77946699e+01, -8.78067763e+01,\n",
       "        2.59043702e+02, -1.98514664e+02,  1.24378523e+01, -7.03056179e+01,\n",
       "        1.53948181e+02, -1.12712395e+02,  6.01916320e+01, -1.02364589e+02,\n",
       "        8.02760399e+01, -2.54989466e+02, -2.65026472e+01,  8.45554208e+01,\n",
       "       -7.86065692e+01,  6.59383309e+00, -8.40267190e+01, -1.88440481e+02,\n",
       "       -1.05322661e+02, -1.48609151e+02,  3.19325058e+02, -1.03811985e+01,\n",
       "       -1.66106829e+02, -1.92127360e+00, -1.66459184e+02,  2.22568255e+02,\n",
       "       -1.90733117e+02, -4.47361111e+00, -1.40862199e+02, -1.04998874e+02,\n",
       "       -1.55406951e+02,  8.84001312e+01,  1.10668159e+01,  2.17822668e+02,\n",
       "       -2.30191323e+02, -9.53599988e+01,  1.43696372e+02, -1.51545011e+01,\n",
       "       -6.01995736e+01, -7.87414903e+01,  5.49872561e+01, -9.60694579e+01,\n",
       "        1.02073292e+02, -1.82433407e+02,  1.43967921e+01,  2.57273352e+01,\n",
       "       -3.11997026e+01, -6.92314397e+01, -1.55678062e+02, -2.42752747e+01,\n",
       "       -1.92480844e+01,  2.01408422e+02, -1.61883070e+02,  2.53833013e-01,\n",
       "        1.66969921e+02,  7.10931137e+01, -4.85818195e+01, -3.12184318e+01,\n",
       "       -2.73168840e+02,  3.00308517e+00, -1.33474939e+01,  1.21349806e+02,\n",
       "       -7.92412566e+01,  4.61451813e+01, -2.39554177e+02, -4.81780542e+00,\n",
       "        4.82434320e+01,  5.70661767e+01,  5.59382489e+01,  1.77274799e+02,\n",
       "       -5.81475360e+01, -1.15194499e+02,  1.17344962e+02,  5.81688314e+01,\n",
       "       -7.85896400e+01,  1.59876618e+01, -2.50470392e+02, -2.19074129e+02])"
      ]
     },
     "execution_count": 2,
     "metadata": {},
     "output_type": "execute_result"
    }
   ],
   "source": [
    "y"
   ]
  },
  {
   "cell_type": "code",
   "execution_count": 3,
   "metadata": {},
   "outputs": [],
   "source": [
    "import numpy as np\n",
    "import matplotlib.pyplot as plt\n",
    "from sklearn import ensemble\n",
    "from sklearn import datasets\n",
    "from sklearn.metrics import mean_squared_error\n",
    "from sklearn.model_selection import train_test_split"
   ]
  },
  {
   "cell_type": "code",
   "execution_count": 4,
   "metadata": {},
   "outputs": [
    {
     "name": "stdout",
     "output_type": "stream",
     "text": [
      "MSE: 15.3039\n"
     ]
    }
   ],
   "source": [
    "# 加载数据\n",
    "boston = datasets.load_boston()\n",
    "X = boston.data\n",
    "y = boston.target\n",
    "X_train, X_test, y_train, y_test = train_test_split(X, y, random_state=13)\n",
    "# 设置参数\n",
    "# 1、迭代次数 2、最⼤深度 3、最⼩样本数 4、学习率 5、损失函数(最⼩⼆乘)\n",
    "params = {\n",
    "    'n_estimators': 500,\n",
    "    'max_depth': 4,\n",
    "    'min_samples_split': 0.5,\n",
    "    'learning_rate': 0.01\n",
    "}\n",
    "clf = ensemble.GradientBoostingRegressor(**params)\n",
    "clf.fit(X_train, y_train)\n",
    "mse = mean_squared_error(y_test, clf.predict(X_test))\n",
    "print(\"MSE: %.4f\" % mse)"
   ]
  },
  {
   "cell_type": "code",
   "execution_count": 5,
   "metadata": {},
   "outputs": [
    {
     "data": {
      "text/plain": [
       "Text(0, 0.5, 'Deviance')"
      ]
     },
     "execution_count": 5,
     "metadata": {},
     "output_type": "execute_result"
    },
    {
     "data": {
      "image/png": "[encoded data removed]",
      "text/plain": [
       "<Figure size 864x432 with 1 Axes>"
      ]
     },
     "metadata": {
      "needs_background": "light"
     },
     "output_type": "display_data"
    }
   ],
   "source": [
    "# 训练误差\n",
    "# 测试误差\n",
    "test_score = np.zeros((params['n_estimators'], ), dtype=np.float64)\n",
    "# staged_predict():预测每⼀轮迭代后输⼊样本的预测值\n",
    "for i, y_pred in enumerate(clf.staged_predict(X_test)):\n",
    "    test_score[i] = clf.loss_(y_test, y_pred)\n",
    "\n",
    "plt.figure(figsize=(12, 6))\n",
    "plt.subplot(1, 2, 1)\n",
    "plt.title('Deviance')\n",
    "plt.plot(np.arange(params['n_estimators']) + 1,\n",
    "         clf.train_score_, 'b-', label='Training Set Deviance')\n",
    "plt.plot(np.arange(params['n_estimators']) + 1,\n",
    "         test_score, 'r-', label='Test Set Deviance')\n",
    "plt.legend(loc='upper right')\n",
    "plt.xlabel('Boosting Iterations')\n",
    "plt.ylabel('Deviance')"
   ]
  },
  {
   "cell_type": "code",
   "execution_count": 6,
   "metadata": {},
   "outputs": [
    {
     "data": {
      "text/plain": [
       "0.913"
      ]
     },
     "execution_count": 6,
     "metadata": {},
     "output_type": "execute_result"
    }
   ],
   "source": [
    "from sklearn.datasets import make_hastie_10_2\n",
    "from sklearn.ensemble import GradientBoostingClassifier\n",
    "\n",
    "X, y = make_hastie_10_2(random_state=0)\n",
    "X_train, X_test = X[:2000], X[2000:]\n",
    "y_train, y_test = y[:2000], y[2000:]\n",
    "clf = GradientBoostingClassifier(n_estimators=100,learning_rate=1.0,max_depth=1,random_state=0).fit(X_train, y_train)\n",
    "clf.score(X_test, y_test)"
   ]
  },
  {
   "cell_type": "code",
   "execution_count": 7,
   "metadata": {},
   "outputs": [
    {
     "name": "stdout",
     "output_type": "stream",
     "text": [
      "(5000, 784) (5000,) (1000, 784) (1000,)\n"
     ]
    }
   ],
   "source": [
    "import gzip\n",
    "import pickle as pkl\n",
    "from sklearn.model_selection import train_test_split\n",
    "\n",
    "def load_data(path):\n",
    "    f = gzip.open(path, 'rb')\n",
    "    train_set, valid_set, test_set = pkl.load(f, encoding='latin1')\n",
    "    f.close()\n",
    "    return (train_set, valid_set, test_set)\n",
    "\n",
    "path = 'mnist.pkl.gz'\n",
    "train_set, valid_set, test_set = load_data(path)\n",
    "Xtrain, _, ytrain, _ = train_test_split(train_set[0], train_set[1], test_size=0.9)\n",
    "Xtest, _, ytest, _ = train_test_split(test_set[0], test_set[1], test_size=0.9)\n",
    "print(Xtrain.shape, ytrain.shape, Xtest.shape, ytest.shape)"
   ]
  },
  {
   "cell_type": "code",
   "execution_count": 8,
   "metadata": {},
   "outputs": [
    {
     "data": {
      "text/plain": [
       "array([0, 2, 2, ..., 0, 8, 4], dtype=int64)"
      ]
     },
     "execution_count": 8,
     "metadata": {},
     "output_type": "execute_result"
    }
   ],
   "source": [
    "ytrain"
   ]
  },
  {
   "cell_type": "code",
   "execution_count": 9,
   "metadata": {},
   "outputs": [
    {
     "name": "stdout",
     "output_type": "stream",
     "text": [
      "The training time = 34.48551034927368\n",
      "Test accuracy = 0.836\n"
     ]
    }
   ],
   "source": [
    "from sklearn.ensemble import GradientBoostingClassifier\n",
    "import numpy as np\n",
    "import time\n",
    "\n",
    "clf = GradientBoostingClassifier(n_estimators=10, learning_rate=0.1,max_depth=3)\n",
    "start_time = time.time()\n",
    "clf.fit(Xtrain, ytrain)\n",
    "end_time = time.time()\n",
    "print('The training time = {}'.format(end_time - start_time))\n",
    "\n",
    "# prediction and evaluation\n",
    "pred = clf.predict(Xtest)\n",
    "accuracy = np.sum(pred == ytest) / pred.shape[0]\n",
    "print('Test accuracy = {}'.format(accuracy))"
   ]
  },
  {
   "cell_type": "code",
   "execution_count": 10,
   "metadata": {},
   "outputs": [
    {
     "name": "stdout",
     "output_type": "stream",
     "text": [
      "0.0354569936370468 0.0\n"
     ]
    },
    {
     "data": {
      "image/png": "[encoded data removed]",
      "text/plain": [
       "<Figure size 432x288 with 1 Axes>"
      ]
     },
     "metadata": {
      "needs_background": "light"
     },
     "output_type": "display_data"
    }
   ],
   "source": [
    "# 查看特征重要性\n",
    "%matplotlib inline\n",
    "import matplotlib.pyplot as plt\n",
    "plt.hist(clf.feature_importances_)\n",
    "print(max(clf.feature_importances_), min(clf.feature_importances_))"
   ]
  }
 ],
 "metadata": {
  "kernelspec": {
   "display_name": "Python 3",
   "language": "python",
   "name": "python3"
  },
  "language_info": {
   "codemirror_mode": {
    "name": "ipython",
    "version": 3
   },
   "file_extension": ".py",
   "mimetype": "text/x-python",
   "name": "python",
   "nbconvert_exporter": "python",
   "pygments_lexer": "ipython3",
   "version": "3.7.6"
  },
  "toc": {
   "base_numbering": 1,
   "nav_menu": {},
   "number_sections": true,
   "sideBar": true,
   "skip_h1_title": false,
   "title_cell": "Table of Contents",
   "title_sidebar": "Contents",
   "toc_cell": false,
   "toc_position": {},
   "toc_section_display": true,
   "toc_window_display": false
  }
 },
 "nbformat": 4,
 "nbformat_minor": 4
}
